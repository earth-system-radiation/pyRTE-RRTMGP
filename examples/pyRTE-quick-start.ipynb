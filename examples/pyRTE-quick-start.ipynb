{
 "cells": [
  {
   "cell_type": "markdown",
   "id": "b89f66e0",
   "metadata": {},
   "source": [
    "# Using pyRTE"
   ]
  },
  {
   "cell_type": "markdown",
   "id": "f775cb43",
   "metadata": {},
   "source": [
    "## Overview\n",
    "\n",
    "PyRTE-RRTMGP provides a flexible and efficient framework for computing radiative fluxes in planetary atmospheres. This example shows an end-to-end problem with both clear skies and clouds.\n",
    "\n",
    "To use RTE and RRTMGP you'll need to:\n",
    "\n",
    "1. Load data for cloud and gas optics \n",
    "\n",
    "Each calculation requires \n",
    "\n",
    "2. Computing gas and cloud optical properties and combining them to produce an all-sky problem\n",
    "3. Solving the radiative transfer equation to obtain upward and downward fluxes\n",
    "\n",
    "The package leverages `xarray` to represent data. Input data sets to the cloud and gas optics functions need to have specific datasets and specific dimensions. \n",
    "\n",
    "This example demonstrates the workflow for both longwave and shortwave radiative transfer calculations.\n",
    "\n",
    "See the [documentation](https://pyrte-rrtmgp.readthedocs.io/en/latest/) for more information."
   ]
  },
  {
   "cell_type": "markdown",
   "id": "6ec1e2b6",
   "metadata": {},
   "source": [
    "# Initialization"
   ]
  },
  {
   "cell_type": "markdown",
   "id": "1a94a3ed",
   "metadata": {},
   "source": [
    "## Plotting - off by default "
   ]
  },
  {
   "cell_type": "code",
   "execution_count": null,
   "id": "3c7dc92f",
   "metadata": {},
   "outputs": [],
   "source": [
    "do_plots = False"
   ]
  },
  {
   "cell_type": "markdown",
   "id": "5070621b",
   "metadata": {},
   "source": [
    "## Import dependencies"
   ]
  },
  {
   "cell_type": "code",
   "execution_count": null,
   "id": "b0741ae3",
   "metadata": {},
   "outputs": [],
   "source": [
    "%matplotlib inline\n",
    "\n",
    "from dask.diagnostics import ProgressBar\n",
    "import xarray as xr\n",
    "\n",
    "if do_plots: import matplotlib.pyplot as plt"
   ]
  },
  {
   "cell_type": "markdown",
   "id": "22787715",
   "metadata": {},
   "source": [
    "## Import pyRTE entitites \n",
    "\n",
    "(The organization is a work in progress) "
   ]
  },
  {
   "cell_type": "code",
   "execution_count": null,
   "id": "5be32d5c",
   "metadata": {},
   "outputs": [],
   "source": [
    "from pyrte_rrtmgp import rrtmgp_cloud_optics, rrtmgp_gas_optics\n",
    "from pyrte_rrtmgp.data_types import (\n",
    "    CloudOpticsFiles,\n",
    "    GasOpticsFiles,\n",
    "    OpticsProblemTypes,\n",
    ")\n",
    "from pyrte_rrtmgp.rte_solver import rte_solve\n",
    "from pyrte_rrtmgp.examples import (\n",
    "    compute_RCE_clouds,\n",
    "    compute_RCE_profiles,\n",
    "    ALLSKY_EXAMPLES,\n",
    "    load_example_file,\n",
    ")"
   ]
  },
  {
   "cell_type": "markdown",
   "id": "d15af8e2",
   "metadata": {},
   "source": [
    "## Initialize gas and cloud optics "
   ]
  },
  {
   "cell_type": "code",
   "execution_count": null,
   "id": "7190fb1a",
   "metadata": {},
   "outputs": [],
   "source": [
    "cloud_optics_lw = rrtmgp_cloud_optics.load_cloud_optics(\n",
    "    cloud_optics_file=CloudOpticsFiles.LW_BND\n",
    ")\n",
    "gas_optics_lw = rrtmgp_gas_optics.load_gas_optics(\n",
    "    gas_optics_file=GasOpticsFiles.LW_G256\n",
    ")\n",
    "\n",
    "cloud_optics_sw = rrtmgp_cloud_optics.load_cloud_optics(\n",
    "    cloud_optics_file=CloudOpticsFiles.SW_BND\n",
    ")\n",
    "gas_optics_sw = rrtmgp_gas_optics.load_gas_optics(\n",
    "    gas_optics_file=GasOpticsFiles.SW_G224\n",
    ")"
   ]
  },
  {
   "cell_type": "markdown",
   "id": "1841d31c",
   "metadata": {},
   "source": [
    "The optics classes are `xarray Datasets` but the underlying data isn't meant to be accessed directly."
   ]
  },
  {
   "cell_type": "code",
   "execution_count": null,
   "id": "8fe3335b",
   "metadata": {},
   "outputs": [],
   "source": [
    "cloud_optics_lw, gas_optics_lw"
   ]
  },
  {
   "cell_type": "markdown",
   "id": "1df6ff95",
   "metadata": {},
   "source": [
    "# Create an idealized problem \n",
    "\n",
    "## Temperature, humidity, composition\n",
    "\n",
    "The routine `compute_RCE_profiles()` packaged with `pyRTE_RRTMGP` computes temperature, pressure, and humidity profiles following a moist adibat. The concentrations of other gases are also needed."
   ]
  },
  {
   "cell_type": "code",
   "execution_count": null,
   "id": "2c4eafe1",
   "metadata": {},
   "outputs": [],
   "source": [
    "def make_profiles(ncol=24, nlay=72):\n",
    "    # Create atmospheric profiles and gas concentrations\n",
    "    atmosphere = compute_RCE_profiles(300, ncol, nlay)\n",
    "\n",
    "    # Add other gas values\n",
    "    gas_values = {\n",
    "        \"co2\": 348e-6,\n",
    "        \"ch4\": 1650e-9,\n",
    "        \"n2o\": 306e-9,\n",
    "        \"n2\": 0.7808,\n",
    "        \"o2\": 0.2095,\n",
    "        \"co\": 0.0,\n",
    "    }\n",
    "\n",
    "    for gas_name, value in gas_values.items():\n",
    "        atmosphere[gas_name] = value\n",
    "\n",
    "    return atmosphere\n",
    "\n",
    "\n",
    "atmosphere = make_profiles()"
   ]
  },
  {
   "cell_type": "markdown",
   "id": "e550d6af",
   "metadata": {},
   "source": [
    "The dataset produced by `make_profiles` variable contains the minimum amount of information needed to compute clear-sky optical properties: \n",
    "- vertical dimensions `layer` and `level` with one more `level` than `layer`\n",
    "- values of pressure and temperature on both vertical coordinates\n",
    "- a surface temperature (for longwave problems)\n",
    "- concentrations of seven gases defined on layers"
   ]
  },
  {
   "cell_type": "code",
   "execution_count": null,
   "id": "6f6e6817",
   "metadata": {},
   "outputs": [],
   "source": [
    "atmosphere"
   ]
  },
  {
   "cell_type": "markdown",
   "id": "48dda323",
   "metadata": {},
   "source": [
    "## Clouds \n",
    "\n",
    "`compute_RCE_clouds()` adds clouds (liquid and ice water path, liquid radius and ice diameter) to 2/3 of the columns "
   ]
  },
  {
   "cell_type": "code",
   "execution_count": null,
   "id": "3b05d492",
   "metadata": {},
   "outputs": [],
   "source": [
    "#\n",
    "# Temporary workaround - compute_RCE_clouds() needs to know the particle size;\n",
    "#   that's set as the mid-point of the valid range from cloud_optics\n",
    "#\n",
    "cloud_props = compute_RCE_clouds(\n",
    "    cloud_optics_lw, atmosphere[\"pres_layer\"], atmosphere[\"temp_layer\"]\n",
    ")\n",
    "\n",
    "atmosphere = atmosphere.merge(cloud_props)\n",
    "atmosphere"
   ]
  },
  {
   "cell_type": "markdown",
   "id": "3b9c6956",
   "metadata": {},
   "source": [
    "# Longwave fluxes\n",
    "\n",
    "Taking one step at a time... First we will compute the optical properties of the gases (clear skies). \n",
    "\n",
    "## Clear-sky fluxes"
   ]
  },
  {
   "cell_type": "code",
   "execution_count": null,
   "id": "38120de8",
   "metadata": {},
   "outputs": [],
   "source": [
    "optical_props = gas_optics_lw.compute_gas_optics(\n",
    "    atmosphere, \n",
    "    problem_type=OpticsProblemTypes.ABSORPTION, \n",
    "    add_to_input=False,\n",
    ")"
   ]
  },
  {
   "cell_type": "markdown",
   "id": "b97a63bb",
   "metadata": {},
   "source": [
    "The optical property for absorption/emission problems is optical depth `tau` which has a spectral dimension (`gpt`). The gas optics calculation also provides the radiation source functions, which for a longwave problem is the Planck function at the layer, level, and surface temperatures. "
   ]
  },
  {
   "cell_type": "code",
   "execution_count": null,
   "id": "c396289f",
   "metadata": {},
   "outputs": [],
   "source": [
    "optical_props"
   ]
  },
  {
   "cell_type": "markdown",
   "id": "776b19ec",
   "metadata": {},
   "source": [
    "Apply the boundary conditions:"
   ]
  },
  {
   "cell_type": "code",
   "execution_count": null,
   "id": "c47892e8",
   "metadata": {},
   "outputs": [],
   "source": [
    "optical_props[\"surface_emissivity\"] = 0.98"
   ]
  },
  {
   "cell_type": "markdown",
   "id": "c253d9d4",
   "metadata": {},
   "source": [
    "Dataset `optical_props` now contains a complete description of a longwave radiative transfer problem: \n",
    "- optical properties (`tau` for problem without scattering)\n",
    "- radiation sources (`layer_source`, `level_source`, and `surface_source` for problems with internal emission)\n",
    "- boundary conditions (`surface_emissivity` for problems with internal emission)\n",
    "These variables are `spectrally-resolved` i.e. they have a `gpt` dimension\n",
    "\n",
    "So we can compute fluxes (spectrally-integrated by default) "
   ]
  },
  {
   "cell_type": "code",
   "execution_count": null,
   "id": "0f9663be",
   "metadata": {},
   "outputs": [],
   "source": [
    "clr_fluxes = rte_solve(optical_props, add_to_input=False)\n",
    "clr_fluxes"
   ]
  },
  {
   "cell_type": "markdown",
   "id": "eda0c93c",
   "metadata": {},
   "source": [
    "What do the fluxes look like? They're the same in every column so plot just the first."
   ]
  },
  {
   "cell_type": "code",
   "execution_count": null,
   "id": "7517d558",
   "metadata": {},
   "outputs": [],
   "source": [
    "if do_plots:\n",
    "    plt.plot(clr_fluxes.lw_flux_up.isel(column=0),   clr_fluxes.level, label=\"Flux up\")\n",
    "    plt.plot(clr_fluxes.lw_flux_down.isel(column=0), clr_fluxes.level, label=\"Flux down\")\n",
    "    plt.legend(frameon=False)"
   ]
  },
  {
   "cell_type": "markdown",
   "id": "6af502d3",
   "metadata": {},
   "source": [
    "## Cloudy-sky fluxes\n",
    "\n",
    "Next compute the optical properties of the clouds. Because we're treating absorption the only output is `tau`. The source functions aren't returned because the temperature isn't known. "
   ]
  },
  {
   "cell_type": "code",
   "execution_count": null,
   "id": "e2503733",
   "metadata": {},
   "outputs": [],
   "source": [
    "clouds_optical_props = cloud_optics_lw.compute_cloud_optics(\n",
    "    atmosphere, problem_type=OpticsProblemTypes.ABSORPTION\n",
    ")\n",
    "# The optical properties of the clouds alone\n",
    "clouds_optical_props"
   ]
  },
  {
   "cell_type": "markdown",
   "id": "bc132a86",
   "metadata": {},
   "source": [
    "Next compute the combined optical properties of the clouds and gases with `add_to()`, which updates the optical properties in its argument."
   ]
  },
  {
   "cell_type": "code",
   "execution_count": null,
   "id": "3d667efb",
   "metadata": {},
   "outputs": [],
   "source": [
    "# add_to() changes the value of `optical_props`\n",
    "clouds_optical_props.add_to(optical_props)\n",
    "optical_props"
   ]
  },
  {
   "cell_type": "code",
   "execution_count": null,
   "id": "17c73fa4",
   "metadata": {},
   "outputs": [],
   "source": [
    "fluxes = rte_solve(optical_props, add_to_input=False)"
   ]
  },
  {
   "cell_type": "code",
   "execution_count": null,
   "id": "6beeea87",
   "metadata": {},
   "outputs": [],
   "source": [
    "if do_plots:\n",
    "    plt.plot(fluxes.lw_flux_up.isel  (column=0), fluxes.level, label=\"LW all-sky flux up\")\n",
    "    plt.plot(fluxes.lw_flux_down.isel(column=0), fluxes.level, label=\"LW all-sky down\")\n",
    "    plt.plot(fluxes.lw_flux_up.isel  (column=2), fluxes.level, label=\"LW clear flux up\")\n",
    "    plt.plot(fluxes.lw_flux_down.isel(column=2), fluxes.level, label=\"LW clear flux down\")\n",
    "    plt.legend(frameon=False)"
   ]
  },
  {
   "cell_type": "markdown",
   "id": "bd4eab0f",
   "metadata": {},
   "source": [
    "# Shortwave fluxes\n",
    "\n",
    "Shortwave problems require different sets of optical properties, source, and boundary conditions. The first two \n",
    "are provided by the shortwave gas optics, as you'll see. \n",
    "Python allows intermediate steps to be combined. For example we can compute the all-sky optical properties directly by combining\n",
    "the `gas_optics()`, `cloud_optics()`, and `add_to()` steps:"
   ]
  },
  {
   "cell_type": "code",
   "execution_count": null,
   "id": "2ef7d293",
   "metadata": {},
   "outputs": [],
   "source": [
    "# add_to() also returns updated optical properties \n",
    "optical_props = cloud_optics_sw.compute_cloud_optics(atmosphere).add_to(\n",
    "    gas_optics_sw.compute_gas_optics(\n",
    "        atmosphere, \n",
    "        problem_type=OpticsProblemTypes.TWO_STREAM, \n",
    "        add_to_input=False,\n",
    "    ), \n",
    "    delta_scale=True,\n",
    ")"
   ]
  },
  {
   "cell_type": "markdown",
   "id": "96bce0fa",
   "metadata": {},
   "source": [
    "(Delta scaling increases accuracy for clouds, which have strong forward scattering (large `g`))."
   ]
  },
  {
   "cell_type": "markdown",
   "id": "c8a49650",
   "metadata": {},
   "source": [
    "Dataset `optical_props` now contains a nearly-complete description of a shortwave radiative transfer problem: \n",
    "- optical properties (`tau`, `ssa`, and `g` define a two-stream problem)\n",
    "- radiation source (`toa_source`, `level_source`, and `surface_source` for the incoming sunlight as a collimated beam)\n",
    "These variables are `spectrally-resolved` i.e. they have a `gpt` dimension"
   ]
  },
  {
   "cell_type": "code",
   "execution_count": null,
   "id": "32d99174",
   "metadata": {},
   "outputs": [],
   "source": [
    "optical_props"
   ]
  },
  {
   "cell_type": "markdown",
   "id": "028eee42",
   "metadata": {},
   "source": [
    "To compute fluxes the boundary condition needs to specified by supplying `surface_albedo` or the respective albedos for direct and diffuse radiation (`surface_albedo_direct`, `surface_albedo_diffuse`) as well as the cosine of the incident solar zenith angle `mu0`. \n"
   ]
  },
  {
   "cell_type": "code",
   "execution_count": null,
   "id": "904a3df0",
   "metadata": {},
   "outputs": [],
   "source": [
    "optical_props[\"surface_albedo\"] = 0.06\n",
    "optical_props[\"mu0\"] = 0.86\n",
    "fluxes = rte_solve(optical_props, add_to_input=False)"
   ]
  },
  {
   "cell_type": "markdown",
   "id": "7567e6ea",
   "metadata": {},
   "source": [
    "The returned fluxes include the total downwelling (`sw_flux_down`) and the direct beam component of that flux (`sw_flux_dir`) "
   ]
  },
  {
   "cell_type": "code",
   "execution_count": null,
   "id": "b9c7624c",
   "metadata": {},
   "outputs": [],
   "source": [
    "if do_plots:\n",
    "    plt.plot(fluxes.sw_flux_up.isel  (column=0), fluxes.level, label=\"SW all-sky flux up\")\n",
    "    plt.plot(fluxes.sw_flux_down.isel(column=0), fluxes.level, label=\"SW all-sky down\")\n",
    "    plt.plot(fluxes.sw_flux_up.isel  (column=2), fluxes.level, label=\"SW clear flux up\")\n",
    "    plt.plot(fluxes.sw_flux_down.isel(column=2), fluxes.level, label=\"SW clear flux down\")\n",
    "    plt.legend(frameon=False)"
   ]
  },
  {
   "cell_type": "markdown",
   "id": "c119f8e6",
   "metadata": {},
   "source": [
    "## Variants \n",
    "\n",
    "### Combining steps\n",
    "The computation of optical properties and fluxes can be combined:"
   ]
  },
  {
   "cell_type": "code",
   "execution_count": null,
   "id": "30ce15f2",
   "metadata": {},
   "outputs": [],
   "source": [
    "fluxes = rte_solve(\n",
    "    xr.merge(\n",
    "        [cloud_optics_sw.compute_cloud_optics(atmosphere).add_to(\n",
    "            gas_optics_sw.compute_gas_optics(\n",
    "                atmosphere, \n",
    "                problem_type=OpticsProblemTypes.TWO_STREAM, \n",
    "                add_to_input=False,\n",
    "            ), \n",
    "            delta_scale=True,\n",
    "        ), \n",
    "        xr.Dataset(data_vars = {\"surface_albedo\":0.06, \"mu0\":0.86})],\n",
    "    ), \n",
    "    add_to_input = False,\n",
    ")\n",
    "\n",
    "# ### Parallelization with dask\n",
    "# Calculations can be divided and performed in parallel using `dask` using dask arrays. The only restriction is that \n",
    "# vertical dimensions can't be chuncked over  "
   ]
  },
  {
   "cell_type": "code",
   "execution_count": null,
   "id": "71742544",
   "metadata": {},
   "outputs": [],
   "source": [
    "atmosphere = make_profiles(ncol=24*16)\n",
    "cloud_props = compute_RCE_clouds(\n",
    "    cloud_optics_lw, atmosphere[\"pres_layer\"], atmosphere[\"temp_layer\"]\n",
    ")\n",
    "\n",
    "atmosphere = atmosphere.merge(cloud_props).chunk({\"column\":16})\n",
    "atmosphere"
   ]
  },
  {
   "cell_type": "code",
   "execution_count": null,
   "id": "7ac9ec2e",
   "metadata": {},
   "outputs": [],
   "source": [
    "with ProgressBar():\n",
    "    fluxes = rte_solve(\n",
    "        xr.merge(\n",
    "            [cloud_optics_sw.compute_cloud_optics(atmosphere).add_to(\n",
    "                gas_optics_sw.compute_gas_optics(\n",
    "                    atmosphere, \n",
    "                    problem_type=OpticsProblemTypes.TWO_STREAM, \n",
    "                    add_to_input=False,\n",
    "                ), \n",
    "                delta_scale=True,\n",
    "            ), \n",
    "            xr.Dataset(data_vars = {\"surface_albedo\":0.06, \"mu0\":0.86})],\n",
    "        ), \n",
    "        add_to_input = False,\n",
    "    )"
   ]
  },
  {
   "cell_type": "code",
   "execution_count": null,
   "id": "1a800c1a",
   "metadata": {},
   "outputs": [],
   "source": []
  }
 ],
 "metadata": {
  "kernelspec": {
   "display_name": "pyRTE",
   "language": "python",
   "name": "pyrte"
  }
 },
 "nbformat": 4,
 "nbformat_minor": 5
}
