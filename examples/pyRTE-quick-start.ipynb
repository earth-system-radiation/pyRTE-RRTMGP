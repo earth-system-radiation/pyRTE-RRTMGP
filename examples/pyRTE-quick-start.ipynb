{
 "cells": [
  {
   "cell_type": "markdown",
   "id": "73d473ee-9bbf-4748-97ee-88e51911dbe9",
   "metadata": {},
   "source": [
    "# Using pyRTE"
   ]
  },
  {
   "cell_type": "markdown",
   "id": "4db8168f-817f-4d94-8c4f-ae888d3694c7",
   "metadata": {},
   "source": [
    "## Overview\n",
    "\n",
    "PyRTE-RRTMGP provides a flexible and efficient framework for computing radiative fluxes in planetary atmospheres. This example shows an end-to-end problem with both clear skies and clouds.\n",
    "\n",
    "To use RTE and RRTMGP you'll need to:\n",
    "\n",
    "1. Load data for cloud and gas optics \n",
    "\n",
    "Each calculation requires \n",
    "\n",
    "2. Computing gas and cloud optical properties and combining them to produce an all-sky problem\n",
    "3. Solving the radiative transfer equation to obtain upward and downward fluxes\n",
    "\n",
    "The package leverages `xarray` to represent data. Input data sets to the cloud and gas optics functions need to have specific datasets and specific dimensions. \n",
    "\n",
    "This example demonstrates the workflow for both longwave and shortwave radiative transfer calculations.\n",
    "\n",
    "See the [documentation](https://pyrte-rrtmgp.readthedocs.io/en/latest/) for more information."
   ]
  },
  {
   "cell_type": "markdown",
   "id": "277d5408-e782-44d1-bdaf-7cba1d1242c8",
   "metadata": {},
   "source": [
    "# Initialization"
   ]
  },
  {
   "cell_type": "markdown",
   "id": "4b83d767",
   "metadata": {},
   "source": [
    "## Plotting - off by default "
   ]
  },
  {
   "cell_type": "code",
   "execution_count": null,
   "id": "abc2a86c",
   "metadata": {},
   "outputs": [],
   "source": [
    "do_plots = False"
   ]
  },
  {
   "cell_type": "markdown",
   "id": "bc76d1f8-d7d4-4386-9646-aa2e43cfe35a",
   "metadata": {},
   "source": [
    "## Import dependencies"
   ]
  },
  {
   "cell_type": "code",
   "execution_count": null,
   "id": "85655d80-0ec5-427d-b598-734a913698a9",
   "metadata": {},
   "outputs": [],
   "source": [
    "%matplotlib inline\n",
    "\n",
    "from dask.diagnostics import ProgressBar\n",
    "import xarray as xr\n",
    "\n",
    "if do_plots: import matplotlib.pyplot as plt"
   ]
  },
  {
   "cell_type": "markdown",
   "id": "4de86bb6-f6e1-4f92-9887-48c357bf57ee",
   "metadata": {},
   "source": [
    "## Import pyRTE entitites \n",
    "\n",
    "(The organization is a work in progress) "
   ]
  },
  {
   "cell_type": "code",
   "execution_count": null,
   "id": "e2f2d941-c411-4c86-927f-bf6d7534e76f",
   "metadata": {},
   "outputs": [],
   "source": [
    "from pyrte_rrtmgp import rrtmgp_cloud_optics, rrtmgp_gas_optics\n",
    "from pyrte_rrtmgp.data_types import (\n",
    "    AllSkyExampleFiles,\n",
    "    CloudOpticsFiles,\n",
    "    GasOpticsFiles,\n",
    "    OpticsProblemTypes,\n",
    ")\n",
    "from pyrte_rrtmgp.rte_solver import rte_solve\n",
    "from pyrte_rrtmgp.utils import (\n",
    "    compute_clouds,\n",
    "    compute_profiles,\n",
    "    load_rrtmgp_file,\n",
    ")"
   ]
  },
  {
   "cell_type": "markdown",
   "id": "ea414ff5-57c6-47ee-86af-1cf9a7469459",
   "metadata": {},
   "source": [
    "## Initialize gas and cloud optics "
   ]
  },
  {
   "cell_type": "code",
   "execution_count": null,
   "id": "38228413-bfcb-47d8-b435-cf19f5c12340",
   "metadata": {},
   "outputs": [],
   "source": [
    "cloud_optics_lw = rrtmgp_cloud_optics.load_cloud_optics(\n",
    "    cloud_optics_file=CloudOpticsFiles.LW_BND\n",
    ")\n",
    "gas_optics_lw = rrtmgp_gas_optics.load_gas_optics(\n",
    "    gas_optics_file=GasOpticsFiles.LW_G256\n",
    ")\n",
    "\n",
    "cloud_optics_sw = rrtmgp_cloud_optics.load_cloud_optics(\n",
    "    cloud_optics_file=CloudOpticsFiles.SW_BND\n",
    ")\n",
    "gas_optics_sw = rrtmgp_gas_optics.load_gas_optics(\n",
    "    gas_optics_file=GasOpticsFiles.SW_G224\n",
    ")"
   ]
  },
  {
   "cell_type": "markdown",
   "id": "9c98396c-3115-4162-9d78-d44866c5f5d0",
   "metadata": {},
   "source": [
    "The optics classes are `xarray Datasets` but the underlying data isn't meant to be accessed directly."
   ]
  },
  {
   "cell_type": "code",
   "execution_count": null,
   "id": "47e04b36-b8d4-40c3-95e1-d49ef5db974b",
   "metadata": {},
   "outputs": [],
   "source": [
    "cloud_optics_lw, gas_optics_lw"
   ]
  },
  {
   "cell_type": "markdown",
   "id": "7efd7ab1-46d9-44b3-830a-9ff1a7820251",
   "metadata": {},
   "source": [
    "# Create an idealized problem \n",
    "\n",
    "## Temperature, humidity, composition\n",
    "\n",
    "The routine `compute_profiles()` packaged with `pyRTE_RRTMGP` computes temperature, pressure, and humidity profiles following a moist adibat. The concentrations of other gases are also needed."
   ]
  },
  {
   "cell_type": "code",
   "execution_count": null,
   "id": "335899c1-9e92-4330-9071-dec3e514b52c",
   "metadata": {},
   "outputs": [],
   "source": [
    "def make_profiles(ncol=24, nlay=72):\n",
    "    # Create atmospheric profiles and gas concentrations\n",
    "    atmosphere = compute_profiles(300, ncol, nlay)\n",
    "\n",
    "    # Add other gas values\n",
    "    gas_values = {\n",
    "        \"co2\": 348e-6,\n",
    "        \"ch4\": 1650e-9,\n",
    "        \"n2o\": 306e-9,\n",
    "        \"n2\": 0.7808,\n",
    "        \"o2\": 0.2095,\n",
    "        \"co\": 0.0,\n",
    "    }\n",
    "\n",
    "    for gas_name, value in gas_values.items():\n",
    "        atmosphere[gas_name] = value\n",
    "\n",
    "    return atmosphere\n",
    "\n",
    "\n",
    "atmosphere = make_profiles()"
   ]
  },
  {
   "cell_type": "markdown",
   "id": "92d04488-f212-4114-a344-e9ddddae5351",
   "metadata": {},
   "source": [
    "The dataset produced by `make_profiles` variable contains the minimum amount of information needed to compute clear-sky optical properties: \n",
    "- vertical dimensions `layer` and `level` with one more `level` than `layer`\n",
    "- values of pressure and temperature on both vertical coordinates\n",
    "- a surface temperature (for longwave problems)\n",
    "- concentrations of seven gases defined on layers"
   ]
  },
  {
   "cell_type": "code",
   "execution_count": null,
   "id": "c7ac31e1-8b11-4f15-9e42-8f1625bf4555",
   "metadata": {},
   "outputs": [],
   "source": [
    "atmosphere"
   ]
  },
  {
   "cell_type": "markdown",
   "id": "08db1edb-a2ae-49b6-b810-20dbb4714ed1",
   "metadata": {},
   "source": [
    "## Clouds \n",
    "\n",
    "`compute_clouds()` adds clouds (liquid and ice water path, liquid radius and ice diameter) to 2/3 of the columns "
   ]
  },
  {
   "cell_type": "code",
   "execution_count": null,
   "id": "a82f9313-bbac-42bb-93ed-175228d63ac4",
   "metadata": {},
   "outputs": [],
   "source": [
    "#\n",
    "# Temporary workaround - compute_clouds() needs to know the particle size;\n",
    "#   that's set as the mid-point of the valid range from cloud_optics\n",
    "#\n",
    "cloud_props = compute_clouds(\n",
    "    cloud_optics_lw, atmosphere[\"pres_layer\"], atmosphere[\"temp_layer\"]\n",
    ")\n",
    "\n",
    "atmosphere = atmosphere.merge(cloud_props)\n",
    "atmosphere"
   ]
  },
  {
   "cell_type": "markdown",
   "id": "e77a8560-8138-473b-9411-5293d72c7b7c",
   "metadata": {},
   "source": [
    "# Longwave fluxes\n",
    "\n",
    "Taking one step at a time... First we will compute the optical properties of the gases (clear skies). \n",
    "\n",
    "## Clear-sky fluxes"
   ]
  },
  {
   "cell_type": "code",
   "execution_count": null,
   "id": "48208949-7026-42a5-b17b-1df050014bf4",
   "metadata": {},
   "outputs": [],
   "source": [
    "optical_props = gas_optics_lw.compute_gas_optics(\n",
    "    atmosphere, \n",
    "    problem_type=OpticsProblemTypes.ABSORPTION, \n",
    "    add_to_input=False,\n",
    ")"
   ]
  },
  {
   "cell_type": "markdown",
   "id": "9b5ff819-5938-45da-a0c4-fa686a3ff868",
   "metadata": {},
   "source": [
    "The optical property for absorption/emission problems is optical depth `tau` which has a spectral dimension (`gpt`). The gas optics calculation also provides the radiation source functions, which for a longwave problem is the Planck function at the layer, level, and surface temperatures. "
   ]
  },
  {
   "cell_type": "code",
   "execution_count": null,
   "id": "74bc7606-f3f5-4bdf-b962-c30a2a722004",
   "metadata": {},
   "outputs": [],
   "source": [
    "optical_props"
   ]
  },
  {
   "cell_type": "markdown",
   "id": "6b97fbdf-a981-4711-bf80-89c5fbb22c2c",
   "metadata": {},
   "source": [
    "Apply the boundary conditions:"
   ]
  },
  {
   "cell_type": "code",
   "execution_count": null,
   "id": "d9a68191-8cf8-4dd5-b949-2c6554ad997d",
   "metadata": {},
   "outputs": [],
   "source": [
    "optical_props[\"surface_emissivity\"] = 0.98"
   ]
  },
  {
   "cell_type": "markdown",
   "id": "1096ca7e-20bb-4843-be6c-d72e84f7e463",
   "metadata": {},
   "source": [
    "Dataset `optical_props` now contains a complete description of a longwave radiative transfer problem: \n",
    "- optical properties (`tau` for problem without scattering)\n",
    "- radiation sources (`layer_source`, `level_source`, and `surface_source` for problems with internal emission)\n",
    "- boundary conditions (`surface_emissivity` for problems with internal emission)\n",
    "These variables are `spectrally-resolved` i.e. they have a `gpt` dimension\n",
    "\n",
    "So we can compute fluxes (spectrally-integrated by default) "
   ]
  },
  {
   "cell_type": "code",
   "execution_count": null,
   "id": "539764b8-3593-4197-ba00-40c876f45fd1",
   "metadata": {},
   "outputs": [],
   "source": [
    "clr_fluxes = rte_solve(optical_props, add_to_input=False)\n",
    "clr_fluxes"
   ]
  },
  {
   "cell_type": "markdown",
   "id": "6019d45b-6b13-461f-ba19-167e5191f8e5",
   "metadata": {},
   "source": [
    "What do the fluxes look like? They're the same in every column so plot just the first."
   ]
  },
  {
   "cell_type": "code",
   "execution_count": null,
   "id": "8497cfb2-b18b-45f6-b242-0ea34bdf60d8",
   "metadata": {},
   "outputs": [],
   "source": [
    "if do_plots:\n",
    "    plt.plot(clr_fluxes.lw_flux_up.isel(site=0),   clr_fluxes.level, label=\"Flux up\")\n",
    "    plt.plot(clr_fluxes.lw_flux_down.isel(site=0), clr_fluxes.level, label=\"Flux down\")\n",
    "    plt.legend(frameon=False)"
   ]
  },
  {
   "cell_type": "markdown",
   "id": "36ec6cd9-a7ad-4b48-8ab9-0af1d3ede637",
   "metadata": {},
   "source": [
    "## Cloudy-sky fluxes\n",
    "\n",
    "Next compute the optical properties of the clouds. Because we're treating absorption the only output is `tau`. The source functions aren't returned because the temperature isn't known. "
   ]
  },
  {
   "cell_type": "code",
   "execution_count": null,
   "id": "0a3f5bc2-8ed6-4783-a556-e51f03e12af2",
   "metadata": {},
   "outputs": [],
   "source": [
    "clouds_optical_props = cloud_optics_lw.compute_cloud_optics(\n",
    "    atmosphere, problem_type=OpticsProblemTypes.ABSORPTION\n",
    ")\n",
    "# The optical properties of the clouds alone\n",
    "clouds_optical_props"
   ]
  },
  {
   "cell_type": "markdown",
   "id": "a2885af4-2e2e-4412-a834-12da1f8a1369",
   "metadata": {},
   "source": [
    "Next compute the combined optical properties of the clouds and gases with `add_to()`, which updates the optical properties in its argument."
   ]
  },
  {
   "cell_type": "code",
   "execution_count": null,
   "id": "43679159-4d00-4c0d-a183-5aaab37b721f",
   "metadata": {},
   "outputs": [],
   "source": [
    "# add_to() changes the value of `optical_props`\n",
    "clouds_optical_props.add_to(optical_props)\n",
    "optical_props"
   ]
  },
  {
   "cell_type": "code",
   "execution_count": null,
   "id": "aa897c63-ad35-499b-93ba-1a73461af8c8",
   "metadata": {},
   "outputs": [],
   "source": [
    "fluxes = rte_solve(optical_props, add_to_input=False)"
   ]
  },
  {
   "cell_type": "code",
   "execution_count": null,
   "id": "f7ba2a0d-c2e6-491d-8c41-ba10d070fe80",
   "metadata": {},
   "outputs": [],
   "source": [
    "if do_plots:\n",
    "    plt.plot(fluxes.lw_flux_up.isel  (site=0), fluxes.level, label=\"LW all-sky flux up\")\n",
    "    plt.plot(fluxes.lw_flux_down.isel(site=0), fluxes.level, label=\"LW all-sky down\")\n",
    "    plt.plot(fluxes.lw_flux_up.isel  (site=2), fluxes.level, label=\"LW clear flux up\")\n",
    "    plt.plot(fluxes.lw_flux_down.isel(site=2), fluxes.level, label=\"LW clear flux down\")\n",
    "    plt.legend(frameon=False)"
   ]
  },
  {
   "cell_type": "markdown",
   "id": "dbaa2f67",
   "metadata": {},
   "source": [
    "# Shortwave fluxes\n",
    "\n",
    "Shortwave problems require different sets of optical properties, source, and boundary conditions. The first two \n",
    "are provided by the shortwave gas optics, as you'll see. \n",
    "Python allows intermediate steps to be combined. For example we can compute the all-sky optical properties directly by combining\n",
    "the `gas_optics()`, `cloud_optics()`, and `add_to()` steps:"
   ]
  },
  {
   "cell_type": "code",
   "execution_count": null,
   "id": "1bb82257-3b17-4056-a14c-eb2469b47819",
   "metadata": {},
   "outputs": [],
   "source": [
    "# add_to() also returns updated optical properties \n",
    "optical_props = cloud_optics_sw.compute_cloud_optics(atmosphere).add_to(\n",
    "    gas_optics_sw.compute_gas_optics(\n",
    "        atmosphere, \n",
    "        problem_type=OpticsProblemTypes.TWO_STREAM, \n",
    "        add_to_input=False,\n",
    "    ), \n",
    "    delta_scale=True,\n",
    ")"
   ]
  },
  {
   "cell_type": "markdown",
   "id": "5a0c97e7",
   "metadata": {},
   "source": [
    "(Delta scaling increases accuracy for clouds, which have strong forward scattering (large `g`))."
   ]
  },
  {
   "cell_type": "markdown",
   "id": "51e2c337-cf07-4487-9cde-957f4ccfe766",
   "metadata": {},
   "source": [
    "Dataset `optical_props` now contains a nearly-complete description of a shortwave radiative transfer problem: \n",
    "- optical properties (`tau`, `ssa`, and `g` define a two-stream problem)\n",
    "- radiation source (`toa_source`, `level_source`, and `surface_source` for the incoming sunlight as a collimated beam)\n",
    "These variables are `spectrally-resolved` i.e. they have a `gpt` dimension"
   ]
  },
  {
   "cell_type": "code",
   "execution_count": null,
   "id": "38053591-cbc8-41a3-85c8-d62b0472adef",
   "metadata": {},
   "outputs": [],
   "source": [
    "optical_props"
   ]
  },
  {
   "cell_type": "markdown",
   "id": "be95a66c-5130-4f8b-b45d-6a3de5e15f0a",
   "metadata": {},
   "source": [
    "To compute fluxes the boundary condition needs to specified by supplying `surface_albedo` or the respective albedos for direct and diffuse radiation (`surface_albedo_direct`, `surface_albedo_diffuse`) as well as the cosine of the incident solar zenith angle `mu0`. \n"
   ]
  },
  {
   "cell_type": "code",
   "execution_count": null,
   "id": "2eb110db-38bb-41d8-8837-6936d7c7f196",
   "metadata": {},
   "outputs": [],
   "source": [
    "optical_props[\"surface_albedo\"] = 0.06\n",
    "optical_props[\"mu0\"] = 0.86\n",
    "fluxes = rte_solve(optical_props, add_to_input=False)"
   ]
  },
  {
   "cell_type": "markdown",
   "id": "afea39a1-a909-4b4e-95ff-376653b9f51a",
   "metadata": {},
   "source": [
    "The returned fluxes include the total downwelling (`sw_flux_down`) and the direct beam component of that flux (`sw_flux_dir`) "
   ]
  },
  {
   "cell_type": "code",
   "execution_count": null,
   "id": "bf831a7c-678b-4bad-887e-b3e2ed880f47",
   "metadata": {},
   "outputs": [],
   "source": [
    "if do_plots:\n",
    "    plt.plot(fluxes.sw_flux_up.isel  (site=0), fluxes.level, label=\"SW all-sky flux up\")\n",
    "    plt.plot(fluxes.sw_flux_down.isel(site=0), fluxes.level, label=\"SW all-sky down\")\n",
    "    plt.plot(fluxes.sw_flux_up.isel  (site=2), fluxes.level, label=\"SW clear flux up\")\n",
    "    plt.plot(fluxes.sw_flux_down.isel(site=2), fluxes.level, label=\"SW clear flux down\")\n",
    "    plt.legend(frameon=False)"
   ]
  },
  {
   "cell_type": "markdown",
   "id": "9134aa30",
   "metadata": {},
   "source": [
    "## Variants \n",
    "\n",
    "### Combining steps\n",
    "The computation of optical properties and fluxes can be combined:"
   ]
  },
  {
   "cell_type": "code",
   "execution_count": null,
   "id": "54cc4f06-9b7b-4b3a-b61e-7849210150ae",
   "metadata": {},
   "outputs": [],
   "source": [
    "fluxes = rte_solve(\n",
    "    xr.merge(\n",
    "        [cloud_optics_sw.compute_cloud_optics(atmosphere).add_to(\n",
    "            gas_optics_sw.compute_gas_optics(\n",
    "                atmosphere, \n",
    "                problem_type=OpticsProblemTypes.TWO_STREAM, \n",
    "                add_to_input=False,\n",
    "            ), \n",
    "            delta_scale=True,\n",
    "        ), \n",
    "        xr.Dataset(data_vars = {\"surface_albedo\":0.06, \"mu0\":0.86})],\n",
    "    ), \n",
    "    add_to_input = False,\n",
    ")\n",
    "\n",
    "# ### Parallelization with dask\n",
    "# Calculations can be divided and performed in parallel using `dask` using dask arrays. The only restriction is that \n",
    "# vertical dimensions can't be chuncked over  "
   ]
  },
  {
   "cell_type": "code",
   "execution_count": null,
   "id": "b969f380-1e76-4b4f-a6d9-f71613857f5a",
   "metadata": {},
   "outputs": [],
   "source": [
    "atmosphere = make_profiles(ncol=24*16)\n",
    "cloud_props = compute_clouds(\n",
    "    cloud_optics_lw, atmosphere[\"pres_layer\"], atmosphere[\"temp_layer\"]\n",
    ")\n",
    "\n",
    "atmosphere = atmosphere.merge(cloud_props).chunk({\"site\":16})\n",
    "atmosphere"
   ]
  },
  {
   "cell_type": "code",
   "execution_count": null,
   "id": "34f1e201-5098-4580-93d8-19bbed2e288f",
   "metadata": {},
   "outputs": [],
   "source": [
    "with ProgressBar():\n",
    "    fluxes = rte_solve(\n",
    "        xr.merge(\n",
    "            [cloud_optics_sw.compute_cloud_optics(atmosphere).add_to(\n",
    "                gas_optics_sw.compute_gas_optics(\n",
    "                    atmosphere, \n",
    "                    problem_type=OpticsProblemTypes.TWO_STREAM, \n",
    "                    add_to_input=False,\n",
    "                ), \n",
    "                delta_scale=True,\n",
    "            ), \n",
    "            xr.Dataset(data_vars = {\"surface_albedo\":0.06, \"mu0\":0.86})],\n",
    "        ), \n",
    "        add_to_input = False,\n",
    "    )"
   ]
  }
 ],
 "metadata": {
  "kernelspec": {
   "display_name": "pyRTE",
   "language": "python",
   "name": "pyrte"
  },
  "language_info": {
   "codemirror_mode": {
    "name": "ipython",
    "version": 3
   },
   "file_extension": ".py",
   "mimetype": "text/x-python",
   "name": "python",
   "nbconvert_exporter": "python",
   "pygments_lexer": "ipython3",
   "version": "3.12.9"
  }
 },
 "nbformat": 4,
 "nbformat_minor": 5
}
