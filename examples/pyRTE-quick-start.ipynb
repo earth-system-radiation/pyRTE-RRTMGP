{
 "cells": [
  {
   "cell_type": "markdown",
   "id": "080bf5e1",
   "metadata": {},
   "source": [
    "# Quick start: Using pyRTE"
   ]
  },
  {
   "cell_type": "markdown",
   "id": "40fba56a",
   "metadata": {},
   "source": [
    "## Overview\n",
    "\n",
    "PyRTE-RRTMGP provides a flexible and efficient framework for computing radiative fluxes in planetary atmospheres. This example shows an end-to-end problem with both clear skies and clouds.\n",
    "\n",
    "To use RTE and RRTMGP you'll need to:\n",
    "\n",
    "1. Load data for cloud and gas optics \n",
    "\n",
    "Each calculation requires \n",
    "\n",
    "2. Computing gas and cloud optical properties and combining them to produce an all-sky problem\n",
    "3. Solving the radiative transfer equation to obtain upward and downward fluxes\n",
    "\n",
    "The package leverages `xarray` to represent data. Input data sets to the cloud and gas optics functions need to have specific datasets and specific dimensions. \n",
    "\n",
    "This example demonstrates the workflow for both longwave and shortwave radiative transfer calculations.\n",
    "\n",
    "See the [documentation](https://pyrte-rrtmgp.readthedocs.io/en/latest/) for more information."
   ]
  },
  {
   "cell_type": "markdown",
   "id": "3234a8b9",
   "metadata": {},
   "source": [
    "# Initialization"
   ]
  },
  {
   "cell_type": "markdown",
   "id": "e3813f98",
   "metadata": {},
   "source": []
  },
  {
   "cell_type": "code",
   "execution_count": null,
   "id": "a8fab8f8",
   "metadata": {},
   "outputs": [],
   "source": [
    "# Plotting - off by default \n",
    "do_plots = False"
   ]
  },
  {
   "cell_type": "markdown",
   "id": "9dd89038",
   "metadata": {},
   "source": [
    "## Import dependencies"
   ]
  },
  {
   "cell_type": "code",
   "execution_count": null,
   "id": "86c9cfc0",
   "metadata": {},
   "outputs": [],
   "source": [
    "%matplotlib inline\n",
    "\n",
    "from dask.diagnostics import ProgressBar\n",
    "import xarray as xr\n",
    "\n",
    "if do_plots: import matplotlib.pyplot as plt"
   ]
  },
  {
   "cell_type": "markdown",
   "id": "ed6ad788",
   "metadata": {},
   "source": [
    "## Import pyRTE entitites \n",
    "\n",
    "(The organization is a work in progress) "
   ]
  },
  {
   "cell_type": "code",
   "execution_count": null,
   "id": "6db49f1d",
   "metadata": {},
   "outputs": [],
   "source": [
    "from pyrte_rrtmgp.rrtmgp_data_files import (\n",
    "    CloudOpticsFiles,\n",
    "    GasOpticsFiles,\n",
    ")\n",
    "from pyrte_rrtmgp.examples import (\n",
    "    compute_RCE_clouds,\n",
    "    compute_RCE_profiles,\n",
    "    ALLSKY_EXAMPLES,\n",
    "    load_example_file,\n",
    ")\n",
    "from pyrte_rrtmgp import rte\n",
    "from pyrte_rrtmgp.rrtmgp import GasOptics, CloudOptics"
   ]
  },
  {
   "cell_type": "markdown",
   "id": "fac2e289",
   "metadata": {},
   "source": [
    "## Initialize gas and cloud optics "
   ]
  },
  {
   "cell_type": "code",
   "execution_count": null,
   "id": "738d38fa",
   "metadata": {},
   "outputs": [],
   "source": [
    "cloud_optics_lw = CloudOptics(\n",
    "    cloud_optics_file=CloudOpticsFiles.LW_BND\n",
    ")\n",
    "gas_optics_lw = GasOptics(\n",
    "    gas_optics_file=GasOpticsFiles.LW_G256\n",
    ")\n",
    "\n",
    "cloud_optics_sw = CloudOptics(\n",
    "    cloud_optics_file=CloudOpticsFiles.SW_BND\n",
    ")\n",
    "gas_optics_sw = GasOptics(\n",
    "    gas_optics_file=GasOpticsFiles.SW_G224\n",
    ")"
   ]
  },
  {
   "cell_type": "markdown",
   "id": "1c7a4eae",
   "metadata": {},
   "source": [
    "The optics classes are `xarray Datasets` but the underlying data isn't meant to be accessed directly."
   ]
  },
  {
   "cell_type": "code",
   "execution_count": null,
   "id": "c95f9528",
   "metadata": {},
   "outputs": [],
   "source": [
    "cloud_optics_lw, gas_optics_lw"
   ]
  },
  {
   "cell_type": "markdown",
   "id": "4caf0531",
   "metadata": {},
   "source": [
    "# Create an idealized problem \n",
    "\n",
    "## Temperature, humidity, composition\n",
    "\n",
    "The routine `compute_RCE_profiles()` packaged with `pyRTE_RRTMGP` computes temperature, pressure, and humidity profiles following a moist adibat. The concentrations of other gases are also needed."
   ]
  },
  {
   "cell_type": "code",
   "execution_count": null,
   "id": "af9d9220",
   "metadata": {},
   "outputs": [],
   "source": [
    "def make_profiles(ncol=24, nlay=72):\n",
    "    # Create atmospheric profiles and gas concentrations\n",
    "    atmosphere = compute_RCE_profiles(300, ncol, nlay)\n",
    "\n",
    "    # Add other gas values\n",
    "    gas_values = {\n",
    "        \"co2\": 348e-6,\n",
    "        \"ch4\": 1650e-9,\n",
    "        \"n2o\": 306e-9,\n",
    "        \"n2\": 0.7808,\n",
    "        \"o2\": 0.2095,\n",
    "        \"co\": 0.0,\n",
    "    }\n",
    "\n",
    "    for gas_name, value in gas_values.items():\n",
    "        atmosphere[gas_name] = value\n",
    "\n",
    "    return atmosphere\n",
    "\n",
    "\n",
    "atmosphere = make_profiles()"
   ]
  },
  {
   "cell_type": "markdown",
   "id": "b48a8eb3",
   "metadata": {},
   "source": [
    "The dataset produced by `make_profiles` variable contains the minimum amount of information needed to compute clear-sky optical properties: \n",
    "- vertical dimensions `layer` and `level` with one more `level` than `layer`\n",
    "- values of pressure and temperature on both vertical coordinates\n",
    "- a surface temperature (for longwave problems)\n",
    "- concentrations of seven gases defined on layers"
   ]
  },
  {
   "cell_type": "code",
   "execution_count": null,
   "id": "bd21ec48",
   "metadata": {},
   "outputs": [],
   "source": [
    "atmosphere"
   ]
  },
  {
   "cell_type": "markdown",
   "id": "3a2d8804",
   "metadata": {},
   "source": [
    "## Clouds \n",
    "\n",
    "`compute_RCE_clouds()` adds clouds (liquid and ice water path, liquid radius and ice diameter) to 2/3 of the columns "
   ]
  },
  {
   "cell_type": "code",
   "execution_count": null,
   "id": "737150fd",
   "metadata": {},
   "outputs": [],
   "source": [
    "#\n",
    "# Temporary workaround - compute_RCE_clouds() needs to know the particle size;\n",
    "#   that's set as the mid-point of the valid range from cloud_optics\n",
    "#\n",
    "cloud_props = compute_RCE_clouds(\n",
    "    cloud_optics_lw, atmosphere[\"pres_layer\"], atmosphere[\"temp_layer\"]\n",
    ")\n",
    "\n",
    "atmosphere = atmosphere.merge(cloud_props)\n",
    "atmosphere"
   ]
  },
  {
   "cell_type": "markdown",
   "id": "4f8613d7",
   "metadata": {},
   "source": [
    "# Longwave fluxes\n",
    "\n",
    "Taking one step at a time... First we will compute the optical properties of the gases (clear skies). \n",
    "\n",
    "## Clear-sky fluxes"
   ]
  },
  {
   "cell_type": "code",
   "execution_count": null,
   "id": "bf61ab01",
   "metadata": {},
   "outputs": [],
   "source": [
    "optical_props = gas_optics_lw.compute(\n",
    "    atmosphere, \n",
    "    add_to_input=False,\n",
    ")"
   ]
  },
  {
   "cell_type": "markdown",
   "id": "28739edb",
   "metadata": {},
   "source": [
    "The optical property for absorption/emission problems is optical depth `tau` which has a spectral dimension (`gpt`). The gas optics calculation also provides the radiation source functions, which for a longwave problem is the Planck function at the layer, level, and surface temperatures. "
   ]
  },
  {
   "cell_type": "code",
   "execution_count": null,
   "id": "7bc004bc",
   "metadata": {},
   "outputs": [],
   "source": [
    "optical_props"
   ]
  },
  {
   "cell_type": "markdown",
   "id": "9539fd2e",
   "metadata": {},
   "source": [
    "Apply the boundary conditions:"
   ]
  },
  {
   "cell_type": "code",
   "execution_count": null,
   "id": "09c85ed1",
   "metadata": {},
   "outputs": [],
   "source": [
    "optical_props[\"surface_emissivity\"] = 0.98"
   ]
  },
  {
   "cell_type": "markdown",
   "id": "fe9ead5e",
   "metadata": {},
   "source": [
    "Dataset `optical_props` now contains a complete description of a longwave radiative transfer problem: \n",
    "- optical properties (`tau` for problem without scattering)\n",
    "- radiation sources (`layer_source`, `level_source`, and `surface_source` for problems with internal emission)\n",
    "- boundary conditions (`surface_emissivity` for problems with internal emission)\n",
    "These variables are `spectrally-resolved` i.e. they have a `gpt` dimension\n",
    "\n",
    "So we can compute fluxes (spectrally-integrated by default) "
   ]
  },
  {
   "cell_type": "code",
   "execution_count": null,
   "id": "6f85fc0b",
   "metadata": {},
   "outputs": [],
   "source": [
    "clr_fluxes = optical_props.rte.solve(add_to_input=False)\n",
    "clr_fluxes"
   ]
  },
  {
   "cell_type": "markdown",
   "id": "94446e2e",
   "metadata": {},
   "source": [
    "What do the fluxes look like? They're the same in every column so plot just the first."
   ]
  },
  {
   "cell_type": "code",
   "execution_count": null,
   "id": "0ab521f0",
   "metadata": {},
   "outputs": [],
   "source": [
    "if do_plots:\n",
    "    plt.plot(clr_fluxes.lw_flux_up.isel(column=0),   clr_fluxes.level, label=\"Flux up\")\n",
    "    plt.plot(clr_fluxes.lw_flux_down.isel(column=0), clr_fluxes.level, label=\"Flux down\")\n",
    "    plt.legend(frameon=False)"
   ]
  },
  {
   "cell_type": "markdown",
   "id": "070ea6b9",
   "metadata": {},
   "source": [
    "## Cloudy-sky fluxes\n",
    "\n",
    "Next compute the optical properties of the clouds. Because we're treating absorption the only output is `tau`. The source functions aren't returned because the temperature isn't known. "
   ]
  },
  {
   "cell_type": "code",
   "execution_count": null,
   "id": "c8a03da9",
   "metadata": {},
   "outputs": [],
   "source": [
    "clouds_optical_props = cloud_optics_lw.compute(\n",
    "    atmosphere, \n",
    "    problem_type=rte.OpticsTypes.ABSORPTION,\n",
    ")\n",
    "# The optical properties of the clouds alone\n",
    "clouds_optical_props"
   ]
  },
  {
   "cell_type": "markdown",
   "id": "2ff0b684",
   "metadata": {},
   "source": [
    "Next compute the combined optical properties of the clouds and gases with `add_to()`, which updates the optical properties in its argument."
   ]
  },
  {
   "cell_type": "code",
   "execution_count": null,
   "id": "b4e99421",
   "metadata": {},
   "outputs": [],
   "source": [
    "# add_to() changes the value of `optical_props`\n",
    "clouds_optical_props.rte.add_to(optical_props)\n",
    "optical_props"
   ]
  },
  {
   "cell_type": "code",
   "execution_count": null,
   "id": "2674aefb",
   "metadata": {},
   "outputs": [],
   "source": [
    "fluxes = optical_props.rte.solve(add_to_input=False)"
   ]
  },
  {
   "cell_type": "code",
   "execution_count": null,
   "id": "2fc595c3",
   "metadata": {},
   "outputs": [],
   "source": [
    "if do_plots:\n",
    "    plt.plot(fluxes.lw_flux_up.isel  (column=0), fluxes.level, label=\"LW all-sky flux up\")\n",
    "    plt.plot(fluxes.lw_flux_down.isel(column=0), fluxes.level, label=\"LW all-sky down\")\n",
    "    plt.plot(fluxes.lw_flux_up.isel  (column=2), fluxes.level, label=\"LW clear flux up\")\n",
    "    plt.plot(fluxes.lw_flux_down.isel(column=2), fluxes.level, label=\"LW clear flux down\")\n",
    "    plt.legend(frameon=False)"
   ]
  },
  {
   "cell_type": "markdown",
   "id": "42519b3b",
   "metadata": {},
   "source": [
    "# Shortwave fluxes\n",
    "\n",
    "Shortwave problems require different sets of optical properties, source, and boundary conditions. The first two \n",
    "are provided by the shortwave gas optics, as you'll see. \n",
    "Python allows intermediate steps to be combined. For example we can compute the all-sky optical properties directly by combining\n",
    "the `gas_optics()`, `cloud_optics()`, and `add_to()` steps:"
   ]
  },
  {
   "cell_type": "code",
   "execution_count": null,
   "id": "7c6e76f2",
   "metadata": {},
   "outputs": [],
   "source": [
    "# add_to() also returns updated optical properties \n",
    "optical_props = cloud_optics_sw.compute(atmosphere).\\\n",
    "    rte.add_to(\n",
    "        gas_optics_sw.compute(\n",
    "            atmosphere, \n",
    "            add_to_input=False,\n",
    "        ), \n",
    "    delta_scale=True,\n",
    ")"
   ]
  },
  {
   "cell_type": "markdown",
   "id": "66bade86",
   "metadata": {},
   "source": [
    "(Delta scaling increases accuracy for clouds, which have strong forward scattering (large `g`))."
   ]
  },
  {
   "cell_type": "markdown",
   "id": "6127da98",
   "metadata": {},
   "source": [
    "Dataset `optical_props` now contains a nearly-complete description of a shortwave radiative transfer problem: \n",
    "- optical properties (`tau`, `ssa`, and `g` define a two-stream problem)\n",
    "- radiation source (`toa_source`, `level_source`, and `surface_source` for the incoming sunlight as a collimated beam)\n",
    "These variables are `spectrally-resolved` i.e. they have a `gpt` dimension"
   ]
  },
  {
   "cell_type": "code",
   "execution_count": null,
   "id": "76c55edc",
   "metadata": {},
   "outputs": [],
   "source": [
    "optical_props"
   ]
  },
  {
   "cell_type": "markdown",
   "id": "ef6a2c5b",
   "metadata": {},
   "source": [
    "To compute fluxes the boundary condition needs to specified by supplying `surface_albedo` or the respective albedos for direct and diffuse radiation (`surface_albedo_direct`, `surface_albedo_diffuse`) as well as the cosine of the incident solar zenith angle `mu0`. \n"
   ]
  },
  {
   "cell_type": "code",
   "execution_count": null,
   "id": "1e8376e0",
   "metadata": {},
   "outputs": [],
   "source": [
    "optical_props[\"surface_albedo\"] = 0.06\n",
    "optical_props[\"mu0\"] = 0.86\n",
    "fluxes = optical_props.rte.solve(add_to_input=False)"
   ]
  },
  {
   "cell_type": "markdown",
   "id": "f2e6cdb7",
   "metadata": {},
   "source": [
    "The returned fluxes include the total downwelling (`sw_flux_down`) and the direct beam component of that flux (`sw_flux_dir`) "
   ]
  },
  {
   "cell_type": "code",
   "execution_count": null,
   "id": "010973de",
   "metadata": {},
   "outputs": [],
   "source": [
    "if do_plots:\n",
    "    plt.plot(fluxes.sw_flux_up.isel  (column=0), fluxes.level, label=\"SW all-sky flux up\")\n",
    "    plt.plot(fluxes.sw_flux_down.isel(column=0), fluxes.level, label=\"SW all-sky down\")\n",
    "    plt.plot(fluxes.sw_flux_up.isel  (column=2), fluxes.level, label=\"SW clear flux up\")\n",
    "    plt.plot(fluxes.sw_flux_down.isel(column=2), fluxes.level, label=\"SW clear flux down\")\n",
    "    plt.legend(frameon=False)"
   ]
  },
  {
   "cell_type": "markdown",
   "id": "c225420d",
   "metadata": {},
   "source": [
    "# Variants \n",
    "\n",
    "## Combining steps\n",
    "The computation of optical properties and fluxes can be combined:"
   ]
  },
  {
   "cell_type": "code",
   "execution_count": null,
   "id": "465e2cb0",
   "metadata": {
    "lines_to_next_cell": 2
   },
   "outputs": [],
   "source": [
    "fluxes = xr.merge(\n",
    "            [cloud_optics_sw.compute(atmosphere).\n",
    "            rte.add_to(\n",
    "                gas_optics_sw.compute(\n",
    "                    atmosphere, \n",
    "                    add_to_input=False,\n",
    "                ), \n",
    "                delta_scale=True,\n",
    "            ), \n",
    "            xr.Dataset(data_vars = {\"surface_albedo\":0.06, \"mu0\":0.86})],\n",
    "        ).rte.solve(add_to_input = False)"
   ]
  },
  {
   "cell_type": "markdown",
   "id": "49260040",
   "metadata": {},
   "source": [
    "## Parallelization with dask\n",
    "Calculations can be divided and performed in parallel using `dask` using dask arrays. The only restriction is that \n",
    "vertical dimensions can't be chuncked over  "
   ]
  },
  {
   "cell_type": "code",
   "execution_count": null,
   "id": "a478f540",
   "metadata": {},
   "outputs": [],
   "source": [
    "atmosphere = make_profiles(ncol=24*16)\n",
    "cloud_props = compute_RCE_clouds(\n",
    "    cloud_optics_lw, atmosphere[\"pres_layer\"], atmosphere[\"temp_layer\"]\n",
    ")\n",
    "\n",
    "atmosphere = atmosphere.merge(cloud_props).chunk({\"column\":16})\n",
    "atmosphere"
   ]
  },
  {
   "cell_type": "code",
   "execution_count": null,
   "id": "ad067db8",
   "metadata": {},
   "outputs": [],
   "source": [
    "with ProgressBar():\n",
    "    fluxes = xr.merge(\n",
    "            [cloud_optics_sw.compute(atmosphere).rte.add_to(\n",
    "                gas_optics_sw.compute(\n",
    "                    atmosphere, \n",
    "                    add_to_input=False,\n",
    "                ), \n",
    "                delta_scale=True,\n",
    "            ), \n",
    "            xr.Dataset(data_vars = {\"surface_albedo\":0.06, \"mu0\":0.86})],\n",
    "        ).rte.solve( \n",
    "             add_to_input = False,\n",
    "    )"
   ]
  },
  {
   "cell_type": "code",
   "execution_count": null,
   "id": "9080b988",
   "metadata": {},
   "outputs": [],
   "source": []
  }
 ],
 "metadata": {
  "kernelspec": {
   "display_name": "pyRTE",
   "language": "python",
   "name": "pyrte"
  }
 },
 "nbformat": 4,
 "nbformat_minor": 5
}
