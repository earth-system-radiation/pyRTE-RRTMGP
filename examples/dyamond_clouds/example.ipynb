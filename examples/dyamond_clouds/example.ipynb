{
 "cells": [
  {
   "cell_type": "code",
   "execution_count": null,
   "metadata": {},
   "outputs": [],
   "source": [
    "from datetime import datetime\n",
    "\n",
    "from pyrte_rrtmgp.external_data_helpers import download_dyamond2_data\n",
    "\n",
    "# Download the data\n",
    "downloaded_files = download_dyamond2_data(\n",
    "    datetime(2020, 2, 1, 9),\n",
    "    compute_gas_optics=False,\n",
    "    data_dir=\"GEOS-DYAMOND2-data\",\n",
    ")"
   ]
  },
  {
   "cell_type": "markdown",
   "metadata": {},
   "source": [
    "### Reorganize the data to improve the processing time"
   ]
  },
  {
   "cell_type": "code",
   "execution_count": null,
   "metadata": {},
   "outputs": [],
   "source": [
    "import xarray as xr\n",
    "\n",
    "from pyrte_rrtmgp.constants import HELMERT1\n",
    "\n",
    "nlev = 181\n",
    "min_lev_ice = 78\n",
    "\n",
    "# Load the global dataset\n",
    "atmosphere = (\n",
    "    xr.open_mfdataset(\n",
    "        \"GEOS-DYAMOND2-data/*inst_01hr_3d_*.nc4\",\n",
    "        drop_variables=[\n",
    "            \"anchor\",\n",
    "            \"cubed_sphere\",\n",
    "            \"orientation\",\n",
    "            \"contacts\",\n",
    "            \"corner_lats\",\n",
    "            \"corner_lons\",\n",
    "        ],\n",
    "    )\n",
    "    .isel(lev=slice(min_lev_ice, nlev))\n",
    "    .rename({\"lev\": \"layer\"})\n",
    "    .chunk({\"Xdim\": 200, \"Ydim\": 200, \"nf\": 1, \"layer\": -1})\n",
    ")\n",
    "\n",
    "# Need to convert LWP/IWP to g/m2 and rel/rei to microns\n",
    "atmosphere[\"lwp\"] = (atmosphere[\"DELP\"] * atmosphere[\"QL\"]) * 1000 / HELMERT1\n",
    "atmosphere[\"iwp\"] = (atmosphere[\"DELP\"] * atmosphere[\"QI\"]) * 1000 / HELMERT1\n",
    "atmosphere[\"rel\"] = atmosphere[\"RL\"] * 1e6\n",
    "atmosphere[\"rei\"] = atmosphere[\"RI\"] * 1e6\n",
    "\n",
    "needed_vars = [\"lwp\", \"iwp\", \"rel\", \"rei\"]\n",
    "\n",
    "atmosphere[needed_vars].to_netcdf(\n",
    "    \"atmosphere.nc\",\n",
    "    encoding={var: {\"zlib\": True, \"complevel\": 5} for var in needed_vars},\n",
    ")"
   ]
  },
  {
   "cell_type": "markdown",
   "metadata": {},
   "source": [
    "### Compute the cloud optics\n",
    "\n",
    "For avoiding memory issues please use dask version 2025.3.0 or higher. A [fix](https://docs.dask.org/en/stable/changelog.html#v2025-3-0) for the apply_ufunc was included in it that solve the memory issues."
   ]
  },
  {
   "cell_type": "code",
   "execution_count": null,
   "metadata": {},
   "outputs": [],
   "source": [
    "import xarray as xr\n",
    "from dask.distributed import Client, LocalCluster\n",
    "import dask\n",
    "\n",
    "\n",
    "from pyrte_rrtmgp import rrtmgp_cloud_optics\n",
    "from pyrte_rrtmgp.data_types import CloudOpticsFiles\n",
    "\n",
    "\n",
    "atmosphere = xr.open_dataset(\"atmosphere.nc\").chunk(\n",
    "    {\"Xdim\": 72, \"Ydim\": 72, \"nf\": 1, \"layer\": -1}\n",
    ")\n",
    "\n",
    "# Set memory limits and adjust worker configuration\n",
    "cluster = LocalCluster(n_workers=10, threads_per_worker=1, memory_limit=\"5GB\")\n",
    "client = Client(cluster)\n",
    "print(f\"Dask dashboard available at: {client.dashboard_link}\")\n",
    "\n",
    "# Load cloud optics\n",
    "cloud_optics_lw = rrtmgp_cloud_optics.load_cloud_optics(\n",
    "    cloud_optics_file=CloudOpticsFiles.LW_BND\n",
    ")\n",
    "\n",
    "# Define the computation but don't execute it yet\n",
    "tau_delayed = cloud_optics_lw.compute_cloud_optics(\n",
    "    atmosphere, problem_type=\"absorption\", add_to_input=False\n",
    ")\n",
    "\n",
    "# Then perform the reduction operations on the result before persisting the data\n",
    "tau_result_unoptimized = tau_delayed.sum(dim=[\"bnd\", \"layer\"], skipna=True).astype(\n",
    "    \"float32\"\n",
    ")\n",
    "\n",
    "# Optimize the final result graph\n",
    "tau_result_optimized = dask.optimize(tau_result_unoptimized)[0]\n",
    "\n",
    "tau_result_optimized.to_zarr(\n",
    "    \"clouds_data.zarr\", compute=True, mode=\"w\", consolidated=True\n",
    ")"
   ]
  }
 ],
 "metadata": {
  "kernelspec": {
   "display_name": "rte_test",
   "language": "python",
   "name": "python3"
  },
  "language_info": {
   "codemirror_mode": {
    "name": "ipython",
    "version": 3
   },
   "file_extension": ".py",
   "mimetype": "text/x-python",
   "name": "python",
   "nbconvert_exporter": "python",
   "pygments_lexer": "ipython3",
   "version": "3.12.10"
  }
 },
 "nbformat": 4,
 "nbformat_minor": 2
}
