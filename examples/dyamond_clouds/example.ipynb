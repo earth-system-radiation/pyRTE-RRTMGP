{
 "cells": [
  {
   "cell_type": "code",
   "execution_count": null,
   "metadata": {},
   "outputs": [],
   "source": [
    "from pyrte_rrtmgp.external_data_helpers import download_dyamond2_data\n",
    "from datetime import datetime\n",
    "\n",
    "# Download the data\n",
    "downloaded_files = download_dyamond2_data(datetime(2020, 2, 1, 9), compute_gas_optics=False, data_dir=\"GEOS-DYAMOND2-data\")"
   ]
  },
  {
   "cell_type": "code",
   "execution_count": null,
   "metadata": {},
   "outputs": [],
   "source": [
    "import dask\n",
    "import xarray as xr\n",
    "from dask.distributed import Client\n",
    "\n",
    "from pyrte_rrtmgp import rrtmgp_cloud_optics\n",
    "from pyrte_rrtmgp.constants import HELMERT1\n",
    "from pyrte_rrtmgp.data_types import CloudOpticsFiles\n",
    "\n",
    "min_lev_liquid = 107\n",
    "min_lev_ice = 78\n",
    "\n",
    "# To run in Distributed mode user can uncomment the following lines\n",
    "client = Client(n_workers=1)\n",
    "print(f\"Dask dashboard available at: {client.dashboard_link}\")\n",
    "\n",
    "atmosphere = (\n",
    "    xr.open_mfdataset(\n",
    "        \"GEOS-DYAMOND2-data/*inst_01hr_3d_*.nc4\",\n",
    "        drop_variables=[\n",
    "            \"anchor\",\n",
    "            \"cubed_sphere\",\n",
    "            \"orientation\",\n",
    "            \"contacts\",\n",
    "            \"corner_lats\",\n",
    "            \"corner_lons\",\n",
    "        ],\n",
    "    )\n",
    "    .isel(\n",
    "        lev=slice(\n",
    "            min_lev_ice,\n",
    "        )\n",
    "    )\n",
    "    .rename({\"lev\": \"layer\"})\n",
    "    .chunk({\"Xdim\": 2880, \"Ydim\": 1, \"nf\": -1, \"layer\": -1})\n",
    ")\n",
    "# .isel(Ydim=slice(0, 1000))\n",
    "#\n",
    "# By default the dask arrays are contiguous in Xdim and Ydim (first two dimensions)\n",
    "#   This will work for computing optics but not for computing fluxes,\n",
    "#   where chunks need to include all layers/levels\n",
    "\n",
    "# Need to convert LWP/IWP to g/m2 and rel/rei to microns\n",
    "atmosphere[\"lwp\"] = (atmosphere[\"DELP\"] * atmosphere[\"QL\"]) * 1000 / HELMERT1\n",
    "atmosphere[\"iwp\"] = (atmosphere[\"DELP\"] * atmosphere[\"QI\"]) * 1000 / HELMERT1\n",
    "atmosphere[\"rel\"] = atmosphere[\"RL\"] * 1e6\n",
    "atmosphere[\"rei\"] = atmosphere[\"RI\"] * 1e6\n",
    "\n",
    "needed_vars = [\"lwp\", \"iwp\", \"rel\", \"rei\"]\n",
    "cloud_optics_lw = rrtmgp_cloud_optics.load_cloud_optics(\n",
    "    cloud_optics_file=CloudOpticsFiles.LW_BND\n",
    ")\n",
    "tau = cloud_optics_lw.compute_cloud_optics(\n",
    "    atmosphere[needed_vars], problem_type=\"absorption\", add_to_input=False\n",
    ")\n",
    "\n",
    "tau.to_netcdf(\n",
    "    \"cloud_optics_result.nc\",\n",
    "    encoding={var: {\"zlib\": True, \"complevel\": 5} for var in tau.data_vars},\n",
    ")"
   ]
  }
 ],
 "metadata": {
  "kernelspec": {
   "display_name": "pyrte",
   "language": "python",
   "name": "python3"
  },
  "language_info": {
   "codemirror_mode": {
    "name": "ipython",
    "version": 3
   },
   "file_extension": ".py",
   "mimetype": "text/x-python",
   "name": "python",
   "nbconvert_exporter": "python",
   "pygments_lexer": "ipython3",
   "version": "3.11.5"
  }
 },
 "nbformat": 4,
 "nbformat_minor": 2
}
