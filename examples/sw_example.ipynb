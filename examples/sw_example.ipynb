{
 "cells": [
  {
   "cell_type": "code",
   "execution_count": 1,
   "metadata": {},
   "outputs": [],
   "source": [
    "import numpy as np\n",
    "import xarray as xr\n",
    "\n",
    "from pyrte_rrtmgp import rrtmgp_gas_optics\n",
    "\n",
    "ERROR_TOLERANCE = 1e-7\n",
    "\n",
    "rte_rrtmgp_dir = \"../../rrtmgp-data\"\n",
    "clear_sky_example_files = f\"{rte_rrtmgp_dir}/examples/rfmip-clear-sky/inputs\"\n",
    "\n",
    "rfmip = xr.load_dataset(\n",
    "    f\"{clear_sky_example_files}/multiple_input4MIPs_radiation_RFMIP_UColorado-RFMIP-1-2_none.nc\"\n",
    ")\n",
    "rfmip = rfmip.sel(expt=0)  # only one experiment\n",
    "\n",
    "kdist = xr.load_dataset(f\"{rte_rrtmgp_dir}/rrtmgp-gas-sw-g224.nc\")\n",
    "sw_problem = kdist.gas_optics.load_atmospheric_conditions(rfmip)\n",
    "\n",
    "sw_problem.sfc_alb_dir = rfmip[\"surface_albedo\"].data\n",
    "sw_problem.total_solar_irradiance = rfmip[\"total_solar_irradiance\"].data\n",
    "sw_problem.solar_zenith_angle = rfmip[\"solar_zenith_angle\"].values\n",
    "\n",
    "solver_flux_up, solver_flux_down = sw_problem.solve()\n",
    "\n",
    "rsu_reference = f\"{rte_rrtmgp_dir}/examples/rfmip-clear-sky/reference/rsu_Efx_RTE-RRTMGP-181204_rad-irf_r1i1p1f1_gn.nc\"\n",
    "rsd_reference = f\"{rte_rrtmgp_dir}/examples/rfmip-clear-sky/reference/rsd_Efx_RTE-RRTMGP-181204_rad-irf_r1i1p1f1_gn.nc\"\n",
    "\n",
    "# Compare the results with the reference data\n",
    "rsu = xr.load_dataset(rsu_reference, decode_cf=False)\n",
    "ref_flux_up = rsu.isel(expt=0)[\"rsu\"].values\n",
    "\n",
    "rsd = xr.load_dataset(rsd_reference, decode_cf=False)\n",
    "ref_flux_down = rsd.isel(expt=0)[\"rsd\"].values\n",
    "\n",
    "assert np.isclose(solver_flux_up, ref_flux_up, atol=ERROR_TOLERANCE).all()\n",
    "assert np.isclose(solver_flux_down, ref_flux_down, atol=ERROR_TOLERANCE).all()"
   ]
  }
 ],
 "metadata": {
  "kernelspec": {
   "display_name": "venv",
   "language": "python",
   "name": "python3"
  },
  "language_info": {
   "codemirror_mode": {
    "name": "ipython",
    "version": 3
   },
   "file_extension": ".py",
   "mimetype": "text/x-python",
   "name": "python",
   "nbconvert_exporter": "python",
   "pygments_lexer": "ipython3",
   "version": "3.12.7"
  }
 },
 "nbformat": 4,
 "nbformat_minor": 2
}
