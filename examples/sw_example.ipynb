{
 "cells": [
  {
   "cell_type": "code",
   "execution_count": 2,
   "metadata": {},
   "outputs": [],
   "source": [
    "import os\n",
    "\n",
    "import numpy as np\n",
    "import xarray as xr\n",
    "\n",
    "from pyrte_rrtmgp import rrtmgp_gas_optics\n",
    "from pyrte_rrtmgp.rrtmgp_gas_optics import GasOpticsFiles, load_gas_optics\n",
    "from pyrte_rrtmgp.rrtmgp_data import download_rrtmgp_data\n",
    "from pyrte_rrtmgp.rte_solver import rte_solve\n",
    "\n",
    "ERROR_TOLERANCE = 1e-7\n",
    "\n",
    "rte_rrtmgp_dir = download_rrtmgp_data()\n",
    "rfmip_dir = os.path.join(rte_rrtmgp_dir, \"examples\", \"rfmip-clear-sky\")\n",
    "input_dir = os.path.join(rfmip_dir, \"inputs\")\n",
    "ref_dir = os.path.join(rfmip_dir, \"reference\")\n",
    "\n",
    "gas_optics_sw = load_gas_optics(gas_optics_file=GasOpticsFiles.SW_G224)\n",
    "\n",
    "atmosphere_file = \"multiple_input4MIPs_radiation_RFMIP_UColorado-RFMIP-1-2_none.nc\"\n",
    "atmosphere_path = os.path.join(input_dir, atmosphere_file)\n",
    "atmosphere = xr.load_dataset(atmosphere_path).sel(expt=0)  # only one experiment\n",
    "\n",
    "gas_optics_sw.gas_optics.compute(atmosphere, problem_type=\"two-stream\")\n",
    "\n",
    "fluxes = rte_solve(atmosphere, add_to_input=False)\n",
    "\n",
    "rsu_reference = f\"{ref_dir}/rsu_Efx_RTE-RRTMGP-181204_rad-irf_r1i1p1f1_gn.nc\"\n",
    "rsd_reference = f\"{ref_dir}/rsd_Efx_RTE-RRTMGP-181204_rad-irf_r1i1p1f1_gn.nc\"\n",
    "\n",
    "# Compare the results with the reference data\n",
    "rsu = xr.load_dataset(rsu_reference, decode_cf=False)\n",
    "ref_flux_up = rsu.isel(expt=0)[\"rsu\"].values\n",
    "\n",
    "rsd = xr.load_dataset(rsd_reference, decode_cf=False)\n",
    "ref_flux_down = rsd.isel(expt=0)[\"rsd\"].values\n",
    "\n",
    "assert np.isclose(fluxes[\"sw_flux_up\"].values, ref_flux_up, atol=ERROR_TOLERANCE).all()\n",
    "assert np.isclose(fluxes[\"sw_flux_down\"].values, ref_flux_down, atol=ERROR_TOLERANCE).all()"
   ]
  }
 ],
 "metadata": {
  "kernelspec": {
   "display_name": "venv",
   "language": "python",
   "name": "python3"
  },
  "language_info": {
   "codemirror_mode": {
    "name": "ipython",
    "version": 3
   },
   "file_extension": ".py",
   "mimetype": "text/x-python",
   "name": "python",
   "nbconvert_exporter": "python",
   "pygments_lexer": "ipython3",
   "version": "3.11.5"
  }
 },
 "nbformat": 4,
 "nbformat_minor": 2
}
