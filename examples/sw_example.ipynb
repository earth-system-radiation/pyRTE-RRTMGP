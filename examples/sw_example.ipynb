{
 "cells": [
  {
   "cell_type": "markdown",
   "metadata": {},
   "source": [
    "# Shortwave Radiation Transfer Example\n",
    "\n",
    "This notebook demonstrates how to compute shortwave radiation fluxes using the `pyrte_rrtmgp` library. Specifically:\n",
    "\n",
    "- It downloads the required data\n",
    "- Computes the gas optics using a two-stream approximation\n",
    "- Solves the radiation transfer equations\n",
    "- Validates the results against reference datasets\n",
    "\n",
    "See the [documentation](https://pyrte-rrtmgp.readthedocs.io/en/latest/) for more information."
   ]
  },
  {
   "cell_type": "code",
   "execution_count": null,
   "metadata": {},
   "outputs": [],
   "source": [
    "import os\n",
    "\n",
    "import numpy as np\n",
    "import xarray as xr"
   ]
  },
  {
   "cell_type": "markdown",
   "metadata": {},
   "source": [
    "## Importing pyrte_rrtmgp Modules\n",
    "\n",
    "We import the necessary modules from the `pyrte_rrtmgp` package which provide tools for gas optics and solving the radiation transfer equations."
   ]
  },
  {
   "cell_type": "code",
   "execution_count": null,
   "metadata": {},
   "outputs": [],
   "source": [
    "from pyrte_rrtmgp.rrtmgp_gas_optics import GasOpticsFiles, load_gas_optics\n",
    "from pyrte_rrtmgp.rrtmgp_data import download_rrtmgp_data\n",
    "from pyrte_rrtmgp.rte_solver import RTESolver\n",
    "\n",
    "ERROR_TOLERANCE = 1e-7"
   ]
  },
  {
   "cell_type": "markdown",
   "metadata": {},
   "source": [
    "## Data Download and Directory Setup\n",
    "\n",
    "Download the RRTMGP data and define paths for the input and reference directories."
   ]
  },
  {
   "cell_type": "code",
   "execution_count": null,
   "metadata": {},
   "outputs": [],
   "source": [
    "rte_rrtmgp_dir = download_rrtmgp_data()\n",
    "rfmip_dir = os.path.join(rte_rrtmgp_dir, \"examples\", \"rfmip-clear-sky\")\n",
    "input_dir = os.path.join(rfmip_dir, \"inputs\")\n",
    "ref_dir = os.path.join(rfmip_dir, \"reference\")\n",
    "os.listdir(rte_rrtmgp_dir)"
   ]
  },
  {
   "cell_type": "markdown",
   "metadata": {},
   "source": [
    "## Loading Gas Optics Data and Atmosphere Dataset\n",
    "\n",
    "Load the shortwave gas optics file and the associated atmosphere dataset that will be used for the simulation."
   ]
  },
  {
   "cell_type": "code",
   "execution_count": null,
   "metadata": {},
   "outputs": [],
   "source": [
    "gas_optics_sw = load_gas_optics(gas_optics_file=GasOpticsFiles.SW_G224)\n",
    "\n",
    "atmosphere_file = \"multiple_input4MIPs_radiation_RFMIP_UColorado-RFMIP-1-2_none.nc\"\n",
    "atmosphere_path = os.path.join(input_dir, atmosphere_file)\n",
    "atmosphere = xr.load_dataset(atmosphere_path, chunks={\"expt\": 3})\n",
    "atmosphere"
   ]
  },
  {
   "cell_type": "markdown",
   "metadata": {},
   "source": [
    "## Computing Gas Optics and Solving Radiation Transfer Equations\n",
    "\n",
    "Compute the shortwave gas optics using a two-stream approximation and then solve the radiation transfer equations to obtain the fluxes."
   ]
  },
  {
   "cell_type": "code",
   "execution_count": null,
   "metadata": {},
   "outputs": [],
   "source": [
    "gas_optics_sw.gas_optics.compute(atmosphere, problem_type=\"two-stream\")\n",
    "\n",
    "solver = RTESolver()\n",
    "fluxes = solver.solve(atmosphere, add_to_input=False)\n",
    "fluxes"
   ]
  },
  {
   "cell_type": "markdown",
   "metadata": {},
   "source": [
    "## Loading Reference Data and Validating the Results\n",
    "\n",
    "Load the reference datasets for upward and downward shortwave fluxes and validate that the computed fluxes match the reference data within the specified tolerance."
   ]
  },
  {
   "cell_type": "code",
   "execution_count": null,
   "metadata": {},
   "outputs": [],
   "source": [
    "rsu_reference = f\"{ref_dir}/rsu_Efx_RTE-RRTMGP-181204_rad-irf_r1i1p1f1_gn.nc\"\n",
    "rsd_reference = f\"{ref_dir}/rsd_Efx_RTE-RRTMGP-181204_rad-irf_r1i1p1f1_gn.nc\"\n",
    "rsu = xr.load_dataset(rsu_reference, decode_cf=False)\n",
    "rsd = xr.load_dataset(rsd_reference, decode_cf=False)\n",
    "\n",
    "assert np.isclose(\n",
    "    fluxes[\"sw_flux_up\"], rsu[\"rsu\"], atol=ERROR_TOLERANCE\n",
    ").all(), \"Shortwave flux up mismatch\"\n",
    "assert np.isclose(\n",
    "    fluxes[\"sw_flux_down\"], rsd[\"rsd\"], atol=ERROR_TOLERANCE\n",
    ").all(), \"Shortwave flux down mismatch\"\n",
    "\n",
    "print(\"Shortwave radiation transfer calculations validated successfully!\")"
   ]
  }
 ],
 "metadata": {
  "kernelspec": {
   "display_name": "pyrte-dev",
   "language": "python",
   "name": "python3"
  },
  "language_info": {
   "codemirror_mode": {
    "name": "ipython",
    "version": 3
   },
   "file_extension": ".py",
   "mimetype": "text/x-python",
   "name": "python",
   "nbconvert_exporter": "python",
   "pygments_lexer": "ipython3",
   "version": "3.11.11"
  }
 },
 "nbformat": 4,
 "nbformat_minor": 4
}
