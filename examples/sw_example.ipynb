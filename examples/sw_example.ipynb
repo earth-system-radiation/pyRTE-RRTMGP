{
 "cells": [
  {
   "cell_type": "markdown",
   "metadata": {},
   "source": [
    "# Shortwave Radiation Transfer Example\n",
    "\n",
    "This notebook demonstrates how to compute shortwave radiation fluxes using the `pyrte_rrtmgp` library. Specifically:\n",
    "\n",
    "- It downloads the required data\n",
    "- Computes the gas optics using a two-stream approximation\n",
    "- Solves the radiation transfer equations\n",
    "- Validates the results against reference datasets\n",
    "\n",
    "See the [documentation](https://pyrte-rrtmgp.readthedocs.io/en/latest/) for more information."
   ]
  },
  {
   "cell_type": "code",
   "execution_count": 1,
   "metadata": {},
   "outputs": [],
   "source": [
    "import os\n",
    "\n",
    "import numpy as np\n",
    "import xarray as xr"
   ]
  },
  {
   "cell_type": "markdown",
   "metadata": {},
   "source": [
    "## Importing pyrte_rrtmgp Modules\n",
    "\n",
    "We import the necessary modules from the `pyrte_rrtmgp` package which provide tools for gas optics and solving the radiation transfer equations."
   ]
  },
  {
   "cell_type": "code",
   "execution_count": 2,
   "metadata": {},
   "outputs": [],
   "source": [
    "from pyrte_rrtmgp.rrtmgp_gas_optics import GasOpticsFiles, load_gas_optics\n",
    "from pyrte_rrtmgp.rte_solver import rte_solve\n",
    "from pyrte_rrtmgp.data_types import RFMIPExampleFiles\n",
    "from pyrte_rrtmgp.utils import load_rrtmgp_file\n",
    "\n",
    "ERROR_TOLERANCE = 1e-7"
   ]
  },
  {
   "cell_type": "markdown",
   "metadata": {},
   "source": [
    "## Loading Gas Optics Data and Atmosphere Dataset\n",
    "\n",
    "Load the shortwave gas optics file and the associated atmosphere dataset that will be used for the simulation."
   ]
  },
  {
   "cell_type": "code",
   "execution_count": null,
   "metadata": {},
   "outputs": [],
   "source": [
    "gas_optics_sw = load_gas_optics(gas_optics_file=GasOpticsFiles.SW_G224)\n",
    "\n",
    "atmosphere = load_rrtmgp_file(RFMIPExampleFiles.RFMIP).chunk({\"expt\": 3})\n",
    "atmosphere"
   ]
  },
  {
   "cell_type": "markdown",
   "metadata": {},
   "source": [
    "## Computing Gas Optics and Solving Radiation Transfer Equations\n",
    "\n",
    "Compute the shortwave gas optics using a two-stream approximation and then solve the radiation transfer equations to obtain the fluxes."
   ]
  },
  {
   "cell_type": "code",
   "execution_count": null,
   "metadata": {},
   "outputs": [],
   "source": [
    "gas_optics_sw.gas_optics.compute(atmosphere, problem_type=\"two-stream\")\n",
    "\n",
    "fluxes = rte_solve(atmosphere, add_to_input=False)\n",
    "fluxes"
   ]
  },
  {
   "cell_type": "markdown",
   "metadata": {},
   "source": [
    "## Loading Reference Data and Validating the Results\n",
    "\n",
    "Load the reference datasets for upward and downward shortwave fluxes and validate that the computed fluxes match the reference data within the specified tolerance."
   ]
  },
  {
   "cell_type": "code",
   "execution_count": null,
   "metadata": {},
   "outputs": [],
   "source": [
    "rsu = load_rrtmgp_file(RFMIPExampleFiles.REFERENCE_RSU)\n",
    "rsd = load_rrtmgp_file(RFMIPExampleFiles.REFERENCE_RSD)\n",
    "\n",
    "assert np.isclose(\n",
    "    fluxes[\"sw_flux_up\"], rsu[\"rsu\"], atol=ERROR_TOLERANCE\n",
    ").all(), \"Shortwave flux up mismatch\"\n",
    "assert np.isclose(\n",
    "    fluxes[\"sw_flux_down\"], rsd[\"rsd\"], atol=ERROR_TOLERANCE\n",
    ").all(), \"Shortwave flux down mismatch\"\n",
    "\n",
    "print(\"Shortwave radiation transfer calculations validated successfully!\")"
   ]
  }
 ],
 "metadata": {
  "kernelspec": {
   "display_name": "pyrte",
   "language": "python",
   "name": "python3"
  },
  "language_info": {
   "codemirror_mode": {
    "name": "ipython",
    "version": 3
   },
   "file_extension": ".py",
   "mimetype": "text/x-python",
   "name": "python",
   "nbconvert_exporter": "python",
   "pygments_lexer": "ipython3",
   "version": "3.11.5"
  }
 },
 "nbformat": 4,
 "nbformat_minor": 4
}
