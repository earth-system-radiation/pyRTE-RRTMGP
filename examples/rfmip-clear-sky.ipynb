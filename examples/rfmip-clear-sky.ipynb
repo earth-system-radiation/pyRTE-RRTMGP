{
 "cells": [
  {
   "cell_type": "markdown",
   "id": "e64ae0db",
   "metadata": {},
   "source": [
    "# RFMIP clear sky example with pyRTE+RRTMGP \n"
   ]
  },
  {
   "cell_type": "markdown",
   "id": "85c45f55",
   "metadata": {},
   "source": [
    "## Overview\n",
    "\n",
    "This notebook demonstrates the use of pyRTE-RRTMP to solve the simple problem of computing \n",
    "   clear-sky broadband (spectrally-integrated) fluxes. The examples use a set of atmospheric \n",
    "   conditions used in the Radiative Forcing Model Intercomparison Project. The conditions \n",
    "   are described in [this paper](https://doi.org/10.1029/2020JD033483). The conditions, as \n",
    "   well as the results for the reference Fortran implementation of RTE-RRTMGP, are downloaded \n",
    "   by the Python package. \n",
    "   \n",
    " Although they are part of the same Python package we distinguish between `pyRRTMGP`, \n",
    "   which converts a description of the atmosphere into a radiative transfer problem, and \n",
    "   `pyRTE` which solves the radiative transfer problem to determine broadband fluxes\n",
    "\n",
    "pyRTE-RRTMGP relies on `xarray` representions of data and `dask` for parallelization \n",
    "\n",
    "## The workflow \n",
    "\n",
    "For both longwave and shortwave problems we will \n",
    "1. Initialize pyRRTMGP by reading the gas optics data\n",
    "2. Read the RFMIP atmospheric conditions\n",
    "3. Compute spectrally-resolved gas optics properties \n",
    "4. Solve the radiative transfer equation to obtain upward and downward fluxes\n",
    "5. Check the results against the reference solutions generated with the original RTE fortran code\n"
   ]
  },
  {
   "cell_type": "markdown",
   "id": "9bf75c4e",
   "metadata": {},
   "source": [
    "# Setting up the problem \n",
    "\n",
    "## Dependencies"
   ]
  },
  {
   "cell_type": "code",
   "execution_count": null,
   "id": "68b39b5c",
   "metadata": {},
   "outputs": [],
   "source": [
    "import numpy as np\n",
    "import xarray as xr\n",
    "\n",
    "from pyrte_rrtmgp import rrtmgp_gas_optics\n",
    "from pyrte_rrtmgp.data_types import (\n",
    "    GasOpticsFiles,\n",
    "    OpticsProblemTypes,\n",
    ")\n",
    "from pyrte_rrtmgp.rte_solver import rte_solve\n",
    "from pyrte_rrtmgp.examples import RFMIP_FILES, load_example_file"
   ]
  },
  {
   "cell_type": "markdown",
   "id": "4c63b536",
   "metadata": {},
   "source": [
    "## Initialize pyRRTMGP gas optics calculations "
   ]
  },
  {
   "cell_type": "code",
   "execution_count": null,
   "id": "ce05d441",
   "metadata": {},
   "outputs": [],
   "source": [
    "gas_optics_lw = rrtmgp_gas_optics.load_gas_optics(\n",
    "    gas_optics_file=GasOpticsFiles.LW_G256\n",
    ")\n",
    "\n",
    "gas_optics_sw = rrtmgp_gas_optics.load_gas_optics(\n",
    "    gas_optics_file=GasOpticsFiles.SW_G224\n",
    ")"
   ]
  },
  {
   "cell_type": "markdown",
   "id": "0e474e50",
   "metadata": {},
   "source": [
    "## Read the RFMIP atmopheric profiles"
   ]
  },
  {
   "cell_type": "code",
   "execution_count": null,
   "id": "5cef0236",
   "metadata": {},
   "outputs": [],
   "source": [
    "atmosphere = load_example_file(RFMIP_FILES.ATMOSPHERE)"
   ]
  },
  {
   "cell_type": "markdown",
   "id": "a3ee8826",
   "metadata": {},
   "source": [
    "Layer pressures and temperatures are bounded by range of the empirical \n",
    "  data. Level pressures are only restricted to be > 0 but the reference \n",
    "  results were produced using the minimum allowed layer pressure. \n",
    "  We reproduce that restriction here to get the same answers \n",
    "  as the reference calculation. "
   ]
  },
  {
   "cell_type": "code",
   "execution_count": null,
   "id": "343f9a0e",
   "metadata": {},
   "outputs": [],
   "source": [
    "atmosphere[\"pres_level\"] = xr.ufuncs.maximum(\n",
    "    gas_optics_sw.compute_gas_optics.press_min,\n",
    "    atmosphere[\"pres_level\"],\n",
    ")"
   ]
  },
  {
   "cell_type": "markdown",
   "id": "4e0ce628",
   "metadata": {},
   "source": [
    "## Conform to expectations\n",
    "\n",
    "pyRRTMGP interprets the input `xr.Dataset` by looking for `xr.DataArray`s with specific names. \n",
    "  Those names can be over-ridden via a mapping. \n",
    "  Here we create such a mapping for the gases in the RFMIP dataset. \n",
    "  The names as RRTMGP expects them are the keys in the dictionary; the valus are the names in the RFMIP dataset\n"
   ]
  },
  {
   "cell_type": "code",
   "execution_count": null,
   "id": "cda92099",
   "metadata": {},
   "outputs": [],
   "source": [
    "gas_mapping = {\n",
    "    \"h2o\": \"water_vapor\",\n",
    "    \"co2\": \"carbon_dioxide_GM\",\n",
    "    \"o3\": \"ozone\",\n",
    "    \"n2o\": \"nitrous_oxide_GM\",\n",
    "    \"co\": \"carbon_monoxide_GM\",\n",
    "    \"ch4\": \"methane_GM\",\n",
    "    \"o2\": \"oxygen_GM\",\n",
    "    \"n2\": \"nitrogen_GM\",\n",
    "    \"ccl4\": \"carbon_tetrachloride_GM\",\n",
    "    \"cfc11\": \"cfc11_GM\",\n",
    "    \"cfc12\": \"cfc12_GM\",\n",
    "    \"cfc22\": \"hcfc22_GM\",\n",
    "    \"hfc143a\": \"hfc143a_GM\",\n",
    "    \"hfc125\": \"hfc125_GM\",\n",
    "    \"hfc23\": \"hfc23_GM\",\n",
    "    \"hfc32\": \"hfc32_GM\",\n",
    "    \"hfc134a\": \"hfc134a_GM\",\n",
    "    \"cf4\": \"cf4_GM\",\n",
    "    \"no2\": \"no2\",\n",
    "}"
   ]
  },
  {
   "cell_type": "markdown",
   "id": "0409ed65",
   "metadata": {},
   "source": [
    "# Compute the spectrally-dependent optical properties "
   ]
  },
  {
   "cell_type": "markdown",
   "id": "bb1358c9",
   "metadata": {},
   "source": [
    "For the longwave problem we will make a new dataset with the optical properties \n",
    "  pyRRTMGP compute the optical properties (just optical depth `tau` for the longwave problem) and three \n",
    "  radiation source functions (on layers, on levels, and at the surface)"
   ]
  },
  {
   "cell_type": "code",
   "execution_count": null,
   "id": "a3471482",
   "metadata": {},
   "outputs": [],
   "source": [
    "optical_props = gas_optics_lw.compute_gas_optics(\n",
    "    atmosphere,\n",
    "    problem_type=OpticsProblemTypes.ABSORPTION,\n",
    "    gas_name_map=gas_mapping,\n",
    "    add_to_input = False,\n",
    ")\n",
    "optical_props"
   ]
  },
  {
   "cell_type": "markdown",
   "id": "eb26d310",
   "metadata": {},
   "source": [
    "For the shortave problem we will append the optical properties to the original dataset \n",
    "   Shortwave problems have three optical properties (`tau`, `ssa`, and `g`) but a single \n",
    "   source function defined at the top of atmosphere "
   ]
  },
  {
   "cell_type": "code",
   "execution_count": null,
   "id": "cea39955",
   "metadata": {
    "lines_to_next_cell": 2
   },
   "outputs": [],
   "source": [
    "gas_optics_sw.compute_gas_optics(\n",
    "    atmosphere,\n",
    "    problem_type=OpticsProblemTypes.TWO_STREAM,\n",
    "    gas_name_map=gas_mapping,\n",
    ")\n",
    "atmosphere"
   ]
  },
  {
   "cell_type": "markdown",
   "id": "5841b9b2",
   "metadata": {},
   "source": [
    "## Solve the Radiative Transfer Equation\n",
    "\n",
    "Before we can solve the radiative transfer equation we need to specify the boundary conditions - \n",
    "  for longwave radiation, the `surface_emissivity` which here comes from the RFMIP conditions "
   ]
  },
  {
   "cell_type": "code",
   "execution_count": null,
   "id": "30523891",
   "metadata": {},
   "outputs": [],
   "source": [
    "optical_props[\"surface_emissivity\"] = atmosphere.surface_emissivity"
   ]
  },
  {
   "cell_type": "markdown",
   "id": "f591c458",
   "metadata": {},
   "source": [
    "With the problem specified (optical properties, source functions, boundary conditions), \n",
    "  we can now solve the radiative transfer equation to find\n",
    "  the upward and downward broadband radiative fluxes for each atmospheric profile.\n",
    "\n",
    "For the longwave problem we use the dataset containing only the radiative transfer problem. \n",
    "All the arrays for the shortwave are in the same dataset"
   ]
  },
  {
   "cell_type": "code",
   "execution_count": null,
   "id": "df9281c6",
   "metadata": {
    "lines_to_next_cell": 2
   },
   "outputs": [],
   "source": [
    "lw_fluxes = rte_solve(\n",
    "\toptical_props, \n",
    "\tadd_to_input=False, \n",
    ")\n",
    "\n",
    "rte_solve(atmosphere)"
   ]
  },
  {
   "cell_type": "markdown",
   "id": "0863888b",
   "metadata": {
    "lines_to_next_cell": 0
   },
   "source": [
    "## Check the results against the reference solutions \n",
    "\n",
    "We compare all fluxes (up and down, shortwave and longwave) against the results of the reference code to ensure we \n",
    "   have the same results to within some tolerance \n",
    "\n",
    "### Read the reference results "
   ]
  },
  {
   "cell_type": "code",
   "execution_count": null,
   "id": "6791f8e4",
   "metadata": {},
   "outputs": [],
   "source": [
    "ref = xr.merge([\n",
    "\tload_example_file(RFMIP_FILES.REFERENCE_RLU), \n",
    "\tload_example_file(RFMIP_FILES.REFERENCE_RLD),\n",
    "\tload_example_file(RFMIP_FILES.REFERENCE_RSU), \n",
    "\tload_example_file(RFMIP_FILES.REFERENCE_RSD),\n",
    "\t]\n",
    ")"
   ]
  },
  {
   "cell_type": "markdown",
   "id": "d162704d",
   "metadata": {},
   "source": [
    "### Compare longave results"
   ]
  },
  {
   "cell_type": "code",
   "execution_count": null,
   "id": "7c415f43",
   "metadata": {
    "lines_to_next_cell": 2
   },
   "outputs": [],
   "source": [
    "assert np.isclose(\n",
    "    lw_fluxes[\"lw_flux_up\"].transpose(\"expt\", \"site\", \"level\"),\n",
    "    ref[\"rlu\"],\n",
    "    atol=1e-7,\n",
    ").all(), \"Longwave flux up mismatch\"\n",
    "assert np.isclose(\n",
    "    lw_fluxes[\"lw_flux_down\"].transpose(\"expt\", \"site\", \"level\"),\n",
    "    ref[\"rld\"],\n",
    "    atol=1e-7,\n",
    ").all(), \"Longwave flux down mismatch\""
   ]
  },
  {
   "cell_type": "markdown",
   "id": "536ee2f4",
   "metadata": {},
   "source": [
    "### Compare shortwave results"
   ]
  },
  {
   "cell_type": "code",
   "execution_count": null,
   "id": "534baae2",
   "metadata": {},
   "outputs": [],
   "source": [
    "assert np.isclose(\n",
    "    atmosphere[\"sw_flux_up\"].transpose(\"expt\", \"site\", \"level\"),\n",
    "    ref[\"rsu\"],\n",
    "    atol=1e-7,\n",
    ").all(), \"Shortwave flux up mismatch\"\n",
    "assert np.isclose(\n",
    "    atmosphere[\"sw_flux_down\"].transpose(\"expt\", \"site\", \"level\"),\n",
    "    ref[\"rsd\"],\n",
    "    atol=1e-7,\n",
    ").all(), \"Shortwave flux down mismatch\""
   ]
  },
  {
   "cell_type": "code",
   "execution_count": null,
   "id": "6b60bbc9",
   "metadata": {},
   "outputs": [],
   "source": [
    "print(\"RFMIP clear-sky calculations validated\")"
   ]
  },
  {
   "cell_type": "markdown",
   "id": "14f99be8",
   "metadata": {},
   "source": [
    "# Variants\n",
    "\n",
    "See the `pyRTE-quick-start notebook for more examples, including how to parallelize computations with `dask` and \n",
    "  how to add clouds to the problem, and how to combine multiple steps of the calculation at once "
   ]
  }
 ],
 "metadata": {
  "jupytext": {
   "main_language": "python"
  }
 },
 "nbformat": 4,
 "nbformat_minor": 5
}
