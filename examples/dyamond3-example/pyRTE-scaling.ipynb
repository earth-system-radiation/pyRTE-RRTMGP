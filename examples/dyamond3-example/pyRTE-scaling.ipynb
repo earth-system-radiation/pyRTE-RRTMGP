{
 "cells": [
  {
   "cell_type": "markdown",
   "id": "88e91271",
   "metadata": {},
   "source": [
    "# Introduction\n",
    "\n",
    "This notebook demonstrates how to compute fluxes from global model data. \n",
    "  Data comes from the ICON contribution to the \n",
    "  [WCRP Global KM scale hackathon](https://github.com/digital-earths-global-hackathon). \n",
    "  Data is read from an online Zarr store accessed through an `intake` catalog. \n",
    "\n",
    "The environment needed to run the notebook is described in the local `environment.yml` file.\n",
    "\n",
    "The notebook might be useful as an example of how to a data set into the form needed \n",
    "  by pyRTE. \n",
    "\n",
    "We (the developers) are also using the notebook to refine the performance of pyRTE. \n",
    "  Data is on the HEALPix hierarchial equal-area grid so the spatial resolution and \n",
    "  number of points can be changed by setting the zoom level. \n",
    "\n",
    "When run with pyRTE v0.1.1 some computations don't work; we are using the notebook \n",
    "  to diagnose and fix the errors. \n",
    "\n"
   ]
  },
  {
   "cell_type": "code",
   "execution_count": null,
   "id": "d87d06ea",
   "metadata": {},
   "outputs": [],
   "source": [
    "import numpy as np\n",
    "import xarray as xr\n",
    "import intake"
   ]
  },
  {
   "cell_type": "code",
   "execution_count": null,
   "id": "7d014b18",
   "metadata": {},
   "outputs": [],
   "source": [
    "from pyrte_rrtmgp import rrtmgp_cloud_optics, rrtmgp_gas_optics\n",
    "from pyrte_rrtmgp.rrtmgp_data_files import (\n",
    "    CloudOpticsFiles,\n",
    "    GasOpticsFiles,\n",
    ")\n",
    "from pyrte_rrtmgp.data_types import OpticsProblemTypes\n",
    "from pyrte_rrtmgp.rte_solver import rte_solve"
   ]
  },
  {
   "cell_type": "code",
   "execution_count": null,
   "id": "42b6b497",
   "metadata": {},
   "outputs": [],
   "source": [
    "import warnings\n",
    "\n",
    "# Suppress specific FutureWarnings matching the message pattern when using cat[...].to_dask()\n",
    "warnings.filterwarnings(\n",
    "    \"ignore\",\n",
    "    message=\".*The return type of `Dataset.dims` will be changed.*\",\n",
    "    category=FutureWarning,\n",
    ")"
   ]
  },
  {
   "cell_type": "markdown",
   "id": "bd76b523",
   "metadata": {},
   "source": [
    "# Read data\n",
    "\n",
    "Zoom level 5 is 12288 points (roughly 5 degrees); each zoom level (max 11, min 0) is 4x change in the number of points \n",
    "  (or 2x change in grid density)\n",
    "\n",
    "Perhaps chunks should be introduced at this stage? "
   ]
  },
  {
   "cell_type": "code",
   "execution_count": null,
   "id": "c1126b8c",
   "metadata": {},
   "outputs": [],
   "source": [
    "cat = intake.open_catalog('https://digital-earths-global-hackathon.github.io/catalog/catalog.yaml')['online']"
   ]
  },
  {
   "cell_type": "code",
   "execution_count": null,
   "id": "39886b4d",
   "metadata": {},
   "outputs": [],
   "source": [
    "zoom = 5\n",
    "data = cat[\"icon_d3hp003feb\"](zoom=zoom).to_dask()"
   ]
  },
  {
   "cell_type": "code",
   "execution_count": null,
   "id": "2497e56f",
   "metadata": {},
   "outputs": [],
   "source": [
    "data"
   ]
  },
  {
   "cell_type": "markdown",
   "id": "e72c4016",
   "metadata": {},
   "source": [
    "# Transform the data to the form needed to compute fluxes "
   ]
  },
  {
   "cell_type": "markdown",
   "id": "dd47855b",
   "metadata": {},
   "source": [
    "## Pressure values on levels\n",
    " Top level pressure is arbitrary, bottom level presure would normally be surface pressure but these data have been \n",
    " interpolated to fixed pressures so the surface pressure can be well below 1000 hPa "
   ]
  },
  {
   "cell_type": "code",
   "execution_count": null,
   "id": "778ac605",
   "metadata": {},
   "outputs": [],
   "source": [
    "data[\"pressure_h\"] = xr.concat([\n",
    "                        xr.DataArray([1.25], dims=\"pressure_h\"),\n",
    "                        xr.DataArray(((data.pressure.values[1:] * data.pressure.values[:-1]) ** 0.5), dims=\"pressure_h\"),\n",
    "                        xr.DataArray([100500], dims=\"pressure_h\")\n",
    "                    ], dim = \"pressure_h\")"
   ]
  },
  {
   "cell_type": "markdown",
   "id": "3c446e07",
   "metadata": {},
   "source": [
    "## Temperature on levels\n",
    "Linear interpolation of temperature in pressure\n",
    "  Temperature at top level is same as top layer \n",
    "  Temperature at bottom level is surface T (might be colder than lowest layer when elevation is high) \n"
   ]
  },
  {
   "cell_type": "code",
   "execution_count": null,
   "id": "772e8046",
   "metadata": {},
   "outputs": [],
   "source": [
    "data[\"ta_h\"] = data.ta.interp(pressure=data.pressure_h)\n",
    "data[\"ta_h\"][:,  0, :] = data.ta[:,  0, :]\n",
    "data[\"ta_h\"][:, -1, :] = data.ts"
   ]
  },
  {
   "cell_type": "markdown",
   "id": "8f0ae801",
   "metadata": {},
   "source": [
    "## Water vapor - convert specific humidity to molar mixing ratio \n",
    "\n",
    "Molar mixing ratio assuming specific humidity is water mass/dry air mass (not quite correct)\n",
    "  Md, Mw are molar mases of dry air and water vapor \n"
   ]
  },
  {
   "cell_type": "code",
   "execution_count": null,
   "id": "a55e3e1e",
   "metadata": {
    "lines_to_next_cell": 2
   },
   "outputs": [],
   "source": [
    "Md = 0.0289652\n",
    "Mw = 0.018016\n",
    "data[\"h2o\"] = data.hus * (Md/Mw)"
   ]
  },
  {
   "cell_type": "markdown",
   "id": "86f91880",
   "metadata": {},
   "source": [
    "## Ozone from monthly-mean ERA5 interpolated onto HEALPix grid at zoom levels 8 and below"
   ]
  },
  {
   "cell_type": "code",
   "execution_count": null,
   "id": "bfab8140",
   "metadata": {},
   "outputs": [],
   "source": [
    "Mo3 = .047998\n",
    "if zoom <= 8:\n",
    "    data[\"o3\"] = cat[\"ERA5\"](zoom=zoom)\\\n",
    "        .to_dask()\\\n",
    "        .sel(time=\"2020-02-01\", method=\"nearest\")\\\n",
    "        .o3.interp(level=data.pressure)\\\n",
    "        .reset_coords((\"lat\", \"lon\", \"level\", \"time\"))\\\n",
    "        .drop_vars((\"lat\", \"lon\", \"level\", \"time\"))\\\n",
    "        .o3 * (Md/Mo3)\n",
    "\n",
    "data.o3.attrs['units'] = \"1\"   \n",
    "# This is actually a mass fraction; need to set to vmr \n",
    "# also need to change/delete units\n",
    "    \n",
    "# For zoom > 8 we need to interpolate in space too - probably nearest neighbor "
   ]
  },
  {
   "cell_type": "markdown",
   "id": "d786ce12",
   "metadata": {},
   "source": [
    "## Well-mixed greenhouse gases (these are pre-industrial values, should update) "
   ]
  },
  {
   "cell_type": "code",
   "execution_count": null,
   "id": "3cf9a2d8",
   "metadata": {},
   "outputs": [],
   "source": [
    "gas_values = {\n",
    "        \"co2\": 348e-6,\n",
    "        \"ch4\": 1650e-9,\n",
    "        \"n2o\": 306e-9,\n",
    "        \"n2\": 0.7808,\n",
    "        \"o2\": 0.2095,\n",
    "        \"co\": 0.0,\n",
    "}\n",
    "for gas_name, value in gas_values.items():\n",
    "    data[gas_name] = value"
   ]
  },
  {
   "cell_type": "markdown",
   "id": "83716502",
   "metadata": {},
   "source": [
    "## Cloud properties \n",
    "  Data set includes only `qall` all hydrometeors. \n",
    "  RRTMGP requires liquid and ice water paths (g/m2) and particle sizes (microns)\n",
    "  - Assume all clouds > 263 are liquid, everything else is ice (could refine)\n",
    "  - Convert from MMR to vertically-integrated LWP, IWP (haven't done this yet)"
   ]
  },
  {
   "cell_type": "code",
   "execution_count": null,
   "id": "63031dd6",
   "metadata": {},
   "outputs": [],
   "source": [
    "#\n",
    "# Pressure thickness of each layer \n",
    "#\n",
    "dp = xr.DataArray(xr.ufuncs.abs(data.pressure_h.diff(dim=\"pressure_h\")).values, \n",
    "                 dims = (\"pressure\")) \n",
    "#\n",
    "# Gravity  \n",
    "#\n",
    "g = 9.8 \n",
    "data[\"lwp\"] = xr.where(data.ta >= 263., \n",
    "                       data.qall * dp/g * 1000, \n",
    "                       0)  \n",
    "data[\"iwp\"] = xr.where(data.ta <  263., \n",
    "                       data.qall * dp/g * 1000, \n",
    "                       0)  \n",
    "\n",
    "# Liquid and ice effective sizes in microns \n",
    "data[\"rel\"] = xr.where(data.lwp > 0., 10., 0)  \n",
    "data[\"rei\"] = xr.where(data.iwp > 0,  35., 0)  "
   ]
  },
  {
   "cell_type": "code",
   "execution_count": null,
   "id": "383625ba",
   "metadata": {},
   "outputs": [],
   "source": [
    "# ## Change variable and coordinate names to those needed by pyRTE \n",
    "\n",
    "# Workaround\n",
    "#    top_at_1 determination assumes 2D pressure arrays\n",
    "#    we add this array and drop the 1D pressure variable\n",
    "#    need to revise to use isel(layer=0)[0] and (layer=-1)[0]\n",
    "data[\"p2\"] = data[\"pressure\"].broadcast_like(data.ta)\n",
    "\n",
    "var_mapping = {\"p2\":\"pres_layer\", \n",
    "               \"pressure_h\":\"pres_level\", \n",
    "               \"ta\":\"temp_layer\", \n",
    "               \"ta_h\":\"temp_level\",\n",
    "               \"ts\":\"surface_temperature\"}\n",
    "\n",
    "atmosphere = data.rename_dims({\"pressure\":\"layer\", \n",
    "                               \"pressure_h\":\"level\"})\\\n",
    "                 .rename(var_mapping)\\\n",
    "                 .isel(time=6)\\\n",
    "                 .drop_vars((\"pressure\", \"crs\"))\n",
    "atmosphere"
   ]
  },
  {
   "cell_type": "markdown",
   "id": "187df990",
   "metadata": {},
   "source": [
    "# pyRTE\n",
    "\n",
    "## Initialization "
   ]
  },
  {
   "cell_type": "code",
   "execution_count": null,
   "id": "34764698",
   "metadata": {
    "lines_to_next_cell": 2
   },
   "outputs": [],
   "source": [
    "cloud_optics_lw = rrtmgp_cloud_optics.load_cloud_optics(\n",
    "    cloud_optics_file=CloudOpticsFiles.LW_BND\n",
    ")\n",
    "gas_optics_lw = rrtmgp_gas_optics.load_gas_optics(\n",
    "    gas_optics_file=GasOpticsFiles.LW_G256\n",
    ")\n",
    "\n",
    "cloud_optics_sw = rrtmgp_cloud_optics.load_cloud_optics(\n",
    "    cloud_optics_file=CloudOpticsFiles.SW_BND\n",
    ")\n",
    "gas_optics_sw = rrtmgp_gas_optics.load_gas_optics(\n",
    "    gas_optics_file=GasOpticsFiles.SW_G224\n",
    ")"
   ]
  },
  {
   "cell_type": "markdown",
   "id": "914292ce",
   "metadata": {
    "lines_to_next_cell": 2
   },
   "source": [
    "## Testing\n",
    "\n",
    "We should be systematic here, exercising gas optics, \n",
    "  cloud optics, and the complete compuation of fluxes \n",
    "  for all variants of the gas and cloud optics input \n",
    "  files. \n",
    "We should also experiement with dask and no dask "
   ]
  },
  {
   "cell_type": "markdown",
   "id": "5ccb545c",
   "metadata": {},
   "source": [
    "## Test gas optics"
   ]
  },
  {
   "cell_type": "code",
   "execution_count": null,
   "id": "906beda2",
   "metadata": {},
   "outputs": [],
   "source": [
    "# \n",
    "# SW gas optics\n",
    "#   Not clear that this is running in parallel \n",
    "#   And there are some NaNs in the tau field... that's bad\n",
    "#\n",
    "sw_optics = gas_optics_sw.compute_gas_optics(\n",
    "                atmosphere,\n",
    "                problem_type=OpticsProblemTypes.TWO_STREAM, \n",
    "                add_to_input=False,\n",
    ")\n",
    "\n"
   ]
  },
  {
   "cell_type": "code",
   "execution_count": null,
   "id": "e50d8ab5",
   "metadata": {},
   "outputs": [],
   "source": [
    "#\n",
    "# What index values have NaN values? \n",
    "#\n",
    "sw_optics[\"tau\"].where(xr.ufuncs.isnan(sw_optics[\"tau\"]), drop=True)\n",
    "\n",
    "# Using 112 gpts nans are present at pressure level 0, some of gpts 0-9, 71-95, 102-111, all cells "
   ]
  },
  {
   "cell_type": "code",
   "execution_count": null,
   "id": "884096c8",
   "metadata": {
    "lines_to_next_cell": 0
   },
   "outputs": [],
   "source": [
    "#\n",
    "# Using 112 gpts this slice, and another from maybe 110-112, are NaNs\n",
    "#\n",
    "sw_optics[\"tau\"].isel(cell=100, layer=-1).where(xr.ufuncs.isnan(sw_optics[\"tau\"].isel(cell=100, layer=-1)), drop=True)"
   ]
  },
  {
   "cell_type": "code",
   "execution_count": null,
   "id": "9c9d8d25",
   "metadata": {},
   "outputs": [],
   "source": [
    "# \n",
    "# LW gas optics\n",
    "#   Produces non-zero values of tau for 256 gpts \n",
    "#   Doesn't work full stop with 128 gpts\n",
    "#\n",
    "lw_optics = gas_optics_lw.compute_gas_optics(\n",
    "                atmosphere,\n",
    "                problem_type=OpticsProblemTypes.ABSORPTION, \n",
    "                add_to_input=False,\n",
    ")"
   ]
  },
  {
   "cell_type": "markdown",
   "id": "c9549117",
   "metadata": {},
   "source": [
    "## Test cloud optics"
   ]
  },
  {
   "cell_type": "code",
   "execution_count": null,
   "id": "5e548278",
   "metadata": {},
   "outputs": [],
   "source": [
    "# \n",
    "# Shortwave cloud optics\n",
    "#\n",
    "sw_cld_optics = cloud_optics_lw.compute_cloud_optics(\n",
    "    atmosphere, \n",
    "    problem_type=OpticsProblemTypes.TWO_STREAM\n",
    ")\n",
    "sw_cld_optics[\"tau\"]"
   ]
  },
  {
   "cell_type": "code",
   "execution_count": null,
   "id": "dc3d0c02",
   "metadata": {
    "lines_to_next_cell": 2
   },
   "outputs": [],
   "source": [
    "# \n",
    "# Longwave cloud optics\n",
    "#\n",
    "lw_cld_optics = cloud_optics_lw.compute_cloud_optics(\n",
    "    atmosphere, \n",
    "    problem_type=OpticsProblemTypes.ABSORPTION\n",
    ")\n",
    "lw_cld_optics[\"tau\"]"
   ]
  },
  {
   "cell_type": "markdown",
   "id": "6e8aa3f2",
   "metadata": {},
   "source": [
    "## Compute fluxes from atmosphere conditions  "
   ]
  },
  {
   "cell_type": "code",
   "execution_count": null,
   "id": "3f2df7cf",
   "metadata": {},
   "outputs": [],
   "source": [
    "#\n",
    "# Shortwave fluxes \n",
    "# \n",
    "sw_fluxes = rte_solve(\n",
    "    xr.merge(\n",
    "        [cloud_optics_sw.compute_cloud_optics(\n",
    "            atmosphere, \n",
    "            problem_type=OpticsProblemTypes.TWO_STREAM, \n",
    "         )\\\n",
    "         .add_to(\n",
    "             gas_optics_sw.compute_gas_optics(\n",
    "                    atmosphere,\n",
    "                    problem_type=OpticsProblemTypes.TWO_STREAM, \n",
    "                    add_to_input=False,\n",
    "             ),\n",
    "             delta_scale = True,\n",
    "         ), \n",
    "         xr.Dataset(data_vars = {\"surface_albedo\":0.06, \n",
    "                                \"mu0\":0.86}\n",
    "                   ),\n",
    "        ],\n",
    "    ),\n",
    "    add_to_input = False,\n",
    ")"
   ]
  },
  {
   "cell_type": "code",
   "execution_count": null,
   "id": "11fcc3e5",
   "metadata": {
    "lines_to_next_cell": 2
   },
   "outputs": [],
   "source": [
    "#\n",
    "# Longwave fluxes \n",
    "# \n",
    "lw_fluxes = rte_solve(\n",
    "    xr.merge(\n",
    "        [cloud_optics_lw.compute_cloud_optics(\n",
    "            atmosphere, \n",
    "            problem_type=OpticsProblemTypes.ABSORPTION, \n",
    "         )\\\n",
    "         .add_to(\n",
    "             gas_optics_lw.compute_gas_optics(\n",
    "                    atmosphere,\n",
    "                    problem_type=OpticsProblemTypes.ABSORPTION, \n",
    "                    add_to_input=False,\n",
    "             ), \n",
    "         ), \n",
    "        xr.Dataset(data_vars = {\"surface_emissivity\":0.98}),\n",
    "        ],\n",
    "    ),\n",
    "    add_to_input = False,\n",
    ")"
   ]
  }
 ],
 "metadata": {
  "kernelspec": {
   "display_name": "pyrte-hk25-notebooks",
   "language": "python",
   "name": "pyrte-hk25-notebooks"
  }
 },
 "nbformat": 4,
 "nbformat_minor": 5
}
