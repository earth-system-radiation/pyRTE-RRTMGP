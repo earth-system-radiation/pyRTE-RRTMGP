{
 "cells": [
  {
   "cell_type": "markdown",
   "id": "15540a90",
   "metadata": {},
   "source": [
    "# Introduction\n",
    "\n",
    "This notebook demonstrates how to compute fluxes from global model data. \n",
    "  Data comes from the ICON contribution to the \n",
    "  [WCRP Global KM scale hackathon](https://github.com/digital-earths-global-hackathon). \n",
    "  Data is read from an online Zarr store accessed through an `intake` catalog. \n",
    "\n",
    "The environment needed to run the notebook is described in the local `environment.yml` file.\n",
    "\n",
    "The notebook might be useful as an example of how to a data set into the form needed \n",
    "  by pyRTE. \n",
    "\n",
    "We (the developers) are also using the notebook to refine the performance of pyRTE. \n",
    "  Data is on the HEALPix hierarchial equal-area grid so the spatial resolution and \n",
    "  number of points can be changed by setting the zoom level. \n",
    "\n",
    "When run with pyRTE v0.1.1 some computations don't work; we are using the notebook \n",
    "  to diagnose and fix the errors. \n",
    "\n"
   ]
  },
  {
   "cell_type": "code",
   "execution_count": null,
   "id": "4db75cfa-f03e-46cf-aae1-048e66d6b76a",
   "metadata": {},
   "outputs": [],
   "source": [
    "import numpy as np\n",
    "import xarray as xr\n",
    "import intake"
   ]
  },
  {
   "cell_type": "code",
   "execution_count": null,
   "id": "579f8785-01bc-4c30-9111-5c81bf305b3f",
   "metadata": {},
   "outputs": [],
   "source": [
    "from pyrte_rrtmgp import rrtmgp_cloud_optics, rrtmgp_gas_optics\n",
    "from pyrte_rrtmgp.data_types import (\n",
    "    CloudOpticsFiles,\n",
    "    GasOpticsFiles,\n",
    "    OpticsProblemTypes,\n",
    ")\n",
    "from pyrte_rrtmgp.rte_solver import rte_solve"
   ]
  },
  {
   "cell_type": "code",
   "execution_count": null,
   "id": "dfc4baba-cbf9-45b8-8b0e-0c1e4019cba7",
   "metadata": {},
   "outputs": [],
   "source": [
    "import warnings\n",
    "\n",
    "# Suppress specific FutureWarnings matching the message pattern when using cat[...].to_dask()\n",
    "warnings.filterwarnings(\n",
    "    \"ignore\",\n",
    "    message=\".*The return type of `Dataset.dims` will be changed.*\",\n",
    "    category=FutureWarning,\n",
    ")"
   ]
  },
  {
   "cell_type": "markdown",
   "id": "7c0fa76a-8cad-41c9-a2a8-0a6f2180484c",
   "metadata": {},
   "source": [
    "# Read data\n",
    "\n",
    "Zoom level 5 is 12288 points (roughly 5 degrees); each zoom level (max 11, min 0) is 4x change in the number of points \n",
    "  (or 2x change in grid density)\n",
    "\n",
    "Perhaps chunks should be introduced at this stage? "
   ]
  },
  {
   "cell_type": "code",
   "execution_count": null,
   "id": "0060889e-1b53-4bdf-a280-7f7703873f60",
   "metadata": {},
   "outputs": [],
   "source": [
    "cat = intake.open_catalog('https://digital-earths-global-hackathon.github.io/catalog/catalog.yaml')['online']"
   ]
  },
  {
   "cell_type": "code",
   "execution_count": null,
   "id": "0542a51c-00a7-4c77-907b-3ed1228e8e23",
   "metadata": {},
   "outputs": [],
   "source": [
    "zoom = 5\n",
    "data = cat[\"icon_d3hp003feb\"](zoom=zoom).to_dask()"
   ]
  },
  {
   "cell_type": "code",
   "execution_count": null,
   "id": "aa9394df-9d8a-418a-88e1-1707dcaded8b",
   "metadata": {
    "scrolled": true
   },
   "outputs": [],
   "source": [
    "data"
   ]
  },
  {
   "cell_type": "markdown",
   "id": "8caebfec-da83-4a70-8104-c388b1e68be9",
   "metadata": {},
   "source": [
    "# Transform the data to the form needed to compute fluxes "
   ]
  },
  {
   "cell_type": "markdown",
   "id": "0f515f5e",
   "metadata": {},
   "source": [
    "## Pressure values on levels\n",
    " Top level pressure is arbitrary, bottom level presure would normally be surface pressure but these data have been \n",
    " interpolated to fixed pressures so the surface pressure can be well below 1000 hPa "
   ]
  },
  {
   "cell_type": "code",
   "execution_count": null,
   "id": "e53bf5dc",
   "metadata": {},
   "outputs": [],
   "source": [
    "data[\"pressure_h\"] = xr.concat([\n",
    "                        xr.DataArray([1.25], dims=\"pressure_h\"),\n",
    "                        xr.DataArray(((data.pressure.values[1:] * data.pressure.values[:-1]) ** 0.5), dims=\"pressure_h\"),\n",
    "                        xr.DataArray([100500], dims=\"pressure_h\")\n",
    "                    ], dim = \"pressure_h\")"
   ]
  },
  {
   "cell_type": "markdown",
   "id": "82467913",
   "metadata": {},
   "source": [
    "## Temperature on levels\n",
    "Linear interpolation of temperature in pressure\n",
    "  Temperature at top level is same as top layer \n",
    "  Temperature at bottom level is surface T (might be colder than lowest layer when elevation is high) \n"
   ]
  },
  {
   "cell_type": "code",
   "execution_count": null,
   "id": "11c2fd50",
   "metadata": {},
   "outputs": [],
   "source": [
    "data[\"ta_h\"] = data.ta.interp(pressure=data.pressure_h)\n",
    "data[\"ta_h\"][:,  0, :] = data.ta[:,  0, :]\n",
    "data[\"ta_h\"][:, -1, :] = data.ts"
   ]
  },
  {
   "cell_type": "markdown",
   "id": "ae8c070c",
   "metadata": {},
   "source": [
    "## Water vapor - convert specific humidity to molar mixing ratio \n",
    "\n",
    "Molar mixing ratio assuming specific humidity is water mass/dry air mass (not quite correct)\n",
    "  Md, Mw are molar mases of dry air and water vapor \n"
   ]
  },
  {
   "cell_type": "code",
   "execution_count": null,
   "id": "ca9a7d4c",
   "metadata": {
    "lines_to_next_cell": 2
   },
   "outputs": [],
   "source": [
    "Md = 0.0289652\n",
    "Mw = 0.018016\n",
    "data[\"h2o\"] = data.hus * (Md/Mw)"
   ]
  },
  {
   "cell_type": "markdown",
   "id": "d3a66630",
   "metadata": {},
   "source": [
    "## Ozone from monthly-mean ERA5 interpolated onto HEALPix grid at zoom levels 8 and below"
   ]
  },
  {
   "cell_type": "code",
   "execution_count": null,
   "id": "8b8d1140",
   "metadata": {},
   "outputs": [],
   "source": [
    "Mo3 = .047998\n",
    "if zoom <= 8:\n",
    "    data[\"o3\"] = cat[\"ERA5\"](zoom=zoom)\\\n",
    "        .to_dask()\\\n",
    "        .sel(time=\"2020-02-01\", method=\"nearest\")\\\n",
    "        .o3.interp(level=data.pressure)\\\n",
    "        .reset_coords((\"lat\", \"lon\", \"level\", \"time\"))\\\n",
    "        .drop_vars((\"lat\", \"lon\", \"level\", \"time\"))\\\n",
    "        .o3 * (Md/Mo3)\n",
    "\n",
    "data.o3.attrs['units'] = \"1\"   \n",
    "# This is actually a mass fraction; need to set to vmr \n",
    "# also need to change/delete units\n",
    "    \n",
    "# For zoom > 8 we need to interpolate in space too - probably nearest neighbor "
   ]
  },
  {
   "cell_type": "markdown",
   "id": "73fbfbe3",
   "metadata": {},
   "source": [
    "## Well-mixed greenhouse gases (these are pre-industrial values, should update) "
   ]
  },
  {
   "cell_type": "code",
   "execution_count": null,
   "id": "54c22e2e-0023-40ff-b9a9-93a1801ca875",
   "metadata": {},
   "outputs": [],
   "source": [
    "gas_values = {\n",
    "        \"co2\": 348e-6,\n",
    "        \"ch4\": 1650e-9,\n",
    "        \"n2o\": 306e-9,\n",
    "        \"n2\": 0.7808,\n",
    "        \"o2\": 0.2095,\n",
    "        \"co\": 0.0,\n",
    "}\n",
    "for gas_name, value in gas_values.items():\n",
    "    data[gas_name] = value"
   ]
  },
  {
   "cell_type": "markdown",
   "id": "4cf7e8b8",
   "metadata": {},
   "source": [
    "## Cloud properties \n",
    "  Data set includes only `qall` all hydrometeors. \n",
    "  RRTMGP requires liquid and ice water paths (g/m2) and particle sizes (microns)\n",
    "  - Assume all clouds > 263 are liquid, everything else is ice (could refine)\n",
    "  - Convert from MMR to vertically-integrated LWP, IWP (haven't done this yet)"
   ]
  },
  {
   "cell_type": "code",
   "execution_count": null,
   "id": "7e00659a",
   "metadata": {},
   "outputs": [],
   "source": [
    "#\n",
    "# Pressure thickness of each layer \n",
    "#\n",
    "dp = xr.DataArray(xr.ufuncs.abs(data.pressure_h.diff(dim=\"pressure_h\")).values, \n",
    "                 dims = (\"pressure\")) \n",
    "#\n",
    "# Gravity  \n",
    "#\n",
    "g = 9.8 \n",
    "data[\"lwp\"] = xr.where(data.ta >= 263., \n",
    "                       data.qall * dp/g * 1000, \n",
    "                       0)  \n",
    "data[\"iwp\"] = xr.where(data.ta <  263., \n",
    "                       data.qall * dp/g * 1000, \n",
    "                       0)  \n",
    "\n",
    "# Liquid and ice effective sizes in microns \n",
    "data[\"rel\"] = xr.where(data.lwp > 0., 10., 0)  \n",
    "data[\"rei\"] = xr.where(data.iwp > 0,  35., 0)  "
   ]
  },
  {
   "cell_type": "code",
   "execution_count": null,
   "id": "f01f0c02",
   "metadata": {},
   "outputs": [],
   "source": [
    "# ## Change variable and coordinate names to those needed by pyRTE \n",
    "\n",
    "# Workaround\n",
    "#    top_at_1 determination assumes 2D pressure arrays\n",
    "#    we add this array and drop the 1D pressure variable\n",
    "#    need to revise to use isel(layer=0)[0] and (layer=-1)[0]\n",
    "data[\"p2\"] = data[\"pressure\"].broadcast_like(data.ta)\n",
    "\n",
    "var_mapping = {\"p2\":\"pres_layer\", \n",
    "               \"pressure_h\":\"pres_level\", \n",
    "               \"ta\":\"temp_layer\", \n",
    "               \"ta_h\":\"temp_level\",\n",
    "               \"ts\":\"surface_temperature\"}\n",
    "\n",
    "atmosphere = data.rename_dims({\"pressure\":\"layer\", \n",
    "                               \"pressure_h\":\"level\"})\\\n",
    "                 .rename(var_mapping)\\\n",
    "                 .isel(time=6)\\\n",
    "                 .drop_vars((\"pressure\", \"crs\"))\n",
    "atmosphere"
   ]
  },
  {
   "cell_type": "markdown",
   "id": "ba4a42cf-399c-45b2-a211-3f9fdb3f9f43",
   "metadata": {},
   "source": [
    "# pyRTE\n",
    "\n",
    "## Initialization "
   ]
  },
  {
   "cell_type": "code",
   "execution_count": null,
   "id": "75a79c03-73d6-4173-9639-6715225b91cb",
   "metadata": {
    "lines_to_next_cell": 2
   },
   "outputs": [],
   "source": [
    "cloud_optics_lw = rrtmgp_cloud_optics.load_cloud_optics(\n",
    "    cloud_optics_file=CloudOpticsFiles.LW_BND\n",
    ")\n",
    "gas_optics_lw = rrtmgp_gas_optics.load_gas_optics(\n",
    "    gas_optics_file=GasOpticsFiles.LW_G256\n",
    ")\n",
    "\n",
    "cloud_optics_sw = rrtmgp_cloud_optics.load_cloud_optics(\n",
    "    cloud_optics_file=CloudOpticsFiles.SW_BND\n",
    ")\n",
    "gas_optics_sw = rrtmgp_gas_optics.load_gas_optics(\n",
    "    gas_optics_file=GasOpticsFiles.SW_G224\n",
    ")"
   ]
  },
  {
   "cell_type": "markdown",
   "id": "22a8b288",
   "metadata": {
    "lines_to_next_cell": 2
   },
   "source": [
    "## Testing\n",
    "\n",
    "We should be systematic here, exercising gas optics, \n",
    "  cloud optics, and the complete compuation of fluxes \n",
    "  for all variants of the gas and cloud optics input \n",
    "  files. \n",
    "We should also experiement with dask and no dask "
   ]
  },
  {
   "cell_type": "markdown",
   "id": "fc51ae40",
   "metadata": {},
   "source": [
    "## Test gas optics"
   ]
  },
  {
   "cell_type": "code",
   "execution_count": null,
   "id": "e9a398ed",
   "metadata": {},
   "outputs": [],
   "source": [
    "# \n",
    "# SW gas optics\n",
    "#   Not clear that this is running in parallel \n",
    "#   And there are some NaNs in the tau field... that's bad\n",
    "#\n",
    "sw_optics = gas_optics_sw.compute_gas_optics(\n",
    "                atmosphere,\n",
    "                problem_type=OpticsProblemTypes.TWO_STREAM, \n",
    "                add_to_input=False,\n",
    ")\n",
    "\n"
   ]
  },
  {
   "cell_type": "code",
   "execution_count": null,
   "id": "4e0352ad-8ad2-4459-bd36-e0dd6e2ca34e",
   "metadata": {},
   "outputs": [],
   "source": [
    "#\n",
    "# What index values have NaN values? \n",
    "#\n",
    "sw_optics[\"tau\"].where(xr.ufuncs.isnan(sw_optics[\"tau\"]), drop=True)\n",
    "\n",
    "# Using 112 gpts nans are present at pressure level 0, some of gpts 0-9, 71-95, 102-111, all cells "
   ]
  },
  {
   "cell_type": "code",
   "execution_count": null,
   "id": "10ebedd6",
   "metadata": {
    "lines_to_next_cell": 0
   },
   "outputs": [],
   "source": [
    "#\n",
    "# Using 112 gpts this slice, and another from maybe 110-112, are NaNs\n",
    "#\n",
    "sw_optics[\"tau\"].isel(cell=100, layer=-1).where(xr.ufuncs.isnan(sw_optics[\"tau\"].isel(cell=100, layer=-1)), drop=True)"
   ]
  },
  {
   "cell_type": "code",
   "execution_count": null,
   "id": "89765ec2",
   "metadata": {},
   "outputs": [],
   "source": [
    "# \n",
    "# LW gas optics\n",
    "#   Produces non-zero values of tau for 256 gpts \n",
    "#   Doesn't work full stop with 128 gpts\n",
    "#\n",
    "lw_optics = gas_optics_lw.compute_gas_optics(\n",
    "                atmosphere,\n",
    "                problem_type=OpticsProblemTypes.ABSORPTION, \n",
    "                add_to_input=False,\n",
    ")"
   ]
  },
  {
   "cell_type": "markdown",
   "id": "04c45281",
   "metadata": {},
   "source": [
    "## Test cloud optics"
   ]
  },
  {
   "cell_type": "code",
   "execution_count": null,
   "id": "f5329280",
   "metadata": {},
   "outputs": [],
   "source": [
    "# \n",
    "# Shortwave cloud optics\n",
    "#\n",
    "sw_cld_optics = cloud_optics_lw.compute_cloud_optics(\n",
    "    atmosphere, \n",
    "    problem_type=OpticsProblemTypes.TWO_STREAM\n",
    ")\n",
    "sw_cld_optics[\"tau\"]"
   ]
  },
  {
   "cell_type": "code",
   "execution_count": null,
   "id": "01921bb7-1e70-4930-abb6-afc537cd7aa4",
   "metadata": {
    "lines_to_next_cell": 2
   },
   "outputs": [],
   "source": [
    "# \n",
    "# Longwave cloud optics\n",
    "#\n",
    "lw_cld_optics = cloud_optics_lw.compute_cloud_optics(\n",
    "    atmosphere, \n",
    "    problem_type=OpticsProblemTypes.ABSORPTION\n",
    ")\n",
    "lw_cld_optics[\"tau\"]"
   ]
  },
  {
   "cell_type": "markdown",
   "id": "93baf775",
   "metadata": {},
   "source": [
    "## Compute fluxes from atmosphere conditions  "
   ]
  },
  {
   "cell_type": "code",
   "execution_count": null,
   "id": "f39f0c5c",
   "metadata": {},
   "outputs": [],
   "source": [
    "#\n",
    "# Shortwave fluxes \n",
    "# \n",
    "sw_fluxes = rte_solve(\n",
    "    xr.merge(\n",
    "        [cloud_optics_sw.compute_cloud_optics(\n",
    "            atmosphere, \n",
    "            problem_type=OpticsProblemTypes.TWO_STREAM, \n",
    "         )\\\n",
    "         .add_to(\n",
    "             gas_optics_sw.compute_gas_optics(\n",
    "                    atmosphere,\n",
    "                    problem_type=OpticsProblemTypes.TWO_STREAM, \n",
    "                    add_to_input=False,\n",
    "             ),\n",
    "             delta_scale = True,\n",
    "         ), \n",
    "         xr.Dataset(data_vars = {\"surface_albedo\":0.06, \n",
    "                                \"mu0\":0.86}\n",
    "                   ),\n",
    "        ],\n",
    "    ),\n",
    "    add_to_input = False,\n",
    ")"
   ]
  },
  {
   "cell_type": "code",
   "execution_count": null,
   "id": "e43c7e3c",
   "metadata": {
    "lines_to_next_cell": 2
   },
   "outputs": [],
   "source": [
    "#\n",
    "# Longwave fluxes \n",
    "# \n",
    "lw_fluxes = rte_solve(\n",
    "    xr.merge(\n",
    "        [cloud_optics_lw.compute_cloud_optics(\n",
    "            atmosphere, \n",
    "            problem_type=OpticsProblemTypes.ABSORPTION, \n",
    "         )\\\n",
    "         .add_to(\n",
    "             gas_optics_lw.compute_gas_optics(\n",
    "                    atmosphere,\n",
    "                    problem_type=OpticsProblemTypes.ABSORPTION, \n",
    "                    add_to_input=False,\n",
    "             ), \n",
    "         ), \n",
    "        xr.Dataset(data_vars = {\"surface_emissivity\":0.98}),\n",
    "        ],\n",
    "    ),\n",
    "    add_to_input = False,\n",
    ")"
   ]
  }
 ],
 "metadata": {
  "kernelspec": {
   "display_name": "pyrte-hk25-notebooks",
   "language": "python",
   "name": "pyrte-hk25-notebooks"
  },
  "language_info": {
   "codemirror_mode": {
    "name": "ipython",
    "version": 3
   },
   "file_extension": ".py",
   "mimetype": "text/x-python",
   "name": "python",
   "nbconvert_exporter": "python",
   "pygments_lexer": "ipython3",
   "version": "3.12.10"
  }
 },
 "nbformat": 4,
 "nbformat_minor": 5
}
