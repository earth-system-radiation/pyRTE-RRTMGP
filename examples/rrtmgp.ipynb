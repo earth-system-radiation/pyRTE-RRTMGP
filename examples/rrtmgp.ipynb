{
 "cells": [
  {
   "cell_type": "code",
   "execution_count": 3,
   "metadata": {},
   "outputs": [],
   "source": [
    "import xarray as xr\n",
    "import sys\n",
    "\n",
    "rte_rrtmgp_dir = \"../../rrtmgp-data\"\n",
    "clear_sky_example_files = f\"{rte_rrtmgp_dir}/examples/rfmip-clear-sky/inputs\"\n",
    "\n",
    "rfmip = xr.load_dataset(\n",
    "    f\"{clear_sky_example_files}/multiple_input4MIPs_radiation_RFMIP_UColorado-RFMIP-1-2_none.nc\"\n",
    ")\n",
    "\n",
    "rfmip = rfmip.sel(expt=0)  # only one experiment\n",
    "kdist = xr.load_dataset(f\"{rte_rrtmgp_dir}/rrtmgp-gas-lw-g256.nc\")\n",
    "\n",
    "# RRTMGP won't run with pressure less than its minimum. so we add a small value to the minimum pressure\n",
    "press_min = rfmip[\"pres_level\"].min()\n",
    "min_index = rfmip[\"pres_level\"].argmin()\n",
    "rfmip[\"pres_level\"][min_index] = press_min + sys.float_info.epsilon\n",
    "\n",
    "kdist_gas_names = [n.decode().strip() for n in kdist[\"gas_names\"].values]\n",
    "rfmip_vars = list(rfmip.keys())\n",
    "\n",
    "gas_names = {n: n + \"_GM\" for n in kdist_gas_names if n + \"_GM\" in rfmip_vars}\n",
    "\n",
    "# Create a dict that maps the gas names in the kdist gas names to the gas names in the rfmip dataset\n",
    "gas_names.update(\n",
    "    {\n",
    "        \"co\": \"carbon_monoxide_GM\",\n",
    "        \"ch4\": \"methane_GM\",\n",
    "        \"o2\": \"oxygen_GM\",\n",
    "        \"n2o\": \"nitrous_oxide_GM\",\n",
    "        \"n2\": \"nitrogen_GM\",\n",
    "        \"co2\": \"carbon_dioxide_GM\",\n",
    "        \"ccl4\": \"carbon_tetrachloride_GM\",\n",
    "        \"cfc22\": \"hcfc22_GM\",\n",
    "        \"h2o\": \"water_vapor\",\n",
    "        \"o3\": \"ozone\",\n",
    "    }\n",
    ")"
   ]
  },
  {
   "cell_type": "code",
   "execution_count": 4,
   "metadata": {},
   "outputs": [],
   "source": [
    "from pyrte_rrtmgp.rrtmgp import interpolation\n",
    "from pyrte_rrtmgp.utils import rfmip_2_col_gas, flavors_from_kdist\n",
    "\n",
    "neta = len(kdist[\"mixing_fraction\"])\n",
    "press_ref = kdist[\"press_ref\"].values\n",
    "temp_ref = kdist[\"temp_ref\"].values\n",
    "tlay = rfmip[\"temp_layer\"].values\n",
    "play = rfmip[\"pres_layer\"].values\n",
    "press_ref_trop = kdist[\"press_ref_trop\"].values.item()\n",
    "\n",
    "# start on 1 as we ignore dry air that is 0\n",
    "vmr_idx = [i for i, g in enumerate(kdist_gas_names, 1) if g in gas_names]\n",
    "vmr_ref = kdist[\"vmr_ref\"].sel(absorber_ext=vmr_idx).values.transpose(2, 1, 0)\n",
    "\n",
    "col_gas = rfmip_2_col_gas(rfmip, gas_names.values(), dry_air=False)\n",
    "flavor = flavors_from_kdist(kdist)\n",
    "\n",
    "jtemp, fmajor, fminor, col_mix, tropo, jeta, jpress = interpolation(\n",
    "    neta=neta,\n",
    "    flavor=flavor,\n",
    "    press_ref=press_ref,\n",
    "    temp_ref=temp_ref,\n",
    "    press_ref_trop=press_ref_trop,\n",
    "    vmr_ref=vmr_ref,\n",
    "    play=play,\n",
    "    tlay=tlay,\n",
    "    col_gas=col_gas,\n",
    ")"
   ]
  },
  {
   "cell_type": "code",
   "execution_count": null,
   "metadata": {},
   "outputs": [],
   "source": [
    "from pyrte_rrtmgp.rrtmgp import rrtmgp_compute_Planck_source\n",
    "from pyrte_rrtmgp.utils import rfmip_2_col_gas, flavors_from_kdist\n",
    "\n"
   ]
  }
 ],
 "metadata": {
  "kernelspec": {
   "display_name": "venv",
   "language": "python",
   "name": "python3"
  },
  "language_info": {
   "codemirror_mode": {
    "name": "ipython",
    "version": 3
   },
   "file_extension": ".py",
   "mimetype": "text/x-python",
   "name": "python",
   "nbconvert_exporter": "python",
   "pygments_lexer": "ipython3",
   "version": "3.11.5"
  }
 },
 "nbformat": 4,
 "nbformat_minor": 2
}
