{
 "cells": [
  {
   "cell_type": "markdown",
   "id": "e6b34c7b",
   "metadata": {},
   "source": [
    "# All-sky Radiative Transfer Example with PyRTE-RRTMGP\n",
    "\n",
    "This notebook demonstrates how to use the PyRTE-RRTMGP package to solve an idealized problem including clouds and clear skies. PyRTE-RRTMGP is a Python implementation of the Radiative Transfer for Energetics (RTE).\n",
    "\n",
    "## Overview\n",
    "\n",
    "PyRTE-RRTMGP provides a flexible and efficient framework for computing radiative fluxes in planetary atmospheres. This example shows an end-to-end problem with both clear skies and clouds. \n",
    "\n",
    "1. Loading data for cloud and gas optics \n",
    "2. Computing gas and cloud optical properties and combining them to produce an all-sky problem\n",
    "3. Solving the radiative transfer equation to obtain upward and downward fluxes\n",
    "4. Validating results against reference solutions generated with the original RTE fortran code\n",
    "\n",
    "The package leverages `xarray` to represent data.\n",
    "\n",
    "## Key Components\n",
    "\n",
    "- **Gas and Cloud Optics**: Handles spectral properties of atmospheric gases and clouds and combines them to make a complete problem\n",
    "- **RTE Solver**: Computes radiative fluxes based on atmospheric properties\n",
    "\n",
    "This example demonstrates the workflow for both longwave and shortwave radiative transfer calculations.\n",
    "\n",
    "See the [documentation](https://pyrte-rrtmgp.readthedocs.io/en/latest/) for more information."
   ]
  },
  {
   "cell_type": "markdown",
   "id": "eda36d28",
   "metadata": {},
   "source": [
    "## Preliminaries"
   ]
  },
  {
   "cell_type": "markdown",
   "id": "60c5febd",
   "metadata": {},
   "source": [
    "### Installing dependencies"
   ]
  },
  {
   "cell_type": "code",
   "execution_count": null,
   "id": "ec3ba3f6",
   "metadata": {},
   "outputs": [],
   "source": [
    "import numpy as np"
   ]
  },
  {
   "cell_type": "markdown",
   "id": "680574b3",
   "metadata": {},
   "source": [
    "### Importing pyRTE components"
   ]
  },
  {
   "cell_type": "code",
   "execution_count": null,
   "id": "57db6cd7",
   "metadata": {},
   "outputs": [],
   "source": [
    "from pyrte_rrtmgp import rrtmgp_cloud_optics, rrtmgp_gas_optics\n",
    "from pyrte_rrtmgp.rrtmgp_data_files import (\n",
    "    CloudOpticsFiles,\n",
    "    GasOpticsFiles,\n",
    ")\n",
    "from pyrte_rrtmgp.data_types import OpticsProblemTypes\n",
    "from pyrte_rrtmgp.rte_solver import rte_solve\n",
    "from pyrte_rrtmgp.examples import (\n",
    "    compute_RCE_clouds,\n",
    "    compute_RCE_profiles,\n",
    "    load_example_file,\n",
    "    ALLSKY_EXAMPLES,\n",
    ")"
   ]
  },
  {
   "cell_type": "markdown",
   "id": "f677948b",
   "metadata": {},
   "source": [
    "### Setting up the problem\n",
    "\n",
    "The routine `compute_RCE_profiles()` packaged with `pyRTE_RRTMGP` computes temperature, pressure, and humidity profiles following a moist adibat. The concentrations of other gases are also needed. Clouds are distributed in 2/3 of the columns "
   ]
  },
  {
   "cell_type": "code",
   "execution_count": null,
   "id": "3c8d0b0e",
   "metadata": {
    "lines_to_next_cell": 1
   },
   "outputs": [],
   "source": [
    "def make_profiles(ncol=24, nlay=72):\n",
    "    # Create atmospheric profiles and gas concentrations\n",
    "    atmosphere = compute_RCE_profiles(300, ncol, nlay)\n",
    "\n",
    "    # Add other gas values\n",
    "    gas_values = {\n",
    "        \"co2\": 348e-6,\n",
    "        \"ch4\": 1650e-9,\n",
    "        \"n2o\": 306e-9,\n",
    "        \"n2\": 0.7808,\n",
    "        \"o2\": 0.2095,\n",
    "        \"co\": 0.0,\n",
    "    }\n",
    "\n",
    "    for gas_name, value in gas_values.items():\n",
    "        atmosphere[gas_name] = value\n",
    "\n",
    "    return atmosphere"
   ]
  },
  {
   "cell_type": "markdown",
   "id": "74e9b04f",
   "metadata": {},
   "source": [
    "## Longwave calculations\n",
    "\n",
    "In this example datasets are saved to intermediate variables at each step"
   ]
  },
  {
   "cell_type": "markdown",
   "id": "66c872e2",
   "metadata": {},
   "source": [
    "### Initialize the cloud and gas optics data "
   ]
  },
  {
   "cell_type": "code",
   "execution_count": null,
   "id": "686045b3",
   "metadata": {},
   "outputs": [],
   "source": [
    "cloud_optics_lw = rrtmgp_cloud_optics.load_cloud_optics(\n",
    "    cloud_optics_file=CloudOpticsFiles.LW_BND\n",
    ")\n",
    "gas_optics_lw = rrtmgp_gas_optics.load_gas_optics(\n",
    "    gas_optics_file=GasOpticsFiles.LW_G256\n",
    ")\n",
    "\n",
    "cloud_optics_lw, gas_optics_lw"
   ]
  },
  {
   "cell_type": "markdown",
   "id": "ca8c505f",
   "metadata": {},
   "source": [
    "### Atmospheric profiles - clear sky, then clouds"
   ]
  },
  {
   "cell_type": "code",
   "execution_count": null,
   "id": "0e65581b",
   "metadata": {},
   "outputs": [],
   "source": [
    "atmosphere = make_profiles()\n",
    "#\n",
    "# Temporary workaround - compute_RCE_clouds() needs to know the particle size;\n",
    "#   that's set as the mid-point of the valid range from cloud_optics\n",
    "#\n",
    "cloud_props = compute_RCE_clouds(\n",
    "    cloud_optics_lw, atmosphere[\"pres_layer\"], atmosphere[\"temp_layer\"]\n",
    ")\n",
    "\n",
    "atmosphere = atmosphere.merge(cloud_props)\n",
    "atmosphere"
   ]
  },
  {
   "cell_type": "markdown",
   "id": "4c488c09",
   "metadata": {},
   "source": [
    "### Clear-sky (gases) optical properties; surface boundary conditions "
   ]
  },
  {
   "cell_type": "code",
   "execution_count": null,
   "id": "41fb5ff9",
   "metadata": {},
   "outputs": [],
   "source": [
    "optical_props = gas_optics_lw.compute_gas_optics(\n",
    "    atmosphere, problem_type=OpticsProblemTypes.ABSORPTION, add_to_input=False\n",
    ")\n",
    "optical_props[\"surface_emissivity\"] = 0.98\n",
    "optical_props"
   ]
  },
  {
   "cell_type": "markdown",
   "id": "552aaf3f",
   "metadata": {},
   "source": [
    "### Calculate cloud properties; create all-sky optical properties\n",
    "\n",
    "First compute the optical properties of the clouds"
   ]
  },
  {
   "cell_type": "code",
   "execution_count": null,
   "id": "dff6c822",
   "metadata": {},
   "outputs": [],
   "source": [
    "clouds_optical_props = cloud_optics_lw.compute_cloud_optics(\n",
    "    atmosphere, problem_type=OpticsProblemTypes.ABSORPTION\n",
    ")\n",
    "# The optical properties of the clouds alone\n",
    "clouds_optical_props"
   ]
  },
  {
   "cell_type": "markdown",
   "id": "1c121086",
   "metadata": {},
   "source": [
    "Then add the optical properties of the clouds to the clear sky to get the total"
   ]
  },
  {
   "cell_type": "code",
   "execution_count": null,
   "id": "97e51835",
   "metadata": {},
   "outputs": [],
   "source": [
    "# add_to() changes the value of `optical_props`\n",
    "clouds_optical_props.add_to(optical_props)\n",
    "optical_props"
   ]
  },
  {
   "cell_type": "markdown",
   "id": "4c9da127",
   "metadata": {},
   "source": [
    "### Compute broadband fluxes"
   ]
  },
  {
   "cell_type": "code",
   "execution_count": null,
   "id": "095fb314",
   "metadata": {},
   "outputs": [],
   "source": [
    "fluxes = rte_solve(optical_props, add_to_input=False)\n",
    "fluxes"
   ]
  },
  {
   "cell_type": "markdown",
   "id": "65441937",
   "metadata": {},
   "source": [
    "### Compare to reference results"
   ]
  },
  {
   "cell_type": "code",
   "execution_count": null,
   "id": "f1c43b33",
   "metadata": {},
   "outputs": [],
   "source": [
    "# Load reference data and verify results\n",
    "ref_data = load_example_file(ALLSKY_EXAMPLES.REF_LW_NO_AEROSOL)\n",
    "assert np.isclose(\n",
    "    fluxes[\"lw_flux_up\"],\n",
    "    ref_data[\"lw_flux_up\"].T,\n",
    "    atol=1e-7,\n",
    ").all()\n",
    "\n",
    "assert np.isclose(\n",
    "    fluxes[\"lw_flux_down\"],\n",
    "    ref_data[\"lw_flux_dn\"].T,\n",
    "    atol=1e-7,\n",
    ").all()\n",
    "\n",
    "print(\"All-sky longwave calculations validated successfully\")"
   ]
  },
  {
   "cell_type": "markdown",
   "id": "4948c668",
   "metadata": {},
   "source": [
    "# Shortwave calculations\n",
    "\n",
    "In this example steps are combined where possible"
   ]
  },
  {
   "cell_type": "markdown",
   "id": "ad72b4d5",
   "metadata": {},
   "source": [
    "## Initialize optics data "
   ]
  },
  {
   "cell_type": "code",
   "execution_count": null,
   "id": "8b93baf1",
   "metadata": {},
   "outputs": [],
   "source": [
    "cloud_optics_sw = rrtmgp_cloud_optics.load_cloud_optics(\n",
    "    cloud_optics_file=CloudOpticsFiles.SW_BND\n",
    ")\n",
    "gas_optics_sw = rrtmgp_gas_optics.load_gas_optics(\n",
    "    gas_optics_file=GasOpticsFiles.SW_G224\n",
    ")\n",
    "\n",
    "cloud_optics_sw, gas_optics_sw"
   ]
  },
  {
   "cell_type": "markdown",
   "id": "fb0e1d0c",
   "metadata": {},
   "source": [
    "### Atmospheric profiles - clear sky, then clouds"
   ]
  },
  {
   "cell_type": "code",
   "execution_count": null,
   "id": "649be40d",
   "metadata": {},
   "outputs": [],
   "source": [
    "atmosphere = make_profiles()\n",
    "#\n",
    "# Temporary workaround - compute_RCE_clouds() needs to know the particle size;\n",
    "#    that's set as the mid-point of the valid range from cloud_optics\n",
    "#\n",
    "atmosphere = atmosphere.merge(\n",
    "    compute_RCE_clouds(\n",
    "        cloud_optics_sw, atmosphere[\"pres_layer\"], atmosphere[\"temp_layer\"]\n",
    "    )\n",
    ")\n",
    "atmosphere"
   ]
  },
  {
   "cell_type": "markdown",
   "id": "81a4d42b",
   "metadata": {},
   "source": [
    "### Compute gas and cloud optics and combine in one step"
   ]
  },
  {
   "cell_type": "code",
   "execution_count": null,
   "id": "8eea43ad",
   "metadata": {},
   "outputs": [],
   "source": [
    "# compute_cloud_optics() returns two-stream properties by default?\n",
    "optical_props = gas_optics_sw.compute_gas_optics(\n",
    "    atmosphere, problem_type=OpticsProblemTypes.TWO_STREAM, add_to_input=False\n",
    ")\n",
    "# add_to() changes the values in optical_props\n",
    "cloud_optics_sw.compute_cloud_optics(atmosphere).add_to(\n",
    "    optical_props, delta_scale=True\n",
    ")\n",
    "#\n",
    "# Add SW-specific surface and angle properties\n",
    "#\n",
    "optical_props[\"surface_albedo_direct\"] = 0.06\n",
    "optical_props[\"surface_albedo_diffuse\"] = 0.06\n",
    "# Could also specific a single \"surface_albedo\"\n",
    "optical_props[\"mu0\"] = 0.86\n",
    "optical_props"
   ]
  },
  {
   "cell_type": "markdown",
   "id": "a86276e2",
   "metadata": {},
   "source": [
    "### Compute fluxes"
   ]
  },
  {
   "cell_type": "code",
   "execution_count": null,
   "id": "853de01c",
   "metadata": {},
   "outputs": [],
   "source": [
    "fluxes = rte_solve(optical_props, add_to_input=False)\n",
    "fluxes"
   ]
  },
  {
   "cell_type": "markdown",
   "id": "152f2495",
   "metadata": {},
   "source": [
    "### Compare to reference results\n",
    "The fluxes computed here have a `column` dimension while the reference \n",
    "fluxes have a `site` dimension. But `np.close()` is happy to compare\n",
    "the arrays since they are the same size. "
   ]
  },
  {
   "cell_type": "code",
   "execution_count": null,
   "id": "01ce2ef5",
   "metadata": {},
   "outputs": [],
   "source": [
    "ref_data = load_example_file(ALLSKY_EXAMPLES.REF_SW_NO_AEROSOL)\n",
    "assert np.isclose(\n",
    "    fluxes[\"sw_flux_up\"],\n",
    "    ref_data[\"sw_flux_up\"].T,\n",
    "    atol=1e-7,\n",
    ").all()\n",
    "assert np.isclose(\n",
    "    fluxes[\"sw_flux_down\"],\n",
    "    ref_data[\"sw_flux_dn\"].T,\n",
    "    atol=1e-7,\n",
    ").all()\n",
    "assert np.isclose(\n",
    "    fluxes[\"sw_flux_dir\"],\n",
    "    ref_data[\"sw_flux_dir\"].T,\n",
    "    atol=1e-7,\n",
    ").all()\n",
    "\n",
    "print(\"All-sky shortwave calculations validated successfully\")"
   ]
  }
 ],
 "metadata": {
  "kernelspec": {
   "display_name": "Python 3 (ipykernel)",
   "language": "python",
   "name": "python3"
  }
 },
 "nbformat": 4,
 "nbformat_minor": 5
}
