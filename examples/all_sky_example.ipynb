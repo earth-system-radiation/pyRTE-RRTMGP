{
 "cells": [
  {
   "cell_type": "markdown",
   "metadata": {},
   "source": [
    "# All-sky Radiative Transfer Example with PyRTE-RRTMGP\n",
    "\n",
    "This notebook demonstrates how to use the PyRTE-RRTMGP package to solve an idealized problem including clouds and clear skies. PyRTE-RRTMGP is a Python implementation of the Radiative Transfer for Energetics (RTE).\n",
    "\n",
    "## Overview\n",
    "\n",
    "PyRTE-RRTMGP provides a flexible and efficient framework for computing radiative fluxes in planetary atmospheres. This example shows an end-to-end problem with both clear skies and clouds. \n",
    "\n",
    "1. Loading data for cloud and gas optics \n",
    "2. Computing gas and cloud optical properties and combining them to produce an all-sky problem\n",
    "3. Solving the radiative transfer equation to obtain upward and downward fluxes\n",
    "4. Validating results against reference solutions generated with the original RTE fortran code\n",
    "\n",
    "The package leverages `xarray` to represent data.\n",
    "\n",
    "## Key Components\n",
    "\n",
    "- **Gas and Cloud Optics**: Handles spectral properties of atmospheric gases and clouds and combines them to make a complete problem\n",
    "- **RTE Solver**: Computes radiative fluxes based on atmospheric properties\n",
    "- **Data Handling**: Uses xarray for labeled, multi-dimensional data structures\n",
    "\n",
    "This example demonstrates the workflow for both longwave and shortwave radiative transfer calculations.\n",
    "\n",
    "See the [documentation](https://pyrte-rrtmgp.readthedocs.io/en/latest/) for more information."
   ]
  },
  {
   "cell_type": "markdown",
   "metadata": {},
   "source": [
    "## Preliminaries"
   ]
  },
  {
   "cell_type": "markdown",
   "metadata": {},
   "source": [
    "### Installing dependencies"
   ]
  },
  {
   "cell_type": "code",
   "execution_count": null,
   "metadata": {},
   "outputs": [],
   "source": [
    "import numpy as np\n",
    "import xarray as xr"
   ]
  },
  {
   "cell_type": "markdown",
   "metadata": {},
   "source": [
    "### Importing pyRTE components"
   ]
  },
  {
   "cell_type": "code",
   "execution_count": null,
   "metadata": {},
   "outputs": [],
   "source": [
    "from pyrte_rrtmgp import rrtmgp_cloud_optics, rrtmgp_gas_optics\n",
    "from pyrte_rrtmgp.data_types import (\n",
    "    AllSkyExampleFiles,\n",
    "    CloudOpticsFiles,\n",
    "    GasOpticsFiles,\n",
    "    OpticsProblemTypes,\n",
    ")\n",
    "from pyrte_rrtmgp.rte_solver import rte_solve\n",
    "from pyrte_rrtmgp.utils import (\n",
    "    compute_clouds,\n",
    "    compute_profiles,\n",
    "    load_rrtmgp_file,\n",
    ")"
   ]
  },
  {
   "cell_type": "markdown",
   "metadata": {},
   "source": [
    "### Setting up the problem\n",
    "\n",
    "The routine `compute_profiles()` packaged with `pyRTE_RRTMGP` computes temperature, pressure, and humidity profiles following a moist adibat. The concentrations of other gases are also needed. Clouds are distributed in 2/3 of the columns "
   ]
  },
  {
   "cell_type": "code",
   "execution_count": null,
   "metadata": {},
   "outputs": [],
   "source": [
    "def make_profiles(ncol=24, nlay=72):\n",
    "    # Create atmospheric profiles and gas concentrations\n",
    "    atmosphere = compute_profiles(300, ncol, nlay)\n",
    "\n",
    "    # Add other gas values\n",
    "    gas_values = {\n",
    "        \"co2\": 348e-6,\n",
    "        \"ch4\": 1650e-9,\n",
    "        \"n2o\": 306e-9,\n",
    "        \"n2\": 0.7808,\n",
    "        \"o2\": 0.2095,\n",
    "        \"co\": 0.0,\n",
    "    }\n",
    "\n",
    "    for gas_name, value in gas_values.items():\n",
    "        atmosphere[gas_name] = value\n",
    "\n",
    "    return atmosphere"
   ]
  },
  {
   "cell_type": "markdown",
   "metadata": {},
   "source": [
    "## Longwave calculations\n",
    "\n",
    "In this example datasets are saved to intermediate variables at each step"
   ]
  },
  {
   "cell_type": "markdown",
   "metadata": {},
   "source": [
    "### Initialize the cloud and gas optics data "
   ]
  },
  {
   "cell_type": "code",
   "execution_count": null,
   "metadata": {},
   "outputs": [],
   "source": [
    "cloud_optics_lw = rrtmgp_cloud_optics.load_cloud_optics(\n",
    "    cloud_optics_file=CloudOpticsFiles.LW_BND\n",
    ")\n",
    "gas_optics_lw = rrtmgp_gas_optics.load_gas_optics(\n",
    "    gas_optics_file=GasOpticsFiles.LW_G256\n",
    ")"
   ]
  },
  {
   "cell_type": "markdown",
   "metadata": {},
   "source": [
    "### Atmospheric profiles - clear sky, then clouds"
   ]
  },
  {
   "cell_type": "code",
   "execution_count": null,
   "metadata": {},
   "outputs": [],
   "source": [
    "atmosphere = make_profiles()\n",
    "#\n",
    "# Temporary workaround - compute_clouds() needs to know the particle size; that's\n",
    "#   set as the mid-point of the valid range from cloud_optics\n",
    "#\n",
    "cloud_props = compute_clouds(\n",
    "    cloud_optics_lw, atmosphere[\"pres_layer\"], atmosphere[\"temp_layer\"]\n",
    ")\n",
    "\n",
    "atmosphere = atmosphere.merge(cloud_props)"
   ]
  },
  {
   "cell_type": "markdown",
   "metadata": {},
   "source": [
    "### Clear-sky (gases) optical properties; surface boundary conditions "
   ]
  },
  {
   "cell_type": "code",
   "execution_count": null,
   "metadata": {},
   "outputs": [],
   "source": [
    "optical_props = gas_optics_lw.compute_gas_optics(\n",
    "    atmosphere, problem_type=OpticsProblemTypes.ABSORPTION, add_to_input=False\n",
    ")\n",
    "optical_props[\"surface_emissivity\"] = 0.98"
   ]
  },
  {
   "cell_type": "markdown",
   "metadata": {},
   "source": [
    "### Calculate cloud properties; create all-sky optical properties"
   ]
  },
  {
   "cell_type": "code",
   "execution_count": null,
   "metadata": {},
   "outputs": [],
   "source": [
    "clouds_optical_props = cloud_optics_lw.compute_cloud_optics(\n",
    "    atmosphere, problem_type=OpticsProblemTypes.ABSORPTION\n",
    ")\n",
    "\n",
    "clouds_optical_props.add_to(optical_props)"
   ]
  },
  {
   "cell_type": "markdown",
   "metadata": {},
   "source": [
    "### Compute broadband fluxes"
   ]
  },
  {
   "cell_type": "code",
   "execution_count": null,
   "metadata": {},
   "outputs": [],
   "source": [
    "fluxes = rte_solve(optical_props, add_to_input=False)"
   ]
  },
  {
   "cell_type": "markdown",
   "metadata": {},
   "source": [
    "### Compare to reference results"
   ]
  },
  {
   "cell_type": "code",
   "execution_count": null,
   "metadata": {},
   "outputs": [],
   "source": [
    "# Load reference data and verify results\n",
    "ref_data = load_rrtmgp_file(AllSkyExampleFiles.LW_NO_AEROSOL)\n",
    "assert np.isclose(\n",
    "    fluxes[\"lw_flux_up\"],\n",
    "    ref_data[\"lw_flux_up\"].T,\n",
    "    atol=1e-7,\n",
    ").all()\n",
    "assert np.isclose(\n",
    "    fluxes[\"lw_flux_down\"],\n",
    "    ref_data[\"lw_flux_dn\"].T,\n",
    "    atol=1e-7,\n",
    ").all()"
   ]
  },
  {
   "cell_type": "markdown",
   "metadata": {},
   "source": [
    "# Shortwave calculations\n",
    "\n",
    "In this example steps are combined where possible"
   ]
  },
  {
   "cell_type": "markdown",
   "metadata": {},
   "source": [
    "## Initialize optics data "
   ]
  },
  {
   "cell_type": "code",
   "execution_count": null,
   "metadata": {},
   "outputs": [],
   "source": [
    "cloud_optics_sw = rrtmgp_cloud_optics.load_cloud_optics(\n",
    "    cloud_optics_file=CloudOpticsFiles.SW_BND\n",
    ")\n",
    "gas_optics_sw = rrtmgp_gas_optics.load_gas_optics(\n",
    "    gas_optics_file=GasOpticsFiles.SW_G224\n",
    ")"
   ]
  },
  {
   "cell_type": "markdown",
   "metadata": {},
   "source": [
    "### Atmospheric profiles - clear sky, then clouds"
   ]
  },
  {
   "cell_type": "code",
   "execution_count": null,
   "metadata": {},
   "outputs": [],
   "source": [
    "atmosphere = make_profiles()\n",
    "#\n",
    "# Temporary workaround - compute_clouds() needs to know the particle size; that's\n",
    "#   set as the mid-point of the valid range from cloud_optics\n",
    "#\n",
    "atmosphere = atmosphere.merge(\n",
    "    compute_clouds(\n",
    "        cloud_optics_sw, atmosphere[\"pres_layer\"], atmosphere[\"temp_layer\"]\n",
    "    )\n",
    ")"
   ]
  },
  {
   "cell_type": "markdown",
   "metadata": {},
   "source": [
    "### Compute gas and cloud optics and combine in one step"
   ]
  },
  {
   "cell_type": "code",
   "execution_count": null,
   "metadata": {},
   "outputs": [],
   "source": [
    "# compute_cloud_optics() returns two-stream properties by default?\n",
    "optical_props = gas_optics_sw.compute_gas_optics(\n",
    "    atmosphere, problem_type=OpticsProblemTypes.TWO_STREAM, add_to_input=False\n",
    ")\n",
    "# add_to() changes the values in optical_props\n",
    "cloud_optics_sw.compute_cloud_optics(atmosphere).add_to(\n",
    "    optical_props, delta_scale=True\n",
    ")\n",
    "#\n",
    "# Add SW-specific surface and angle properties\n",
    "#\n",
    "optical_props[\"surface_albedo\"] = (\n",
    "    0.06  # Mmmm, it should be possible to specify diffuse and direct surface albedos\n",
    ")\n",
    "optical_props[\"surface_albedo_dir\"] = 0.06\n",
    "optical_props[\"surface_albedo_dif\"] = 0.06\n",
    "optical_props[\"mu0\"] = 0.86"
   ]
  },
  {
   "cell_type": "markdown",
   "metadata": {},
   "source": [
    "### Compute fluxes"
   ]
  },
  {
   "cell_type": "code",
   "execution_count": null,
   "metadata": {},
   "outputs": [],
   "source": [
    "fluxes = rte_solve(optical_props, add_to_input=False)"
   ]
  },
  {
   "cell_type": "markdown",
   "metadata": {},
   "source": [
    "### Compare to reference results"
   ]
  },
  {
   "cell_type": "code",
   "execution_count": null,
   "metadata": {},
   "outputs": [],
   "source": [
    "ref_data = load_rrtmgp_file(AllSkyExampleFiles.SW_NO_AEROSOL)\n",
    "assert np.isclose(\n",
    "    fluxes[\"sw_flux_up\"],\n",
    "    ref_data[\"sw_flux_up\"].T,\n",
    "    atol=1e-7,\n",
    ").all()\n",
    "assert np.isclose(\n",
    "    fluxes[\"sw_flux_down\"],\n",
    "    ref_data[\"sw_flux_dn\"].T,\n",
    "    atol=1e-7,\n",
    ").all()\n",
    "assert np.isclose(\n",
    "    fluxes[\"sw_flux_dir\"],\n",
    "    ref_data[\"sw_flux_dir\"].T,\n",
    "    atol=1e-7,\n",
    ").all()"
   ]
  }
 ],
 "metadata": {
  "kernelspec": {
   "display_name": "pyRTE",
   "language": "python",
   "name": "pyrte"
  },
  "language_info": {
   "codemirror_mode": {
    "name": "ipython",
    "version": 3
   },
   "file_extension": ".py",
   "mimetype": "text/x-python",
   "name": "python",
   "nbconvert_exporter": "python",
   "pygments_lexer": "ipython3",
   "version": "3.12.9"
  }
 },
 "nbformat": 4,
 "nbformat_minor": 4
}
