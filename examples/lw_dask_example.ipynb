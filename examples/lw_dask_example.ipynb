{
 "cells": [
  {
   "cell_type": "markdown",
   "metadata": {},
   "source": [
    "# Longwave Radiative Transfer Example with PyRTE-RRTMGP\n",
    "\n",
    "This notebook demonstrates how to use the PyRTE-RRTMGP package to solve a longwave radiative transfer problem. PyRTE-RRTMGP is a Python implementation of the Radiative Transfer for Energetics (RTE).\n",
    "\n",
    "## Overview\n",
    "\n",
    "PyRTE-RRTMGP provides a flexible and efficient framework for computing radiative fluxes in planetary atmospheres. This example specifically focuses on:\n",
    "\n",
    "1. Loading gas optics data for longwave radiation\n",
    "2. Processing atmospheric data from the RFMIP (Radiative Forcing Model Intercomparison Project)\n",
    "3. Computing gas optics properties\n",
    "4. Solving the radiative transfer equation to obtain upward and downward fluxes\n",
    "5. Validating results against reference solutions generated with the original RTE fortran code\n",
    "\n",
    "The package leverages xarray and dask for efficient data handling and parallel computation, making it suitable for large-scale atmospheric modeling applications.\n",
    "\n",
    "## Key Components\n",
    "\n",
    "- **Gas Optics**: Handles spectral properties of atmospheric gases\n",
    "- **RTE Solver**: Computes radiative fluxes based on atmospheric properties\n",
    "- **Data Handling**: Uses xarray for labeled, multi-dimensional data structures\n",
    "\n",
    "This example demonstrates the workflow for longwave radiative transfer calculations, which are essential for understanding Earth's energy budget and climate modeling.\n",
    "\n",
    "See the [documentation](https://pyrte-rrtmgp.readthedocs.io/en/latest/) for more information."
   ]
  },
  {
   "cell_type": "markdown",
   "metadata": {},
   "source": [
    "## Setup and Configuration\n",
    "\n",
    "First, we import the necessary libraries and modules. PyRTE-RRTMGP relies on:\n",
    "- **numpy** and **xarray** for data handling\n",
    "- **dask** for parallel computation and lazy evaluation\n",
    "- Various modules from the `pyrte_rrtmgp` package used to load the data\n",
    "\n",
    "The key components we'll use are:\n",
    "- `rrtmgp_gas_optics`: Handles spectral properties of gases\n",
    "- `rte_solver`: Solves the radiative transfer equation\n",
    "- `ProgressBar`: A Dask diagnostic tool to visualize computation progress"
   ]
  },
  {
   "cell_type": "code",
   "execution_count": null,
   "metadata": {},
   "outputs": [],
   "source": [
    "import numpy as np\n",
    "from dask.diagnostics import ProgressBar\n",
    "\n",
    "from pyrte_rrtmgp import rrtmgp_gas_optics\n",
    "from pyrte_rrtmgp.data_types import (\n",
    "    GasOpticsFiles,\n",
    "    OpticsProblemTypes,\n",
    ")\n",
    "from pyrte_rrtmgp.rte_solver import rte_solve\n",
    "from pyrte_rrtmgp.examples import RFMIP_FILES, load_example_file"
   ]
  },
  {
   "cell_type": "markdown",
   "metadata": {},
   "source": [
    "## Loading Gas Optics Data\n",
    "\n",
    "We get the default data files from the package that are available in the [rrtmgp-data](https://github.com/earth-system-radiation/rrtmgp-data) repository.\n",
    "\n",
    "We're using the longwave gas optics file with 256 g-points (`LW_G256`).\n",
    "\n",
    "The atmosphere is the RFMIP (Radiative Forcing Model Intercomparison Project) dataset. This dataset contains atmospheric profiles with various combinations of temperature, pressure, and gas concentrations.\n",
    "\n",
    "Note that we use Dask's chunking capability by calling `.chunk({\"expt\": 3})` on the loaded atmosphere data. This divides the dataset into chunks of 3 experiments each, allowing Dask to process these chunks in parallel. Chunking is a key Dask feature that enables parallel processing without loading the entire dataset into memory at once."
   ]
  },
  {
   "cell_type": "code",
   "execution_count": null,
   "metadata": {},
   "outputs": [],
   "source": [
    "gas_optics_lw = rrtmgp_gas_optics.load_gas_optics(\n",
    "    gas_optics_file=GasOpticsFiles.LW_G256\n",
    ")\n",
    "atmosphere = load_example_file(RFMIP_FILES.ATMOSPHERE).chunk({\"expt\": 3})"
   ]
  },
  {
   "cell_type": "markdown",
   "metadata": {},
   "source": [
    "## Computing Gas Optics\n",
    "\n",
    "Next, we define the gas mapping dictionary that specifies the gas names in the atmosphere dataset, the gas optics file names are the keys in the dictionary and are the default names used internally in the package.\n",
    "\n",
    "With that we compute the gas optics for the atmosphere `absorption` problem type. The computed gas optics are stored in the `atmosphere` Dataset.\n",
    "\n",
    "When we call `compute_gas_optics()`, the calculations are not performed immediately due to Dask's lazy evaluation. Instead, Dask builds a task graph representing the computation to be performed. The actual computation will be triggered when we explicitly call `.compute()` or when the data is needed for visualization or further calculations."
   ]
  },
  {
   "cell_type": "code",
   "execution_count": null,
   "metadata": {},
   "outputs": [],
   "source": [
    "gas_mapping = {\n",
    "    \"h2o\": \"water_vapor\",\n",
    "    \"co2\": \"carbon_dioxide_GM\",\n",
    "    \"o3\": \"ozone\",\n",
    "    \"n2o\": \"nitrous_oxide_GM\",\n",
    "    \"co\": \"carbon_monoxide_GM\",\n",
    "    \"ch4\": \"methane_GM\",\n",
    "    \"o2\": \"oxygen_GM\",\n",
    "    \"n2\": \"nitrogen_GM\",\n",
    "    \"ccl4\": \"carbon_tetrachloride_GM\",\n",
    "    \"cfc11\": \"cfc11_GM\",\n",
    "    \"cfc12\": \"cfc12_GM\",\n",
    "    \"cfc22\": \"hcfc22_GM\",\n",
    "    \"hfc143a\": \"hfc143a_GM\",\n",
    "    \"hfc125\": \"hfc125_GM\",\n",
    "    \"hfc23\": \"hfc23_GM\",\n",
    "    \"hfc32\": \"hfc32_GM\",\n",
    "    \"hfc134a\": \"hfc134a_GM\",\n",
    "    \"cf4\": \"cf4_GM\",\n",
    "    \"no2\": \"no2\",\n",
    "}\n",
    "\n",
    "gas_optics_lw.compute_gas_optics(\n",
    "    atmosphere,\n",
    "    problem_type=OpticsProblemTypes.ABSORPTION,\n",
    "    gas_name_map=gas_mapping,\n",
    ")\n",
    "atmosphere[\"tau\"]"
   ]
  },
  {
   "cell_type": "markdown",
   "metadata": {},
   "source": [
    "## Solving the Radiative Transfer Equation\n",
    "\n",
    "With the gas optics properties computed, we can now solve the radiative transfer equation using the `rte_solve`. This will calculate the upward and downward longwave radiative fluxes for each atmospheric profile.\n",
    "\n",
    "We use Dask's `ProgressBar` to visualize the computation progress. This is particularly useful for monitoring long-running parallel computations. The progress bar shows the execution of Dask tasks as they are processed across the available CPU cores.\n",
    "\n",
    "When we call `rte_solve()`, Dask will distribute the workload across available CPU cores, processing multiple atmospheric profiles in parallel. This parallelization significantly speeds up the computation compared to sequential processing, especially for large datasets with many profiles."
   ]
  },
  {
   "cell_type": "code",
   "execution_count": null,
   "metadata": {},
   "outputs": [],
   "source": [
    "with ProgressBar():\n",
    "    fluxes = rte_solve(atmosphere, add_to_input=False)\n",
    "\n",
    "fluxes"
   ]
  },
  {
   "cell_type": "markdown",
   "metadata": {},
   "source": [
    "## Validating Results Against Reference Solutions\n",
    "\n",
    "Finally, we validate our computed fluxes against reference solutions. The reference data comes from the original RTE-RRTMGP implementation and makes sure that the implementation is correct.\n",
    "\n",
    "We compare both upward (`rlu`) and downward (`rld`) longwave fluxes to ensure our implementation produces accurate results within the specified error tolerance (`ERROR_TOLERANCE = 1e-7`)."
   ]
  },
  {
   "cell_type": "code",
   "execution_count": null,
   "metadata": {},
   "outputs": [],
   "source": [
    "rlu = load_example_file(RFMIP_FILES.REFERENCE_RLU)\n",
    "rld = load_example_file(RFMIP_FILES.REFERENCE_RLD)\n",
    "\n",
    "assert np.isclose(\n",
    "    fluxes[\"lw_flux_up\"].transpose(\"expt\", \"site\", \"level\"),\n",
    "    rlu[\"rlu\"],\n",
    "    atol=1e-7,\n",
    ").all(), \"Longwave flux up mismatch\"\n",
    "assert np.isclose(\n",
    "    fluxes[\"lw_flux_down\"].transpose(\"expt\", \"site\", \"level\"),\n",
    "    rld[\"rld\"],\n",
    "    atol=1e-7,\n",
    ").all(), \"Longwave flux down mismatch\"\n",
    "\n",
    "print(\"Longwave clear-sky (RFMIP) calculations using Dask validated successfully!\")"
   ]
  }
 ],
 "metadata": {
  "kernelspec": {
   "display_name": "Python 3 (ipykernel)",
   "language": "python",
   "name": "python3"
  },
  "language_info": {
   "codemirror_mode": {
    "name": "ipython",
    "version": 3
   },
   "file_extension": ".py",
   "mimetype": "text/x-python",
   "name": "python",
   "nbconvert_exporter": "python",
   "pygments_lexer": "ipython3",
   "version": "3.12.9"
  }
 },
 "nbformat": 4,
 "nbformat_minor": 4
}
