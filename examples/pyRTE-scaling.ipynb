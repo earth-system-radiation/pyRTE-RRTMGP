{
 "cells": [
  {
   "cell_type": "code",
   "execution_count": null,
   "id": "4db75cfa-f03e-46cf-aae1-048e66d6b76a",
   "metadata": {},
   "outputs": [],
   "source": [
    "import numpy as np\n",
    "import xarray as xr"
   ]
  },
  {
   "cell_type": "code",
   "execution_count": null,
   "id": "579f8785-01bc-4c30-9111-5c81bf305b3f",
   "metadata": {},
   "outputs": [],
   "source": [
    "from pyrte_rrtmgp import rrtmgp_cloud_optics, rrtmgp_gas_optics\n",
    "from pyrte_rrtmgp.data_types import (\n",
    "    CloudOpticsFiles,\n",
    "    GasOpticsFiles,\n",
    "    OpticsProblemTypes,\n",
    ")\n",
    "from pyrte_rrtmgp.rte_solver import rte_solve"
   ]
  },
  {
   "cell_type": "markdown",
   "id": "7c0fa76a-8cad-41c9-a2a8-0a6f2180484c",
   "metadata": {},
   "source": [
    "# Read data\n",
    "\n",
    "Zoom level 5 is 12288 points (roughly 5 degrees); each zoom level (max 11, min 0) is 4x more, fewer points or 2x higher in grid density\n",
    "\n",
    "Perhaps chunks should be introduced at this stage? "
   ]
  },
  {
   "cell_type": "code",
   "execution_count": null,
   "id": "0542a51c-00a7-4c77-907b-3ed1228e8e23",
   "metadata": {},
   "outputs": [],
   "source": [
    "zoom = 5\n",
    "data = xr.open_dataset(f\"https://s3.eu-dkrz-1.dkrz.cloud/wrcp-hackathon/data/ICON/d3hp003feb.zarr/PT15M_inst_z{zoom}_atm\", \n",
    "                       engine=\"zarr\")"
   ]
  },
  {
   "cell_type": "code",
   "execution_count": null,
   "id": "a01e7697-7be8-4983-ad06-5f90cd7db8a4",
   "metadata": {},
   "outputs": [],
   "source": [
    "# Local copy\n",
    "data = xr.open_dataset(\"/Users/robert/Codes/hk25/data/PT15M_inst_z5_atm\", consolidated=True, engine='zarr')\n"
   ]
  },
  {
   "cell_type": "code",
   "execution_count": null,
   "id": "aa9394df-9d8a-418a-88e1-1707dcaded8b",
   "metadata": {},
   "outputs": [],
   "source": [
    "data"
   ]
  },
  {
   "cell_type": "markdown",
   "id": "8caebfec-da83-4a70-8104-c388b1e68be9",
   "metadata": {},
   "source": [
    "# Transform the data to the form needed to compute fluxes "
   ]
  },
  {
   "cell_type": "markdown",
   "id": "0f515f5e",
   "metadata": {},
   "source": [
    "## Pressure values on levels\n",
    " Top level pressure is arbitrary, bottom level presure would normally be surface pressure but these data have been \n",
    " interpolated to fixed pressures so the surface pressure can be well below 1000 hPa "
   ]
  },
  {
   "cell_type": "code",
   "execution_count": null,
   "id": "e53bf5dc",
   "metadata": {},
   "outputs": [],
   "source": [
    "data[\"pressure_h\"] = xr.concat([\n",
    "                        xr.DataArray([1], dims=\"pressure_h\"),\n",
    "                        xr.DataArray(((data.pressure.values[1:] * data.pressure.values[:-1]) ** 0.5), dims=\"pressure_h\"),\n",
    "                        xr.DataArray([100500], dims=\"pressure_h\")\n",
    "                    ], dim = \"pressure_h\")"
   ]
  },
  {
   "cell_type": "markdown",
   "id": "82467913",
   "metadata": {},
   "source": [
    "## Temperature on levels\n",
    "Linear interpolation of temperature in pressure\n",
    "  Temperature at top level is same as top layer \n",
    "  Temperature at bottom level is surface T (might be colder than lowest layer when elevation is high) \n"
   ]
  },
  {
   "cell_type": "code",
   "execution_count": null,
   "id": "11c2fd50",
   "metadata": {},
   "outputs": [],
   "source": [
    "data[\"ta_h\"] = data.ta.interp(pressure=data.pressure_h)\n",
    "data[\"ta_h\"][:,  0, :] = data.ta[:,  0, :]\n",
    "data[\"ta_h\"][:, -1, :] = data.ts"
   ]
  },
  {
   "cell_type": "markdown",
   "id": "ae8c070c",
   "metadata": {},
   "source": [
    "## Water vapor - convert specific humidity to molar mixing ratio \n",
    "\n",
    "Molar mixing ratio assuming specific humidity is water mass/dry air mass (not quite correct)\n",
    "  Md, Mw are molar mases of dry air and water vapor \n"
   ]
  },
  {
   "cell_type": "code",
   "execution_count": null,
   "id": "ca9a7d4c",
   "metadata": {
    "lines_to_next_cell": 2
   },
   "outputs": [],
   "source": [
    "Md = 0.0289652\n",
    "Mw = 0.018016\n",
    "data[\"h2o\"] = data.hus * (Md/Mw)"
   ]
  },
  {
   "cell_type": "markdown",
   "id": "d3a66630",
   "metadata": {},
   "source": [
    "## Ozone from monthly-mean ERA5 interpolated onto HEALPix grid at zoom levels 8 and below"
   ]
  },
  {
   "cell_type": "code",
   "execution_count": null,
   "id": "8b8d1140",
   "metadata": {},
   "outputs": [],
   "source": [
    "if zoom <= 8:\n",
    "    data[\"o3\"] =xr.open_dataset(\n",
    "        f\"https://swift.dkrz.de/v1/dkrz_41aca03ec414c2f95f52b23b775134f/reanalysis/v1/ERA5_P1M_{zoom}.zarr\",\n",
    "        engine=\"zarr\")\\\n",
    "        .sel(time=\"2020-02-01\", method=\"nearest\")\\\n",
    "        .o3.interp(level=data.pressure)\n",
    "\n",
    "# For zoom > 8 we need to interpolate in space too - probably nearest neighbor "
   ]
  },
  {
   "cell_type": "markdown",
   "id": "73fbfbe3",
   "metadata": {},
   "source": [
    "## Well-mixed greenhouse gases (these are pre-industrial values, should update) "
   ]
  },
  {
   "cell_type": "code",
   "execution_count": null,
   "id": "54c22e2e-0023-40ff-b9a9-93a1801ca875",
   "metadata": {},
   "outputs": [],
   "source": [
    "gas_values = {\n",
    "        \"co2\": 348e-6,\n",
    "        \"ch4\": 1650e-9,\n",
    "        \"n2o\": 306e-9,\n",
    "        \"n2\": 0.7808,\n",
    "        \"o2\": 0.2095,\n",
    "        \"co\": 0.0,\n",
    "}\n",
    "for gas_name, value in gas_values.items():\n",
    "    data[gas_name] = value"
   ]
  },
  {
   "cell_type": "markdown",
   "id": "4cf7e8b8",
   "metadata": {},
   "source": [
    "## Cloud properties \n",
    "  Data set includes only `qall` all hydrometeors \n",
    "  Assume all clouds > 263 are liquid, everything else is ice (could refine)\n",
    "  Convert from MMR to vertically-integrated LWP, IWP "
   ]
  },
  {
   "cell_type": "code",
   "execution_count": null,
   "id": "7e00659a",
   "metadata": {},
   "outputs": [],
   "source": [
    "data[\"lwp\"] = xr.where(data.ta >= 263., data.qall, 0)  \n",
    "data[\"iwp\"] = xr.where(data.ta <  263., data.qall, 0)  \n",
    "\n",
    "# Liquid and ice effective sizes in microns \n",
    "data[\"rel\"] = xr.where(data.lwp > 0., 10., 0)  \n",
    "data[\"rei\"] = xr.where(data.iwp > 0,  35., 0)  "
   ]
  },
  {
   "cell_type": "code",
   "execution_count": null,
   "id": "db92081b-dd5c-43d0-95a4-c6bb64de7b96",
   "metadata": {},
   "outputs": [],
   "source": [
    "data"
   ]
  },
  {
   "cell_type": "markdown",
   "id": "ba4a42cf-399c-45b2-a211-3f9fdb3f9f43",
   "metadata": {
    "lines_to_next_cell": 0
   },
   "source": [
    "# RTE and RRTMPG initialization "
   ]
  },
  {
   "cell_type": "code",
   "execution_count": null,
   "id": "75a79c03-73d6-4173-9639-6715225b91cb",
   "metadata": {
    "lines_to_next_cell": 2
   },
   "outputs": [],
   "source": [
    "cloud_optics_lw = rrtmgp_cloud_optics.load_cloud_optics(\n",
    "    cloud_optics_file=CloudOpticsFiles.LW_BND\n",
    ")\n",
    "gas_optics_lw = rrtmgp_gas_optics.load_gas_optics(\n",
    "    gas_optics_file=GasOpticsFiles.LW_G128\n",
    ")\n",
    "\n",
    "cloud_optics_sw = rrtmgp_cloud_optics.load_cloud_optics(\n",
    "    cloud_optics_file=CloudOpticsFiles.SW_BND\n",
    ")\n",
    "gas_optics_sw = rrtmgp_gas_optics.load_gas_optics(\n",
    "    gas_optics_file=GasOpticsFiles.SW_G112\n",
    ")"
   ]
  },
  {
   "cell_type": "markdown",
   "id": "04c45281",
   "metadata": {},
   "source": [
    "# Compute fluxes - shortwave "
   ]
  },
  {
   "cell_type": "code",
   "execution_count": null,
   "id": "e9a398ed",
   "metadata": {},
   "outputs": [],
   "source": [
    "fluxes = rte_solve(\n",
    "    xr.merge(\n",
    "        [cloud_optics_sw.compute_cloud_optics(data).add_to(\n",
    "            gas_optics_sw.compute_gas_optics(\n",
    "                data, \n",
    "                problem_type=OpticsProblemTypes.TWO_STREAM, \n",
    "                add_to_input=False,\n",
    "            ), \n",
    "            delta_scale=True,\n",
    "        ), \n",
    "        xr.Dataset(data_vars = {\"surface_albedo\":0.06, \n",
    "                                \"mu0\":0.86})],\n",
    "    ).rename_dims({\"pressure\":\"layer\", \n",
    "                   \"pressure_h\":\"level\"}), \n",
    "    add_to_input = False,\n",
    ")"
   ]
  },
  {
   "cell_type": "markdown",
   "id": "38ef461e",
   "metadata": {
    "lines_to_next_cell": 2
   },
   "source": [
    "# Compute fluxes - shortwave "
   ]
  },
  {
   "cell_type": "code",
   "execution_count": null,
   "id": "f5329280",
   "metadata": {
    "lines_to_next_cell": 2
   },
   "outputs": [],
   "source": [
    "fluxes = rte_solve(\n",
    "    xr.merge(\n",
    "        [cloud_optics_lw.compute_cloud_optics(data).add_to(\n",
    "            gas_optics_lw.compute_gas_optics(\n",
    "                data, \n",
    "                problem_type=OpticsProblemTypes.ABSORPTION, \n",
    "                add_to_input=False,\n",
    "            ), \n",
    "        ), \n",
    "        xr.Dataset(data_vars = {\"surface_emissivity\":0.98})],\n",
    "    ).rename_dims({\"pressure\":\"layer\", \n",
    "                   \"pressure_h\":\"level\"}), \n",
    "    add_to_input = False,\n",
    ")"
   ]
  }
 ],
 "metadata": {
  "kernelspec": {
   "display_name": "pyRTE notebooks",
   "language": "python",
   "name": "pyrte_notebooks"
  },
  "language_info": {
   "codemirror_mode": {
    "name": "ipython",
    "version": 3
   },
   "file_extension": ".py",
   "mimetype": "text/x-python",
   "name": "python",
   "nbconvert_exporter": "python",
   "pygments_lexer": "ipython3",
   "version": "3.12.10"
  }
 },
 "nbformat": 4,
 "nbformat_minor": 5
}
