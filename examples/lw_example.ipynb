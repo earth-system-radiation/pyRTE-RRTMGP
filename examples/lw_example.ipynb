{
 "cells": [
  {
   "cell_type": "code",
   "execution_count": 1,
   "metadata": {},
   "outputs": [],
   "source": [
    "import numpy as np\n",
    "import xarray as xr\n",
    "\n",
    "from pyrte_rrtmgp import rrtmgp_gas_optics\n",
    "from pyrte_rrtmgp.kernels.rte import lw_solver_noscat\n",
    "\n",
    "\n",
    "ERROR_TOLERANCE = 1e-7\n",
    "\n",
    "rte_rrtmgp_dir = \"../../rrtmgp-data\"\n",
    "clear_sky_example_files = f\"{rte_rrtmgp_dir}/examples/rfmip-clear-sky/inputs\"\n",
    "\n",
    "rfmip = xr.load_dataset(\n",
    "    f\"{clear_sky_example_files}/multiple_input4MIPs_radiation_RFMIP_UColorado-RFMIP-1-2_none.nc\"\n",
    ")\n",
    "rfmip = rfmip.sel(expt=0)  # only one experiment\n",
    "\n",
    "kdist = xr.load_dataset(f\"{rte_rrtmgp_dir}/rrtmgp-gas-lw-g256.nc\")\n",
    "rrtmgp_gas_optics = kdist.gas_optics.load_atmospheric_conditions(rfmip)\n",
    "\n",
    "_, solver_flux_up, solver_flux_down, _, _ = lw_solver_noscat(\n",
    "    tau=rrtmgp_gas_optics.tau,\n",
    "    lay_source=rrtmgp_gas_optics.lay_src,\n",
    "    lev_source=rrtmgp_gas_optics.lev_src,\n",
    "    sfc_emis=rfmip[\"surface_emissivity\"].data,\n",
    "    sfc_src=rrtmgp_gas_optics.sfc_src,\n",
    "    sfc_src_jac=rrtmgp_gas_optics.sfc_src_jac,\n",
    ")\n",
    "\n",
    "rlu = xr.load_dataset(\n",
    "    \"../tests/test_python_frontend/rlu_Efx_RTE-RRTMGP-181204_rad-irf_r1i1p1f1_gn.nc\"\n",
    ")\n",
    "ref_flux_up = rlu.isel(expt=0)[\"rlu\"].values\n",
    "\n",
    "rld = xr.load_dataset(\n",
    "    \"../tests/test_python_frontend/rld_Efx_RTE-RRTMGP-181204_rad-irf_r1i1p1f1_gn.nc\"\n",
    ")\n",
    "ref_flux_down = rld.isel(expt=0)[\"rld\"].values\n",
    "\n",
    "\n",
    "assert np.isclose(solver_flux_up, ref_flux_up, atol=ERROR_TOLERANCE).all()\n",
    "assert np.isclose(solver_flux_down, ref_flux_down, atol=ERROR_TOLERANCE).all()\n"
   ]
  }
 ],
 "metadata": {
  "kernelspec": {
   "display_name": "venv",
   "language": "python",
   "name": "python3"
  },
  "language_info": {
   "codemirror_mode": {
    "name": "ipython",
    "version": 3
   },
   "file_extension": ".py",
   "mimetype": "text/x-python",
   "name": "python",
   "nbconvert_exporter": "python",
   "pygments_lexer": "ipython3",
   "version": "3.12.7"
  }
 },
 "nbformat": 4,
 "nbformat_minor": 2
}
