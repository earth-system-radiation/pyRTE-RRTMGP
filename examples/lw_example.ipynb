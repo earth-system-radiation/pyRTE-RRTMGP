{
 "cells": [
  {
   "cell_type": "markdown",
   "metadata": {},
   "source": [
    "# Longwave Radiation Transfer Example\n",
    "\n",
    "This notebook demonstrates how to compute longwave radiation fluxes using the `pyrte_rrtmgp` library. Specifically:\n",
    "\n",
    "- It downloads the required data\n",
    "- Computes the gas optics using an absorption approach\n",
    "- Solves the radiation transfer equations\n",
    "- Validates the computed fluxes against reference datasets\n",
    "\n",
    "See the [documentation](https://pyrte-rrtmgp.readthedocs.io/en/latest/) for more information."
   ]
  },
  {
   "cell_type": "code",
   "execution_count": null,
   "metadata": {},
   "outputs": [],
   "source": [
    "import os\n",
    "import numpy as np\n",
    "import xarray as xr\n",
    "import dask"
   ]
  },
  {
   "cell_type": "markdown",
   "metadata": {},
   "source": [
    "## Importing pyrte_rrtmgp Modules\n",
    "\n",
    "The following modules from `pyrte_rrtmgp` are imported to handle gas optics and solve the radiation transfer equations."
   ]
  },
  {
   "cell_type": "code",
   "execution_count": null,
   "metadata": {},
   "outputs": [],
   "source": [
    "from pyrte_rrtmgp import rrtmgp_gas_optics\n",
    "from pyrte_rrtmgp.rrtmgp_gas_optics import GasOpticsFiles, load_gas_optics\n",
    "from pyrte_rrtmgp.rrtmgp_data import download_rrtmgp_data\n",
    "from pyrte_rrtmgp.rte_solver import RTESolver\n",
    "\n",
    "ERROR_TOLERANCE = 1e-7"
   ]
  },
  {
   "cell_type": "markdown",
   "metadata": {},
   "source": [
    "## Data Download and Directory Setup\n",
    "\n",
    "Download the RRTMGP data and set up the directory paths for input and reference files."
   ]
  },
  {
   "cell_type": "code",
   "execution_count": null,
   "metadata": {},
   "outputs": [],
   "source": [
    "rte_rrtmgp_dir = download_rrtmgp_data()\n",
    "rfmip_dir = os.path.join(rte_rrtmgp_dir, \"examples\", \"rfmip-clear-sky\")\n",
    "input_dir = os.path.join(rfmip_dir, \"inputs\")\n",
    "ref_dir = os.path.join(rfmip_dir, \"reference\")\n",
    "os.listdir(rte_rrtmgp_dir)"
   ]
  },
  {
   "cell_type": "markdown",
   "metadata": {},
   "source": [
    "## Loading Gas Optics and Atmosphere Dataset\n",
    "\n",
    "Load the longwave gas optics file (`LW_G256`) and the corresponding atmosphere dataset for the simulation."
   ]
  },
  {
   "cell_type": "code",
   "execution_count": null,
   "metadata": {},
   "outputs": [],
   "source": [
    "gas_optics_lw = load_gas_optics(gas_optics_file=GasOpticsFiles.LW_G256)\n",
    "\n",
    "atmosphere_file = \"multiple_input4MIPs_radiation_RFMIP_UColorado-RFMIP-1-2_none.nc\"\n",
    "atmosphere_path = os.path.join(input_dir, atmosphere_file)\n",
    "atmosphere = xr.open_dataset(atmosphere_path, chunks={\"expt\": 3})\n",
    "atmosphere"
   ]
  },
  {
   "cell_type": "markdown",
   "metadata": {},
   "source": [
    "## Computing Gas Optics and Solving Radiation Transfer Equations\n",
    "\n",
    "Compute the gas optics using an absorption method and solve the longwave radiation transfer equations to obtain the fluxes."
   ]
  },
  {
   "cell_type": "code",
   "execution_count": null,
   "metadata": {},
   "outputs": [],
   "source": [
    "gas_optics_lw.gas_optics.compute(atmosphere, problem_type=\"absorption\")\n",
    "\n",
    "solver = RTESolver()\n",
    "fluxes = solver.solve(atmosphere, add_to_input=False)\n",
    "fluxes"
   ]
  },
  {
   "cell_type": "markdown",
   "metadata": {},
   "source": [
    "## Validating Computed Fluxes Against Reference Data\n",
    "\n",
    "Load the reference datasets for upward and downward longwave fluxes and validate that the computed fluxes match within the specified error tolerance."
   ]
  },
  {
   "cell_type": "code",
   "execution_count": null,
   "metadata": {},
   "outputs": [],
   "source": [
    "rlu_reference = f\"{ref_dir}/rlu_Efx_RTE-RRTMGP-181204_rad-irf_r1i1p1f1_gn.nc\"\n",
    "rld_reference = f\"{ref_dir}/rld_Efx_RTE-RRTMGP-181204_rad-irf_r1i1p1f1_gn.nc\"\n",
    "rlu = xr.load_dataset(rlu_reference, decode_cf=False)\n",
    "rld = xr.load_dataset(rld_reference, decode_cf=False)\n",
    "\n",
    "assert np.isclose(\n",
    "    fluxes[\"lw_flux_up\"], rlu[\"rlu\"], atol=ERROR_TOLERANCE\n",
    ").all(), \"Longwave flux up mismatch\"\n",
    "assert np.isclose(\n",
    "    fluxes[\"lw_flux_down\"], rld[\"rld\"], atol=ERROR_TOLERANCE\n",
    ").all(), \"Longwave flux down mismatch\"\n",
    "\n",
    "print(\"Longwave radiation transfer calculations validated successfully!\")"
   ]
  },
  {
   "cell_type": "code",
   "execution_count": null,
   "metadata": {},
   "outputs": [],
   "source": []
  }
 ],
 "metadata": {
  "kernelspec": {
   "display_name": "pyrte-dev",
   "language": "python",
   "name": "python3"
  },
  "language_info": {
   "codemirror_mode": {
    "name": "ipython",
    "version": 3
   },
   "file_extension": ".py",
   "mimetype": "text/x-python",
   "name": "python",
   "nbconvert_exporter": "python",
   "pygments_lexer": "ipython3",
   "version": "3.11.11"
  }
 },
 "nbformat": 4,
 "nbformat_minor": 4
}
