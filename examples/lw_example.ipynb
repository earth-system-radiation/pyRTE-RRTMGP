{
 "cells": [
  {
   "cell_type": "code",
   "execution_count": 1,
   "metadata": {},
   "outputs": [],
   "source": [
    "import multiprocessing\n",
    "import numpy as np\n",
    "import xarray as xr\n",
    "import dask\n",
    "from dask.distributed import Client\n",
    "from pyrte_rrtmgp.data_types import RFMIPExampleFiles\n",
    "from pyrte_rrtmgp.utils import load_rrtmgp_file\n",
    "\n",
    "# try:\n",
    "#     client = Client.current()\n",
    "# except ValueError:\n",
    "#     n_workers = multiprocessing.cpu_count()  # Get number of CPU cores available\n",
    "#     client = Client(n_workers=n_workers)\n",
    "\n",
    "from pyrte_rrtmgp import rrtmgp_gas_optics\n",
    "from pyrte_rrtmgp.rrtmgp_gas_optics import GasOpticsFiles, load_gas_optics\n",
    "from pyrte_rrtmgp.rte_solver import rte_solve\n",
    "\n",
    "ERROR_TOLERANCE = 1e-7\n",
    "\n",
    "gas_optics_lw = load_gas_optics(gas_optics_file=GasOpticsFiles.LW_G256)\n",
    "atmosphere = load_rrtmgp_file(RFMIPExampleFiles.RFMIP).chunk({\"expt\": 3})\n",
    "\n",
    "gas_optics_lw.compute_gas_optics(atmosphere, problem_type=\"absorption\")\n",
    "\n",
    "fluxes = rte_solve(atmosphere, add_to_input=False)\n",
    "\n",
    "rlu = load_rrtmgp_file(RFMIPExampleFiles.REFERENCE_RLU)\n",
    "rld = load_rrtmgp_file(RFMIPExampleFiles.REFERENCE_RLD)\n",
    "\n",
    "assert np.isclose(fluxes[\"lw_flux_up\"], rlu[\"rlu\"], atol=ERROR_TOLERANCE).all()\n",
    "assert np.isclose(fluxes[\"lw_flux_down\"], rld[\"rld\"], atol=ERROR_TOLERANCE).all()"
   ]
  }
 ],
 "metadata": {
  "kernelspec": {
   "display_name": "pyrte",
   "language": "python",
   "name": "python3"
  },
  "language_info": {
   "codemirror_mode": {
    "name": "ipython",
    "version": 3
   },
   "file_extension": ".py",
   "mimetype": "text/x-python",
   "name": "python",
   "nbconvert_exporter": "python",
   "pygments_lexer": "ipython3",
   "version": "3.11.5"
  }
 },
 "nbformat": 4,
 "nbformat_minor": 2
}
