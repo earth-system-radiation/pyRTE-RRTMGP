{
 "cells": [
  {
   "cell_type": "code",
   "execution_count": null,
   "metadata": {},
   "outputs": [],
   "source": [
    "import os\n",
    "\n",
    "import multiprocessing\n",
    "import numpy as np\n",
    "import xarray as xr\n",
    "import dask\n",
    "from dask.distributed import Client\n",
    "\n",
    "try:\n",
    "    client = Client.current()\n",
    "except ValueError:\n",
    "    n_workers = multiprocessing.cpu_count()  # Get number of CPU cores available\n",
    "    client = Client(n_workers=n_workers)\n",
    "\n",
    "from pyrte_rrtmgp import rrtmgp_gas_optics\n",
    "from pyrte_rrtmgp.rrtmgp_gas_optics import GasOpticsFiles, load_gas_optics\n",
    "from pyrte_rrtmgp.rrtmgp_data import download_rrtmgp_data\n",
    "from pyrte_rrtmgp.rte_solver import RTESolver\n",
    "\n",
    "ERROR_TOLERANCE = 1e-7\n",
    "\n",
    "rte_rrtmgp_dir = download_rrtmgp_data()\n",
    "rfmip_dir = os.path.join(rte_rrtmgp_dir, \"examples\", \"rfmip-clear-sky\")\n",
    "input_dir = os.path.join(rfmip_dir, \"inputs\")\n",
    "ref_dir = os.path.join(rfmip_dir, \"reference\")\n",
    "\n",
    "gas_optics_lw = load_gas_optics(gas_optics_file=GasOpticsFiles.LW_G256)\n",
    "\n",
    "atmosphere_file = \"multiple_input4MIPs_radiation_RFMIP_UColorado-RFMIP-1-2_none.nc\"\n",
    "atmosphere_path = os.path.join(input_dir, atmosphere_file)\n",
    "atmosphere = xr.open_dataset(atmosphere_path, chunks={\"expt\": 3})\n",
    "\n",
    "gas_optics_lw.gas_optics.compute(atmosphere, problem_type=\"absorption\")\n",
    "\n",
    "solver = RTESolver()\n",
    "fluxes = solver.solve(atmosphere, add_to_input=False)\n",
    "\n",
    "rlu_reference = f\"{ref_dir}/rlu_Efx_RTE-RRTMGP-181204_rad-irf_r1i1p1f1_gn.nc\"\n",
    "rld_reference = f\"{ref_dir}/rld_Efx_RTE-RRTMGP-181204_rad-irf_r1i1p1f1_gn.nc\"\n",
    "rlu = xr.load_dataset(rlu_reference, decode_cf=False)\n",
    "rld = xr.load_dataset(rld_reference, decode_cf=False)\n",
    "\n",
    "assert np.isclose(\n",
    "    fluxes[\"lw_flux_up\"], rlu[\"rlu\"], atol=ERROR_TOLERANCE\n",
    ").all()\n",
    "assert np.isclose(\n",
    "    fluxes[\"lw_flux_down\"], rld[\"rld\"], atol=ERROR_TOLERANCE\n",
    ").all()"
   ]
  }
 ],
 "metadata": {
  "kernelspec": {
   "display_name": "pyrte",
   "language": "python",
   "name": "python3"
  },
  "language_info": {
   "codemirror_mode": {
    "name": "ipython",
    "version": 3
   },
   "file_extension": ".py",
   "mimetype": "text/x-python",
   "name": "python",
   "nbconvert_exporter": "python",
   "pygments_lexer": "ipython3",
   "version": "3.11.5"
  }
 },
 "nbformat": 4,
 "nbformat_minor": 2
}
