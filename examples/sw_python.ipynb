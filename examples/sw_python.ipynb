{
 "cells": [
  {
   "cell_type": "code",
   "execution_count": 3,
   "metadata": {},
   "outputs": [],
   "source": [
    "import argparse\n",
    "import os\n",
    "import subprocess\n",
    "import xarray as xr\n",
    "import pyrte.pyrte as pyrte\n",
    "import sys\n",
    "\n",
    "rte_rrtmgp_dir = \"/Users/josue/Documents/makepath/rte-python/rrtmgp-data\"\n",
    "clear_sky_example_files = f\"{rte_rrtmgp_dir}/examples/rfmip-clear-sky/inputs\"\n",
    "\n",
    "conds_file = xr.load_dataset(\n",
    "    f\"{clear_sky_example_files}/multiple_input4MIPs_radiation_RFMIP_UColorado-RFMIP-1-2_none.nc\"\n",
    ")\n",
    "# lw_gas_coeffs = xr.load_dataset(f\"{rte_rrtmgp_dir}/rrtmgp-lw-g256.nc\")\n",
    "sw_gas_coeffs = xr.load_dataset(f\"{rte_rrtmgp_dir}/rrtmgp-gas-sw-g224.nc\")\n",
    "\n",
    "\n",
    "rfmip = conds_file\n",
    "kdist = sw_gas_coeffs\n",
    "\n",
    "flxdn_file = xr.load_dataset(\n",
    "    f\"{clear_sky_example_files}/rsd_Efx_RTE-RRTMGP-181204_rad-irf_r1i1p1f1_gn.nc\"\n",
    ")\n",
    "flxup_file = xr.load_dataset(\n",
    "    f\"{clear_sky_example_files}/rsu_Efx_RTE-RRTMGP-181204_rad-irf_r1i1p1f1_gn.nc\"\n",
    ")\n",
    "\n",
    "\n",
    "# RRTMGP won't run with pressure less than its minimum. so we add a small value to the minimum pressure\n",
    "press_min = rfmip[\"pres_level\"].min()\n",
    "min_index = rfmip[\"pres_level\"].argmin()\n",
    "rfmip[\"pres_level\"][min_index] = press_min + sys.float_info.epsilon\n",
    "\n",
    "# Filter angles < 90, as it should be nighttime\n",
    "rfmip[\"solar_zenith_angle\"] = rfmip[\"solar_zenith_angle\"].where(rfmip[\"solar_zenith_angle\"] <= 90)\n",
    "\n",
    "# use mo_gas_optics_rrtmgp,  only: ty_gas_optics_rrtmgp\n",
    "\n",
    "# ! Compute the optical properties of the atmosphere and the Planck source functions\n",
    "# !    from pressures, temperatures, and gas concentrations...\n",
    "# !\n",
    "# call stop_on_err(k_dist%gas_optics(p_lay(:,:,b), &\n",
    "#                                     p_lev(:,:,b),       &\n",
    "#                                     t_lay(:,:,b),       &\n",
    "#                                     gas_conc_array(b),  &\n",
    "#                                     optical_props,      &\n",
    "#                                     toa_flux))\n"
   ]
  }
 ],
 "metadata": {
  "kernelspec": {
   "display_name": "venv",
   "language": "python",
   "name": "python3"
  },
  "language_info": {
   "codemirror_mode": {
    "name": "ipython",
    "version": 3
   },
   "file_extension": ".py",
   "mimetype": "text/x-python",
   "name": "python",
   "nbconvert_exporter": "python",
   "pygments_lexer": "ipython3",
   "version": "3.11.5"
  }
 },
 "nbformat": 4,
 "nbformat_minor": 2
}
